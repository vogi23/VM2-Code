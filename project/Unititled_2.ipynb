{
 "cells": [
  {
   "cell_type": "code",
   "execution_count": 1,
   "metadata": {},
   "outputs": [
    {
     "name": "stdout",
     "output_type": "stream",
     "text": [
      "warning in stationary: failed to import cython module: falling back to numpy\n",
      "warning in coregionalize: failed to import cython module: falling back to numpy\n",
      "warning in choleskies: failed to import cython module: falling back to numpy\n"
     ]
    }
   ],
   "source": [
    "import numpy as np\n",
    "import pandas as pd\n",
    "import GPy\n",
    "\n",
    "from sklearn.gaussian_process.kernels import RBF\n",
    "from sklearn.gaussian_process import GaussianProcessClassifier\n",
    "\n",
    "from sklearn.model_selection import train_test_split"
   ]
  },
  {
   "cell_type": "code",
   "execution_count": 2,
   "metadata": {},
   "outputs": [
    {
     "data": {
      "text/html": [
       "<div>\n",
       "<style scoped>\n",
       "    .dataframe tbody tr th:only-of-type {\n",
       "        vertical-align: middle;\n",
       "    }\n",
       "\n",
       "    .dataframe tbody tr th {\n",
       "        vertical-align: top;\n",
       "    }\n",
       "\n",
       "    .dataframe thead th {\n",
       "        text-align: right;\n",
       "    }\n",
       "</style>\n",
       "<table border=\"1\" class=\"dataframe\">\n",
       "  <thead>\n",
       "    <tr style=\"text-align: right;\">\n",
       "      <th></th>\n",
       "      <th>H0</th>\n",
       "      <th>H1</th>\n",
       "      <th>H2</th>\n",
       "      <th>H3</th>\n",
       "      <th>H4</th>\n",
       "      <th>H5</th>\n",
       "      <th>H6</th>\n",
       "      <th>H7</th>\n",
       "      <th>H8</th>\n",
       "      <th>K0</th>\n",
       "      <th>...</th>\n",
       "      <th>E2</th>\n",
       "      <th>E3</th>\n",
       "      <th>E4</th>\n",
       "      <th>E5</th>\n",
       "      <th>E6</th>\n",
       "      <th>E7</th>\n",
       "      <th>E8</th>\n",
       "      <th>Geschoben</th>\n",
       "      <th>Player</th>\n",
       "      <th>Aktion</th>\n",
       "    </tr>\n",
       "  </thead>\n",
       "  <tbody>\n",
       "    <tr>\n",
       "      <th>0</th>\n",
       "      <td>0</td>\n",
       "      <td>0</td>\n",
       "      <td>1</td>\n",
       "      <td>0</td>\n",
       "      <td>0</td>\n",
       "      <td>0</td>\n",
       "      <td>1</td>\n",
       "      <td>0</td>\n",
       "      <td>0</td>\n",
       "      <td>1</td>\n",
       "      <td>...</td>\n",
       "      <td>0</td>\n",
       "      <td>0</td>\n",
       "      <td>0</td>\n",
       "      <td>0</td>\n",
       "      <td>1</td>\n",
       "      <td>0</td>\n",
       "      <td>0</td>\n",
       "      <td>1</td>\n",
       "      <td>1631</td>\n",
       "      <td>2</td>\n",
       "    </tr>\n",
       "    <tr>\n",
       "      <th>1</th>\n",
       "      <td>0</td>\n",
       "      <td>0</td>\n",
       "      <td>1</td>\n",
       "      <td>0</td>\n",
       "      <td>1</td>\n",
       "      <td>1</td>\n",
       "      <td>0</td>\n",
       "      <td>0</td>\n",
       "      <td>0</td>\n",
       "      <td>0</td>\n",
       "      <td>...</td>\n",
       "      <td>0</td>\n",
       "      <td>0</td>\n",
       "      <td>0</td>\n",
       "      <td>0</td>\n",
       "      <td>0</td>\n",
       "      <td>1</td>\n",
       "      <td>0</td>\n",
       "      <td>0</td>\n",
       "      <td>64310</td>\n",
       "      <td>6</td>\n",
       "    </tr>\n",
       "    <tr>\n",
       "      <th>2</th>\n",
       "      <td>0</td>\n",
       "      <td>0</td>\n",
       "      <td>0</td>\n",
       "      <td>0</td>\n",
       "      <td>0</td>\n",
       "      <td>0</td>\n",
       "      <td>0</td>\n",
       "      <td>0</td>\n",
       "      <td>1</td>\n",
       "      <td>0</td>\n",
       "      <td>...</td>\n",
       "      <td>0</td>\n",
       "      <td>0</td>\n",
       "      <td>0</td>\n",
       "      <td>0</td>\n",
       "      <td>1</td>\n",
       "      <td>0</td>\n",
       "      <td>1</td>\n",
       "      <td>0</td>\n",
       "      <td>16721</td>\n",
       "      <td>1</td>\n",
       "    </tr>\n",
       "    <tr>\n",
       "      <th>3</th>\n",
       "      <td>1</td>\n",
       "      <td>0</td>\n",
       "      <td>0</td>\n",
       "      <td>0</td>\n",
       "      <td>1</td>\n",
       "      <td>0</td>\n",
       "      <td>0</td>\n",
       "      <td>0</td>\n",
       "      <td>1</td>\n",
       "      <td>1</td>\n",
       "      <td>...</td>\n",
       "      <td>0</td>\n",
       "      <td>0</td>\n",
       "      <td>1</td>\n",
       "      <td>0</td>\n",
       "      <td>1</td>\n",
       "      <td>0</td>\n",
       "      <td>0</td>\n",
       "      <td>1</td>\n",
       "      <td>0</td>\n",
       "      <td>4</td>\n",
       "    </tr>\n",
       "    <tr>\n",
       "      <th>4</th>\n",
       "      <td>1</td>\n",
       "      <td>1</td>\n",
       "      <td>0</td>\n",
       "      <td>0</td>\n",
       "      <td>0</td>\n",
       "      <td>0</td>\n",
       "      <td>0</td>\n",
       "      <td>0</td>\n",
       "      <td>0</td>\n",
       "      <td>0</td>\n",
       "      <td>...</td>\n",
       "      <td>1</td>\n",
       "      <td>0</td>\n",
       "      <td>0</td>\n",
       "      <td>0</td>\n",
       "      <td>0</td>\n",
       "      <td>0</td>\n",
       "      <td>0</td>\n",
       "      <td>1</td>\n",
       "      <td>72620</td>\n",
       "      <td>4</td>\n",
       "    </tr>\n",
       "    <tr>\n",
       "      <th>...</th>\n",
       "      <td>...</td>\n",
       "      <td>...</td>\n",
       "      <td>...</td>\n",
       "      <td>...</td>\n",
       "      <td>...</td>\n",
       "      <td>...</td>\n",
       "      <td>...</td>\n",
       "      <td>...</td>\n",
       "      <td>...</td>\n",
       "      <td>...</td>\n",
       "      <td>...</td>\n",
       "      <td>...</td>\n",
       "      <td>...</td>\n",
       "      <td>...</td>\n",
       "      <td>...</td>\n",
       "      <td>...</td>\n",
       "      <td>...</td>\n",
       "      <td>...</td>\n",
       "      <td>...</td>\n",
       "      <td>...</td>\n",
       "      <td>...</td>\n",
       "    </tr>\n",
       "    <tr>\n",
       "      <th>161689</th>\n",
       "      <td>0</td>\n",
       "      <td>1</td>\n",
       "      <td>0</td>\n",
       "      <td>0</td>\n",
       "      <td>0</td>\n",
       "      <td>1</td>\n",
       "      <td>0</td>\n",
       "      <td>0</td>\n",
       "      <td>0</td>\n",
       "      <td>0</td>\n",
       "      <td>...</td>\n",
       "      <td>0</td>\n",
       "      <td>1</td>\n",
       "      <td>0</td>\n",
       "      <td>1</td>\n",
       "      <td>1</td>\n",
       "      <td>0</td>\n",
       "      <td>0</td>\n",
       "      <td>1</td>\n",
       "      <td>55942</td>\n",
       "      <td>3</td>\n",
       "    </tr>\n",
       "    <tr>\n",
       "      <th>161690</th>\n",
       "      <td>0</td>\n",
       "      <td>0</td>\n",
       "      <td>1</td>\n",
       "      <td>0</td>\n",
       "      <td>0</td>\n",
       "      <td>0</td>\n",
       "      <td>0</td>\n",
       "      <td>1</td>\n",
       "      <td>0</td>\n",
       "      <td>1</td>\n",
       "      <td>...</td>\n",
       "      <td>0</td>\n",
       "      <td>1</td>\n",
       "      <td>0</td>\n",
       "      <td>0</td>\n",
       "      <td>1</td>\n",
       "      <td>0</td>\n",
       "      <td>0</td>\n",
       "      <td>0</td>\n",
       "      <td>0</td>\n",
       "      <td>6</td>\n",
       "    </tr>\n",
       "    <tr>\n",
       "      <th>161691</th>\n",
       "      <td>0</td>\n",
       "      <td>0</td>\n",
       "      <td>0</td>\n",
       "      <td>0</td>\n",
       "      <td>0</td>\n",
       "      <td>0</td>\n",
       "      <td>1</td>\n",
       "      <td>0</td>\n",
       "      <td>0</td>\n",
       "      <td>0</td>\n",
       "      <td>...</td>\n",
       "      <td>0</td>\n",
       "      <td>0</td>\n",
       "      <td>1</td>\n",
       "      <td>1</td>\n",
       "      <td>0</td>\n",
       "      <td>1</td>\n",
       "      <td>0</td>\n",
       "      <td>0</td>\n",
       "      <td>0</td>\n",
       "      <td>3</td>\n",
       "    </tr>\n",
       "    <tr>\n",
       "      <th>161692</th>\n",
       "      <td>0</td>\n",
       "      <td>1</td>\n",
       "      <td>0</td>\n",
       "      <td>1</td>\n",
       "      <td>0</td>\n",
       "      <td>0</td>\n",
       "      <td>0</td>\n",
       "      <td>0</td>\n",
       "      <td>1</td>\n",
       "      <td>1</td>\n",
       "      <td>...</td>\n",
       "      <td>1</td>\n",
       "      <td>0</td>\n",
       "      <td>0</td>\n",
       "      <td>0</td>\n",
       "      <td>0</td>\n",
       "      <td>0</td>\n",
       "      <td>1</td>\n",
       "      <td>0</td>\n",
       "      <td>60659</td>\n",
       "      <td>6</td>\n",
       "    </tr>\n",
       "    <tr>\n",
       "      <th>161693</th>\n",
       "      <td>0</td>\n",
       "      <td>0</td>\n",
       "      <td>0</td>\n",
       "      <td>0</td>\n",
       "      <td>1</td>\n",
       "      <td>0</td>\n",
       "      <td>0</td>\n",
       "      <td>0</td>\n",
       "      <td>0</td>\n",
       "      <td>0</td>\n",
       "      <td>...</td>\n",
       "      <td>0</td>\n",
       "      <td>1</td>\n",
       "      <td>1</td>\n",
       "      <td>0</td>\n",
       "      <td>0</td>\n",
       "      <td>0</td>\n",
       "      <td>0</td>\n",
       "      <td>0</td>\n",
       "      <td>19345</td>\n",
       "      <td>3</td>\n",
       "    </tr>\n",
       "  </tbody>\n",
       "</table>\n",
       "<p>161694 rows × 39 columns</p>\n",
       "</div>"
      ],
      "text/plain": [
       "        H0  H1  H2  H3  H4  H5  H6  H7  H8  K0  ...  E2  E3  E4  E5  E6  E7  \\\n",
       "0        0   0   1   0   0   0   1   0   0   1  ...   0   0   0   0   1   0   \n",
       "1        0   0   1   0   1   1   0   0   0   0  ...   0   0   0   0   0   1   \n",
       "2        0   0   0   0   0   0   0   0   1   0  ...   0   0   0   0   1   0   \n",
       "3        1   0   0   0   1   0   0   0   1   1  ...   0   0   1   0   1   0   \n",
       "4        1   1   0   0   0   0   0   0   0   0  ...   1   0   0   0   0   0   \n",
       "...     ..  ..  ..  ..  ..  ..  ..  ..  ..  ..  ...  ..  ..  ..  ..  ..  ..   \n",
       "161689   0   1   0   0   0   1   0   0   0   0  ...   0   1   0   1   1   0   \n",
       "161690   0   0   1   0   0   0   0   1   0   1  ...   0   1   0   0   1   0   \n",
       "161691   0   0   0   0   0   0   1   0   0   0  ...   0   0   1   1   0   1   \n",
       "161692   0   1   0   1   0   0   0   0   1   1  ...   1   0   0   0   0   0   \n",
       "161693   0   0   0   0   1   0   0   0   0   0  ...   0   1   1   0   0   0   \n",
       "\n",
       "        E8  Geschoben  Player  Aktion  \n",
       "0        0          1    1631       2  \n",
       "1        0          0   64310       6  \n",
       "2        1          0   16721       1  \n",
       "3        0          1       0       4  \n",
       "4        0          1   72620       4  \n",
       "...     ..        ...     ...     ...  \n",
       "161689   0          1   55942       3  \n",
       "161690   0          0       0       6  \n",
       "161691   0          0       0       3  \n",
       "161692   1          0   60659       6  \n",
       "161693   0          0   19345       3  \n",
       "\n",
       "[161694 rows x 39 columns]"
      ]
     },
     "execution_count": 2,
     "metadata": {},
     "output_type": "execute_result"
    }
   ],
   "source": [
    "import itertools\n",
    "datafile = 'data/jass/rnd_01.csv'\n",
    "col_names = [a+str(b) for (a,b) in itertools.product([farbe for farbe in 'HKSE'], [bild for bild in range(9)])]+[\"Geschoben\", \"Player\", \"Aktion\"]\n",
    "data = pd.read_csv(datafile, header=None, names=col_names)\n",
    "data"
   ]
  },
  {
   "cell_type": "markdown",
   "metadata": {},
   "source": [
    "## Binary Classification on targets 0 and 1"
   ]
  },
  {
   "cell_type": "code",
   "execution_count": 3,
   "metadata": {},
   "outputs": [],
   "source": [
    "# select subset of data\n",
    "target_classes = [0,1]\n",
    "zeroone = data[data['Aktion'].isin(target_classes)]\n",
    "zeroone = zeroone.drop(columns='Player')\n",
    "X = zeroone.loc[:,'H0':'Geschoben'].values\n",
    "y = zeroone.loc[:,'Aktion']\n",
    "\n",
    "# make sure targets are binary (required by GPC implementation of sklearn)\n",
    "y = y.isin(target_classes[0:1]) # first class = 1, second = 0\n",
    "y = y.values"
   ]
  },
  {
   "cell_type": "code",
   "execution_count": 51,
   "metadata": {},
   "outputs": [
    {
     "name": "stdout",
     "output_type": "stream",
     "text": [
      "Train: 50, Test: 10000\n"
     ]
    }
   ],
   "source": [
    "X_train, X_test, y_train, y_test = train_test_split(X,y,train_size=50, test_size=10000, random_state=23)\n",
    "print('Train: %i, Test: %i' % (len(y_train), len(y_test)))"
   ]
  },
  {
   "cell_type": "markdown",
   "metadata": {},
   "source": [
    "### With GPy (uses EP approx)"
   ]
  },
  {
   "cell_type": "code",
   "execution_count": 55,
   "metadata": {},
   "outputs": [
    {
     "name": "stdout",
     "output_type": "stream",
     "text": [
      "CPU times: user 60 ms, sys: 70 ms, total: 130 ms\n",
      "Wall time: 179 ms\n"
     ]
    }
   ],
   "source": [
    "%%time\n",
    "m = GPy.models.GPClassification(X_train,y_train.reshape(-1,1))"
   ]
  },
  {
   "cell_type": "code",
   "execution_count": 56,
   "metadata": {},
   "outputs": [
    {
     "name": "stdout",
     "output_type": "stream",
     "text": [
      "CPU times: user 670 ms, sys: 420 ms, total: 1.09 s\n",
      "Wall time: 960 ms\n"
     ]
    }
   ],
   "source": [
    "%%time\n",
    "for i in range(3):\n",
    "    m.optimize('bfgs', max_iters=100)"
   ]
  },
  {
   "cell_type": "code",
   "execution_count": 57,
   "metadata": {},
   "outputs": [
    {
     "name": "stdout",
     "output_type": "stream",
     "text": [
      "Accuracy: 0.845\n",
      "Kernel Hyperparams:\n",
      "  variance          19.0\n",
      "  length_scale       6.4\n",
      "Log Marginal Likelihood: -27.7\n"
     ]
    }
   ],
   "source": [
    "pred_prob_means = m.predict(X_test)[0].reshape(-1)\n",
    "pred = pred_prob_means > 0.5\n",
    "score = np.equal(pred, y_test).mean()\n",
    "print('Accuracy: %.3f' % score)\n",
    "print('Kernel Hyperparams:\\n  variance    %10.1f\\n  length_scale%10.1f\\nLog Marginal Likelihood: %.1f' % (m.kern.variance, m.kern.lengthscale, m.log_likelihood()))"
   ]
  },
  {
   "cell_type": "code",
   "execution_count": 58,
   "metadata": {},
   "outputs": [],
   "source": [
    "m.save('test')"
   ]
  },
  {
   "cell_type": "code",
   "execution_count": 59,
   "metadata": {},
   "outputs": [],
   "source": [
    "import h5py\n",
    "filename = 'test'\n",
    "\n",
    "with h5py.File(filename, 'r') as f:\n",
    "    d = list(f['param_array'])\n",
    "m2 = GPy.models.GPClassification(X_train, y_train.reshape(-1,1))\n",
    "m2[:] = d"
   ]
  },
  {
   "cell_type": "code",
   "execution_count": 60,
   "metadata": {},
   "outputs": [
    {
     "name": "stdout",
     "output_type": "stream",
     "text": [
      "Accuracy: 0.840\n",
      "Kernel Hyperparams:\n",
      "  variance          19.0\n",
      "  length_scale       6.4\n",
      "Log Marginal Likelihood: -31.0\n"
     ]
    }
   ],
   "source": [
    "pred_prob_means = m2.predict(X_test)[0].reshape(-1)\n",
    "pred = pred_prob_means > 0.5\n",
    "score = np.equal(pred, y_test).mean()\n",
    "print('Accuracy: %.3f' % score)\n",
    "print('Kernel Hyperparams:\\n  variance    %10.1f\\n  length_scale%10.1f\\nLog Marginal Likelihood: %.1f' % (m2.kern.variance, m2.kern.lengthscale, m2.log_likelihood()))"
   ]
  },
  {
   "cell_type": "markdown",
   "metadata": {},
   "source": [
    "### Increasing training set size"
   ]
  },
  {
   "cell_type": "code",
   "execution_count": 11,
   "metadata": {},
   "outputs": [
    {
     "name": "stdout",
     "output_type": "stream",
     "text": [
      "Train: 1000, Test: 10000\n"
     ]
    }
   ],
   "source": [
    "X_train, X_test, y_train, y_test = train_test_split(X,y,train_size=1000, test_size=10000, random_state=23)\n",
    "print('Train: %i, Test: %i' % (len(y_train), len(y_test)))"
   ]
  },
  {
   "cell_type": "code",
   "execution_count": 12,
   "metadata": {},
   "outputs": [
    {
     "name": "stdout",
     "output_type": "stream",
     "text": [
      "CPU times: user 1min 17s, sys: 26.7 s, total: 1min 44s\n",
      "Wall time: 52.5 s\n"
     ]
    }
   ],
   "source": [
    "%%time\n",
    "m = GPy.models.GPClassification(X_train,y_train.reshape(-1,1))"
   ]
  },
  {
   "cell_type": "code",
   "execution_count": 13,
   "metadata": {},
   "outputs": [
    {
     "name": "stdout",
     "output_type": "stream",
     "text": [
      "CPU times: user 6min 13s, sys: 2min 10s, total: 8min 24s\n",
      "Wall time: 4min 13s\n"
     ]
    }
   ],
   "source": [
    "%%time\n",
    "for i in range(3):\n",
    "    m.optimize('bfgs', max_iters=100)"
   ]
  },
  {
   "cell_type": "code",
   "execution_count": 14,
   "metadata": {},
   "outputs": [
    {
     "name": "stdout",
     "output_type": "stream",
     "text": [
      "Accuracy: 0.961\n",
      "Kernel Hyperparams:\n",
      "  variance        2516.6\n",
      "  length_scale      33.7\n",
      "Log Marginal Likelihood: -169.2\n"
     ]
    }
   ],
   "source": [
    "pred_prob_means = m.predict(X_test)[0].reshape(-1)\n",
    "pred = pred_prob_means > 0.5\n",
    "score = np.equal(pred, y_test).mean()\n",
    "print('Accuracy: %.3f' % score)\n",
    "print('Kernel Hyperparams:\\n  variance    %10.1f\\n  length_scale%10.1f\\nLog Marginal Likelihood: %.1f' % (m.kern.variance, m.kern.lengthscale, m.log_likelihood()))"
   ]
  },
  {
   "cell_type": "markdown",
   "metadata": {},
   "source": [
    "## Sparse Gaussian Process"
   ]
  },
  {
   "cell_type": "code",
   "execution_count": 15,
   "metadata": {},
   "outputs": [
    {
     "name": "stdout",
     "output_type": "stream",
     "text": [
      "Train: 1000, Test: 10000\n"
     ]
    }
   ],
   "source": [
    "X_train, X_test, y_train, y_test = train_test_split(X,y,train_size=1000, test_size=10000, random_state=23)\n",
    "print('Train: %i, Test: %i' % (len(y_train), len(y_test)))"
   ]
  },
  {
   "cell_type": "code",
   "execution_count": 16,
   "metadata": {},
   "outputs": [
    {
     "name": "stdout",
     "output_type": "stream",
     "text": [
      "CPU times: user 11.8 s, sys: 2.7 s, total: 14.5 s\n",
      "Wall time: 7.29 s\n"
     ]
    }
   ],
   "source": [
    "%%time\n",
    "m = GPy.models.SparseGPClassification(X_train,y_train.reshape(-1,1), num_inducing=150)"
   ]
  },
  {
   "cell_type": "code",
   "execution_count": 17,
   "metadata": {},
   "outputs": [
    {
     "name": "stdout",
     "output_type": "stream",
     "text": [
      "\n",
      "Name : SparseGPClassification\n",
      "Objective : 373.6552930688292\n",
      "Number of Parameters : 5552\n",
      "Number of Optimization Parameters : 5552\n",
      "Updates : True\n",
      "Parameters:\n",
      "  \u001b[1mSparseGPClassification.\u001b[0;0m  |               value  |  constraints  |  priors\n",
      "  \u001b[1minducing_inputs        \u001b[0;0m  |           (150, 37)  |               |        \n",
      "  \u001b[1mrbf.variance           \u001b[0;0m  |   94.44726158807654  |      +ve      |        \n",
      "  \u001b[1mrbf.lengthscale        \u001b[0;0m  |  29.308401818045912  |      +ve      |        \n",
      "\n",
      "Name : SparseGPClassification\n",
      "Objective : 195.13813730717948\n",
      "Number of Parameters : 5552\n",
      "Number of Optimization Parameters : 5552\n",
      "Updates : True\n",
      "Parameters:\n",
      "  \u001b[1mSparseGPClassification.\u001b[0;0m  |              value  |  constraints  |  priors\n",
      "  \u001b[1minducing_inputs        \u001b[0;0m  |          (150, 37)  |               |        \n",
      "  \u001b[1mrbf.variance           \u001b[0;0m  |  811.4500821743981  |      +ve      |        \n",
      "  \u001b[1mrbf.lengthscale        \u001b[0;0m  |  33.82446014888173  |      +ve      |        \n",
      "\n",
      "Name : SparseGPClassification\n",
      "Objective : 172.69336492249477\n",
      "Number of Parameters : 5552\n",
      "Number of Optimization Parameters : 5552\n",
      "Updates : True\n",
      "Parameters:\n",
      "  \u001b[1mSparseGPClassification.\u001b[0;0m  |              value  |  constraints  |  priors\n",
      "  \u001b[1minducing_inputs        \u001b[0;0m  |          (150, 37)  |               |        \n",
      "  \u001b[1mrbf.variance           \u001b[0;0m  |  811.9518660949815  |      +ve      |        \n",
      "  \u001b[1mrbf.lengthscale        \u001b[0;0m  |  23.37791513259925  |      +ve      |        \n",
      "\n",
      "Name : SparseGPClassification\n",
      "Objective : 170.42177904309756\n",
      "Number of Parameters : 5552\n",
      "Number of Optimization Parameters : 5552\n",
      "Updates : True\n",
      "Parameters:\n",
      "  \u001b[1mSparseGPClassification.\u001b[0;0m  |               value  |  constraints  |  priors\n",
      "  \u001b[1minducing_inputs        \u001b[0;0m  |           (150, 37)  |               |        \n",
      "  \u001b[1mrbf.variance           \u001b[0;0m  |   812.0395544980579  |      +ve      |        \n",
      "  \u001b[1mrbf.lengthscale        \u001b[0;0m  |  21.061417811154495  |      +ve      |        \n",
      "\n",
      "Name : SparseGPClassification\n",
      "Objective : 170.01565969372314\n",
      "Number of Parameters : 5552\n",
      "Number of Optimization Parameters : 5552\n",
      "Updates : True\n",
      "Parameters:\n",
      "  \u001b[1mSparseGPClassification.\u001b[0;0m  |               value  |  constraints  |  priors\n",
      "  \u001b[1minducing_inputs        \u001b[0;0m  |           (150, 37)  |               |        \n",
      "  \u001b[1mrbf.variance           \u001b[0;0m  |   812.0780400347585  |      +ve      |        \n",
      "  \u001b[1mrbf.lengthscale        \u001b[0;0m  |  20.387806719886758  |      +ve      |        \n",
      "\n",
      "Name : SparseGPClassification\n",
      "Objective : 169.87156101981873\n",
      "Number of Parameters : 5552\n",
      "Number of Optimization Parameters : 5552\n",
      "Updates : True\n",
      "Parameters:\n",
      "  \u001b[1mSparseGPClassification.\u001b[0;0m  |              value  |  constraints  |  priors\n",
      "  \u001b[1minducing_inputs        \u001b[0;0m  |          (150, 37)  |               |        \n",
      "  \u001b[1mrbf.variance           \u001b[0;0m  |  812.0958296132346  |      +ve      |        \n",
      "  \u001b[1mrbf.lengthscale        \u001b[0;0m  |  20.47365815061253  |      +ve      |        \n",
      "CPU times: user 2min 31s, sys: 1min 1s, total: 3min 32s\n",
      "Wall time: 1min 46s\n"
     ]
    }
   ],
   "source": [
    "%%time\n",
    "for i in range(6):\n",
    "    m.optimize('bfgs', max_iters=100)\n",
    "    print(m)"
   ]
  },
  {
   "cell_type": "code",
   "execution_count": 18,
   "metadata": {},
   "outputs": [
    {
     "name": "stdout",
     "output_type": "stream",
     "text": [
      "Accuracy: 0.960\n",
      "Kernel Hyperparams:\n",
      "  variance         812.1\n",
      "  length_scale      20.5\n",
      "Log Marginal Likelihood: -169.9\n"
     ]
    }
   ],
   "source": [
    "pred_prob_means = m.predict(X_test)[0].reshape(-1)\n",
    "pred = pred_prob_means > 0.5\n",
    "score = np.equal(pred, y_test).mean()\n",
    "print('Accuracy: %.3f' % score)\n",
    "print('Kernel Hyperparams:\\n  variance    %10.1f\\n  length_scale%10.1f\\nLog Marginal Likelihood: %.1f' % (m.kern.variance, m.kern.lengthscale, m.log_likelihood()))"
   ]
  },
  {
   "cell_type": "markdown",
   "metadata": {},
   "source": [
    "The log-marginal-likelihood of the full and the sparse model is equal (~169). This implies that a sparse model with 150 inducing variables explains the data as well as the full model with 1000 training points!"
   ]
  },
  {
   "cell_type": "markdown",
   "metadata": {},
   "source": [
    "## Sparse Gaussian Process (on 10'0000)"
   ]
  },
  {
   "cell_type": "code",
   "execution_count": 19,
   "metadata": {},
   "outputs": [
    {
     "name": "stdout",
     "output_type": "stream",
     "text": [
      "Train: 10000, Test: 10000\n"
     ]
    }
   ],
   "source": [
    "X_train, X_test, y_train, y_test = train_test_split(X,y,train_size=10000, test_size=10000, random_state=23)\n",
    "print('Train: %i, Test: %i' % (len(y_train), len(y_test)))"
   ]
  },
  {
   "cell_type": "code",
   "execution_count": 20,
   "metadata": {},
   "outputs": [
    {
     "name": "stdout",
     "output_type": "stream",
     "text": [
      "CPU times: user 22min 36s, sys: 4min 24s, total: 27min\n",
      "Wall time: 14min 9s\n"
     ]
    }
   ],
   "source": [
    "%%time\n",
    "m = GPy.models.SparseGPClassification(X_train,y_train.reshape(-1,1), num_inducing=150)"
   ]
  },
  {
   "cell_type": "code",
   "execution_count": 21,
   "metadata": {},
   "outputs": [
    {
     "name": "stdout",
     "output_type": "stream",
     "text": [
      "\n",
      "Name : SparseGPClassification\n",
      "Objective : 2843.657954695911\n",
      "Number of Parameters : 5552\n",
      "Number of Optimization Parameters : 5552\n",
      "Updates : True\n",
      "Parameters:\n",
      "  \u001b[1mSparseGPClassification.\u001b[0;0m  |              value  |  constraints  |  priors\n",
      "  \u001b[1minducing_inputs        \u001b[0;0m  |          (150, 37)  |               |        \n",
      "  \u001b[1mrbf.variance           \u001b[0;0m  |  401.8762119633459  |      +ve      |        \n",
      "  \u001b[1mrbf.lengthscale        \u001b[0;0m  |  56.47594833397397  |      +ve      |        \n",
      "\n",
      "Name : SparseGPClassification\n",
      "Objective : 1059.4795180017463\n",
      "Number of Parameters : 5552\n",
      "Number of Optimization Parameters : 5552\n",
      "Updates : True\n",
      "Parameters:\n",
      "  \u001b[1mSparseGPClassification.\u001b[0;0m  |               value  |  constraints  |  priors\n",
      "  \u001b[1minducing_inputs        \u001b[0;0m  |           (150, 37)  |               |        \n",
      "  \u001b[1mrbf.variance           \u001b[0;0m  |   403.9114604336496  |      +ve      |        \n",
      "  \u001b[1mrbf.lengthscale        \u001b[0;0m  |  21.317380886748158  |      +ve      |        \n",
      "\n",
      "Name : SparseGPClassification\n",
      "Objective : 1042.5086320014816\n",
      "Number of Parameters : 5552\n",
      "Number of Optimization Parameters : 5552\n",
      "Updates : True\n",
      "Parameters:\n",
      "  \u001b[1mSparseGPClassification.\u001b[0;0m  |               value  |  constraints  |  priors\n",
      "  \u001b[1minducing_inputs        \u001b[0;0m  |           (150, 37)  |               |        \n",
      "  \u001b[1mrbf.variance           \u001b[0;0m  |  404.00509607168084  |      +ve      |        \n",
      "  \u001b[1mrbf.lengthscale        \u001b[0;0m  |   18.80887454377604  |      +ve      |        \n",
      "\n",
      "Name : SparseGPClassification\n",
      "Objective : 1041.5070706042752\n",
      "Number of Parameters : 5552\n",
      "Number of Optimization Parameters : 5552\n",
      "Updates : True\n",
      "Parameters:\n",
      "  \u001b[1mSparseGPClassification.\u001b[0;0m  |               value  |  constraints  |  priors\n",
      "  \u001b[1minducing_inputs        \u001b[0;0m  |           (150, 37)  |               |        \n",
      "  \u001b[1mrbf.variance           \u001b[0;0m  |   404.0759939863135  |      +ve      |        \n",
      "  \u001b[1mrbf.lengthscale        \u001b[0;0m  |  18.422102060880945  |      +ve      |        \n",
      "CPU times: user 1h 28min 42s, sys: 18min 40s, total: 1h 47min 22s\n",
      "Wall time: 1h 3min 23s\n"
     ]
    }
   ],
   "source": [
    "%%time\n",
    "for i in range(4):\n",
    "    m.optimize('bfgs', max_iters=100)\n",
    "    print(m)"
   ]
  },
  {
   "cell_type": "code",
   "execution_count": 29,
   "metadata": {},
   "outputs": [
    {
     "name": "stdout",
     "output_type": "stream",
     "text": [
      "Accuracy: 0.964\n",
      "Kernel Hyperparams:\n",
      "  variance         404.1\n",
      "  length_scale      18.4\n",
      "Log Marginal Likelihood: -1041.5\n"
     ]
    }
   ],
   "source": [
    "pred_prob_means = m.predict(X_test)[0].reshape(-1)\n",
    "pred = pred_prob_means > 0.5\n",
    "score = np.equal(pred, y_test).mean()\n",
    "print('Accuracy: %.3f' % score)\n",
    "print('Kernel Hyperparams:\\n  variance    %10.1f\\n  length_scale%10.1f\\nLog Marginal Likelihood: %.1f' % (m.kern.variance, m.kern.lengthscale, m.log_likelihood()))"
   ]
  }
 ],
 "metadata": {
  "kernelspec": {
   "display_name": "Python 3",
   "language": "python",
   "name": "python3"
  },
  "language_info": {
   "codemirror_mode": {
    "name": "ipython",
    "version": 3
   },
   "file_extension": ".py",
   "mimetype": "text/x-python",
   "name": "python",
   "nbconvert_exporter": "python",
   "pygments_lexer": "ipython3",
   "version": "3.6.8"
  }
 },
 "nbformat": 4,
 "nbformat_minor": 4
}
