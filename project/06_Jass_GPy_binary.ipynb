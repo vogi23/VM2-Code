{
 "cells": [
  {
   "cell_type": "code",
   "execution_count": 2,
   "metadata": {},
   "outputs": [
    {
     "name": "stdout",
     "output_type": "stream",
     "text": [
      "warning in stationary: failed to import cython module: falling back to numpy\n",
      "warning in coregionalize: failed to import cython module: falling back to numpy\n",
      "warning in choleskies: failed to import cython module: falling back to numpy\n"
     ]
    }
   ],
   "source": [
    "import numpy as np\n",
    "import pandas as pd\n",
    "import GPy\n",
    "import pickle\n",
    "import pathlib\n",
    "import copy\n",
    "\n",
    "from sklearn.gaussian_process.kernels import RBF\n",
    "from sklearn.gaussian_process import GaussianProcessClassifier\n",
    "\n",
    "from sklearn.model_selection import train_test_split"
   ]
  },
  {
   "cell_type": "code",
   "execution_count": 3,
   "metadata": {},
   "outputs": [
    {
     "data": {
      "text/html": [
       "<div>\n",
       "<style scoped>\n",
       "    .dataframe tbody tr th:only-of-type {\n",
       "        vertical-align: middle;\n",
       "    }\n",
       "\n",
       "    .dataframe tbody tr th {\n",
       "        vertical-align: top;\n",
       "    }\n",
       "\n",
       "    .dataframe thead th {\n",
       "        text-align: right;\n",
       "    }\n",
       "</style>\n",
       "<table border=\"1\" class=\"dataframe\">\n",
       "  <thead>\n",
       "    <tr style=\"text-align: right;\">\n",
       "      <th></th>\n",
       "      <th>H0</th>\n",
       "      <th>H1</th>\n",
       "      <th>H2</th>\n",
       "      <th>H3</th>\n",
       "      <th>H4</th>\n",
       "      <th>H5</th>\n",
       "      <th>H6</th>\n",
       "      <th>H7</th>\n",
       "      <th>H8</th>\n",
       "      <th>K0</th>\n",
       "      <th>...</th>\n",
       "      <th>E2</th>\n",
       "      <th>E3</th>\n",
       "      <th>E4</th>\n",
       "      <th>E5</th>\n",
       "      <th>E6</th>\n",
       "      <th>E7</th>\n",
       "      <th>E8</th>\n",
       "      <th>Geschoben</th>\n",
       "      <th>Player</th>\n",
       "      <th>Aktion</th>\n",
       "    </tr>\n",
       "  </thead>\n",
       "  <tbody>\n",
       "    <tr>\n",
       "      <th>0</th>\n",
       "      <td>0</td>\n",
       "      <td>0</td>\n",
       "      <td>1</td>\n",
       "      <td>0</td>\n",
       "      <td>0</td>\n",
       "      <td>0</td>\n",
       "      <td>1</td>\n",
       "      <td>0</td>\n",
       "      <td>0</td>\n",
       "      <td>1</td>\n",
       "      <td>...</td>\n",
       "      <td>0</td>\n",
       "      <td>0</td>\n",
       "      <td>0</td>\n",
       "      <td>0</td>\n",
       "      <td>1</td>\n",
       "      <td>0</td>\n",
       "      <td>0</td>\n",
       "      <td>1</td>\n",
       "      <td>1631</td>\n",
       "      <td>2</td>\n",
       "    </tr>\n",
       "    <tr>\n",
       "      <th>1</th>\n",
       "      <td>0</td>\n",
       "      <td>0</td>\n",
       "      <td>1</td>\n",
       "      <td>0</td>\n",
       "      <td>1</td>\n",
       "      <td>1</td>\n",
       "      <td>0</td>\n",
       "      <td>0</td>\n",
       "      <td>0</td>\n",
       "      <td>0</td>\n",
       "      <td>...</td>\n",
       "      <td>0</td>\n",
       "      <td>0</td>\n",
       "      <td>0</td>\n",
       "      <td>0</td>\n",
       "      <td>0</td>\n",
       "      <td>1</td>\n",
       "      <td>0</td>\n",
       "      <td>0</td>\n",
       "      <td>64310</td>\n",
       "      <td>6</td>\n",
       "    </tr>\n",
       "    <tr>\n",
       "      <th>2</th>\n",
       "      <td>0</td>\n",
       "      <td>0</td>\n",
       "      <td>0</td>\n",
       "      <td>0</td>\n",
       "      <td>0</td>\n",
       "      <td>0</td>\n",
       "      <td>0</td>\n",
       "      <td>0</td>\n",
       "      <td>1</td>\n",
       "      <td>0</td>\n",
       "      <td>...</td>\n",
       "      <td>0</td>\n",
       "      <td>0</td>\n",
       "      <td>0</td>\n",
       "      <td>0</td>\n",
       "      <td>1</td>\n",
       "      <td>0</td>\n",
       "      <td>1</td>\n",
       "      <td>0</td>\n",
       "      <td>16721</td>\n",
       "      <td>1</td>\n",
       "    </tr>\n",
       "    <tr>\n",
       "      <th>3</th>\n",
       "      <td>1</td>\n",
       "      <td>0</td>\n",
       "      <td>0</td>\n",
       "      <td>0</td>\n",
       "      <td>1</td>\n",
       "      <td>0</td>\n",
       "      <td>0</td>\n",
       "      <td>0</td>\n",
       "      <td>1</td>\n",
       "      <td>1</td>\n",
       "      <td>...</td>\n",
       "      <td>0</td>\n",
       "      <td>0</td>\n",
       "      <td>1</td>\n",
       "      <td>0</td>\n",
       "      <td>1</td>\n",
       "      <td>0</td>\n",
       "      <td>0</td>\n",
       "      <td>1</td>\n",
       "      <td>0</td>\n",
       "      <td>4</td>\n",
       "    </tr>\n",
       "    <tr>\n",
       "      <th>4</th>\n",
       "      <td>1</td>\n",
       "      <td>1</td>\n",
       "      <td>0</td>\n",
       "      <td>0</td>\n",
       "      <td>0</td>\n",
       "      <td>0</td>\n",
       "      <td>0</td>\n",
       "      <td>0</td>\n",
       "      <td>0</td>\n",
       "      <td>0</td>\n",
       "      <td>...</td>\n",
       "      <td>1</td>\n",
       "      <td>0</td>\n",
       "      <td>0</td>\n",
       "      <td>0</td>\n",
       "      <td>0</td>\n",
       "      <td>0</td>\n",
       "      <td>0</td>\n",
       "      <td>1</td>\n",
       "      <td>72620</td>\n",
       "      <td>4</td>\n",
       "    </tr>\n",
       "    <tr>\n",
       "      <th>...</th>\n",
       "      <td>...</td>\n",
       "      <td>...</td>\n",
       "      <td>...</td>\n",
       "      <td>...</td>\n",
       "      <td>...</td>\n",
       "      <td>...</td>\n",
       "      <td>...</td>\n",
       "      <td>...</td>\n",
       "      <td>...</td>\n",
       "      <td>...</td>\n",
       "      <td>...</td>\n",
       "      <td>...</td>\n",
       "      <td>...</td>\n",
       "      <td>...</td>\n",
       "      <td>...</td>\n",
       "      <td>...</td>\n",
       "      <td>...</td>\n",
       "      <td>...</td>\n",
       "      <td>...</td>\n",
       "      <td>...</td>\n",
       "      <td>...</td>\n",
       "    </tr>\n",
       "    <tr>\n",
       "      <th>161689</th>\n",
       "      <td>0</td>\n",
       "      <td>1</td>\n",
       "      <td>0</td>\n",
       "      <td>0</td>\n",
       "      <td>0</td>\n",
       "      <td>1</td>\n",
       "      <td>0</td>\n",
       "      <td>0</td>\n",
       "      <td>0</td>\n",
       "      <td>0</td>\n",
       "      <td>...</td>\n",
       "      <td>0</td>\n",
       "      <td>1</td>\n",
       "      <td>0</td>\n",
       "      <td>1</td>\n",
       "      <td>1</td>\n",
       "      <td>0</td>\n",
       "      <td>0</td>\n",
       "      <td>1</td>\n",
       "      <td>55942</td>\n",
       "      <td>3</td>\n",
       "    </tr>\n",
       "    <tr>\n",
       "      <th>161690</th>\n",
       "      <td>0</td>\n",
       "      <td>0</td>\n",
       "      <td>1</td>\n",
       "      <td>0</td>\n",
       "      <td>0</td>\n",
       "      <td>0</td>\n",
       "      <td>0</td>\n",
       "      <td>1</td>\n",
       "      <td>0</td>\n",
       "      <td>1</td>\n",
       "      <td>...</td>\n",
       "      <td>0</td>\n",
       "      <td>1</td>\n",
       "      <td>0</td>\n",
       "      <td>0</td>\n",
       "      <td>1</td>\n",
       "      <td>0</td>\n",
       "      <td>0</td>\n",
       "      <td>0</td>\n",
       "      <td>0</td>\n",
       "      <td>6</td>\n",
       "    </tr>\n",
       "    <tr>\n",
       "      <th>161691</th>\n",
       "      <td>0</td>\n",
       "      <td>0</td>\n",
       "      <td>0</td>\n",
       "      <td>0</td>\n",
       "      <td>0</td>\n",
       "      <td>0</td>\n",
       "      <td>1</td>\n",
       "      <td>0</td>\n",
       "      <td>0</td>\n",
       "      <td>0</td>\n",
       "      <td>...</td>\n",
       "      <td>0</td>\n",
       "      <td>0</td>\n",
       "      <td>1</td>\n",
       "      <td>1</td>\n",
       "      <td>0</td>\n",
       "      <td>1</td>\n",
       "      <td>0</td>\n",
       "      <td>0</td>\n",
       "      <td>0</td>\n",
       "      <td>3</td>\n",
       "    </tr>\n",
       "    <tr>\n",
       "      <th>161692</th>\n",
       "      <td>0</td>\n",
       "      <td>1</td>\n",
       "      <td>0</td>\n",
       "      <td>1</td>\n",
       "      <td>0</td>\n",
       "      <td>0</td>\n",
       "      <td>0</td>\n",
       "      <td>0</td>\n",
       "      <td>1</td>\n",
       "      <td>1</td>\n",
       "      <td>...</td>\n",
       "      <td>1</td>\n",
       "      <td>0</td>\n",
       "      <td>0</td>\n",
       "      <td>0</td>\n",
       "      <td>0</td>\n",
       "      <td>0</td>\n",
       "      <td>1</td>\n",
       "      <td>0</td>\n",
       "      <td>60659</td>\n",
       "      <td>6</td>\n",
       "    </tr>\n",
       "    <tr>\n",
       "      <th>161693</th>\n",
       "      <td>0</td>\n",
       "      <td>0</td>\n",
       "      <td>0</td>\n",
       "      <td>0</td>\n",
       "      <td>1</td>\n",
       "      <td>0</td>\n",
       "      <td>0</td>\n",
       "      <td>0</td>\n",
       "      <td>0</td>\n",
       "      <td>0</td>\n",
       "      <td>...</td>\n",
       "      <td>0</td>\n",
       "      <td>1</td>\n",
       "      <td>1</td>\n",
       "      <td>0</td>\n",
       "      <td>0</td>\n",
       "      <td>0</td>\n",
       "      <td>0</td>\n",
       "      <td>0</td>\n",
       "      <td>19345</td>\n",
       "      <td>3</td>\n",
       "    </tr>\n",
       "  </tbody>\n",
       "</table>\n",
       "<p>161694 rows × 39 columns</p>\n",
       "</div>"
      ],
      "text/plain": [
       "        H0  H1  H2  H3  H4  H5  H6  H7  H8  K0  ...  E2  E3  E4  E5  E6  E7  \\\n",
       "0        0   0   1   0   0   0   1   0   0   1  ...   0   0   0   0   1   0   \n",
       "1        0   0   1   0   1   1   0   0   0   0  ...   0   0   0   0   0   1   \n",
       "2        0   0   0   0   0   0   0   0   1   0  ...   0   0   0   0   1   0   \n",
       "3        1   0   0   0   1   0   0   0   1   1  ...   0   0   1   0   1   0   \n",
       "4        1   1   0   0   0   0   0   0   0   0  ...   1   0   0   0   0   0   \n",
       "...     ..  ..  ..  ..  ..  ..  ..  ..  ..  ..  ...  ..  ..  ..  ..  ..  ..   \n",
       "161689   0   1   0   0   0   1   0   0   0   0  ...   0   1   0   1   1   0   \n",
       "161690   0   0   1   0   0   0   0   1   0   1  ...   0   1   0   0   1   0   \n",
       "161691   0   0   0   0   0   0   1   0   0   0  ...   0   0   1   1   0   1   \n",
       "161692   0   1   0   1   0   0   0   0   1   1  ...   1   0   0   0   0   0   \n",
       "161693   0   0   0   0   1   0   0   0   0   0  ...   0   1   1   0   0   0   \n",
       "\n",
       "        E8  Geschoben  Player  Aktion  \n",
       "0        0          1    1631       2  \n",
       "1        0          0   64310       6  \n",
       "2        1          0   16721       1  \n",
       "3        0          1       0       4  \n",
       "4        0          1   72620       4  \n",
       "...     ..        ...     ...     ...  \n",
       "161689   0          1   55942       3  \n",
       "161690   0          0       0       6  \n",
       "161691   0          0       0       3  \n",
       "161692   1          0   60659       6  \n",
       "161693   0          0   19345       3  \n",
       "\n",
       "[161694 rows x 39 columns]"
      ]
     },
     "execution_count": 3,
     "metadata": {},
     "output_type": "execute_result"
    }
   ],
   "source": [
    "import itertools\n",
    "datafile = 'data/jass/rnd_01.csv'\n",
    "col_names = [a+str(b) for (a,b) in itertools.product([farbe for farbe in 'HKSE'], [bild for bild in range(9)])]+[\"Geschoben\", \"Player\", \"Aktion\"]\n",
    "data = pd.read_csv(datafile, header=None, names=col_names)\n",
    "data"
   ]
  },
  {
   "cell_type": "markdown",
   "metadata": {},
   "source": [
    "## Binary Classification on targets 0 and 1"
   ]
  },
  {
   "cell_type": "code",
   "execution_count": 4,
   "metadata": {},
   "outputs": [],
   "source": [
    "# select subset of data\n",
    "target_classes = [0,1]\n",
    "zeroone = data[data['Aktion'].isin(target_classes)]\n",
    "zeroone = zeroone.drop(columns='Player')\n",
    "X = zeroone.loc[:,'H0':'Geschoben'].values\n",
    "y = zeroone.loc[:,'Aktion']\n",
    "\n",
    "# make sure targets are binary (required by GPC implementation of sklearn)\n",
    "y = y.isin(target_classes[0:1]) # first class = 1, second = 0\n",
    "y = y.values"
   ]
  },
  {
   "cell_type": "code",
   "execution_count": 5,
   "metadata": {},
   "outputs": [],
   "source": [
    "metrics_template = {\n",
    "    'acc' : [],\n",
    "    'acc_val' : [],\n",
    "    'variance' : [],\n",
    "    'length-scale' : [],\n",
    "    'log-marginal-likelihood' : []\n",
    "}\n",
    "\n",
    "def addToMetrics(m, acc, acc_val, variance, length_scale, log_marginal_likelihood):\n",
    "    m['acc'].append(acc)\n",
    "    m['acc_val'].append(acc_val)\n",
    "    m['variance'].append(variance)\n",
    "    m['length-scale'].append(length_scale)\n",
    "    m['log-marginal-likelihood'].append(log_marginal_likelihood)\n",
    "    \n",
    "def save_metrics(m, name, path='./metrics/06_Jass_GP_binary/', overwrite=False):\n",
    "    _file = pathlib.Path(path+name)\n",
    "    if _file.exists():\n",
    "        if overwrite:\n",
    "                _file.unlink()\n",
    "        else:\n",
    "            print('%s file already exists' % (str(path+name)))\n",
    "            return\n",
    "    with open(path+name, 'xb') as f:\n",
    "        pickle.dump(m, f)\n",
    "    \n",
    "def load_metrics(name, path='./metrics/06_Jass_GP_binary/'):\n",
    "    return pickle.load(open(path+name, 'rb'))\n",
    "\n",
    "def print_metrics(m):\n",
    "    for k, v in m.items():\n",
    "        print(k+': %.3f +/- %.3f' % (np.mean(v), np.std(v)*1.28))"
   ]
  },
  {
   "cell_type": "markdown",
   "metadata": {},
   "source": [
    "### With sklearn (uses Laplace approx)"
   ]
  },
  {
   "cell_type": "code",
   "execution_count": 5,
   "metadata": {},
   "outputs": [
    {
     "name": "stdout",
     "output_type": "stream",
     "text": [
      "acc: 0.992 +/- 0.005\n",
      "acc_val: 0.950 +/- 0.005\n",
      "variance: 5952.801 +/- 4522.270\n",
      "length-scale: 19.494 +/- 5.997\n",
      "log-marginal-likelihood: -106.956 +/- 11.129\n",
      "CPU times: user 49.4 s, sys: 50.6 s, total: 1min 39s\n",
      "Wall time: 17.3 s\n"
     ]
    }
   ],
   "source": [
    "%%time\n",
    "metrics_01 = copy.deepcopy(metrics_template)\n",
    "for i in range(5):\n",
    "    X_train, X_test, y_train, y_test = train_test_split(X,y,train_size=500, test_size=10000, random_state=i)\n",
    "    kernel = 1.0*RBF()\n",
    "    clf = GaussianProcessClassifier(kernel, n_restarts_optimizer=0, random_state=23)\n",
    "    _ = clf.fit(X_train, y_train)\n",
    "    acc = clf.score(X_train, y_train)\n",
    "    acc_val = clf.score(X_test, y_test)\n",
    "    addToMetrics(metrics_01, acc, acc_val, clf.kernel_.k1.get_params()['constant_value'], clf.kernel_.k2.get_params()['length_scale'], clf.log_marginal_likelihood())\n",
    "print_metrics(metrics_01)\n",
    "save_metrics(metrics_01, '01')"
   ]
  },
  {
   "cell_type": "markdown",
   "metadata": {},
   "source": [
    "### With GPy (uses EP approx)"
   ]
  },
  {
   "cell_type": "code",
   "execution_count": 6,
   "metadata": {},
   "outputs": [
    {
     "name": "stdout",
     "output_type": "stream",
     "text": [
      "4\n",
      "4\n"
     ]
    },
    {
     "name": "stderr",
     "output_type": "stream",
     "text": [
      " /usr/local/lib/python3.6/dist-packages/paramz/transformations.py:111: RuntimeWarning:overflow encountered in expm1\n"
     ]
    },
    {
     "name": "stdout",
     "output_type": "stream",
     "text": [
      "4\n",
      "4\n",
      "4\n",
      "acc: 0.986 +/- 0.003\n",
      "acc_val: 0.950 +/- 0.006\n",
      "variance: 1525.256 +/- 1313.029\n",
      "length-scale: 19.813 +/- 7.667\n",
      "log-marginal-likelihood: -105.694 +/- 10.774\n",
      "CPU times: user 25min 14s, sys: 22min 46s, total: 48min 1s\n",
      "Wall time: 8min 2s\n"
     ]
    }
   ],
   "source": [
    "%%time\n",
    "metrics_02 = copy.deepcopy(metrics_template)\n",
    "for i in range(5):\n",
    "    X_train, X_test, y_train, y_test = train_test_split(X,y,train_size=500, test_size=10000, random_state=i)\n",
    "    m = GPy.models.GPClassification(X_train,y_train.reshape(-1,1))\n",
    "    for i in range(5):\n",
    "        m.optimize('bfgs', max_iters=100)\n",
    "    acc = np.equal(m.predict(X_train)[0].reshape(-1) > 0.5, y_train).mean()\n",
    "    acc_val = np.equal(m.predict(X_test)[0].reshape(-1) > 0.5, y_test).mean()\n",
    "    addToMetrics(metrics_02, acc, acc_val, m.kern.variance.values[0], m.kern.lengthscale.values[0], m.log_likelihood())\n",
    "print_metrics(metrics_02)\n",
    "save_metrics(metrics_02, '02')"
   ]
  },
  {
   "cell_type": "markdown",
   "metadata": {},
   "source": [
    "### Increasing training set size"
   ]
  },
  {
   "cell_type": "code",
   "execution_count": 7,
   "metadata": {},
   "outputs": [
    {
     "name": "stdout",
     "output_type": "stream",
     "text": [
      "0\n",
      "1\n",
      "2\n",
      "3\n",
      "4\n",
      "acc: 0.976 +/- 0.006\n",
      "acc_val: 0.956 +/- 0.002\n",
      "variance: 1897.013 +/- 1753.524\n",
      "length-scale: 23.045 +/- 10.931\n",
      "log-marginal-likelihood: -167.744 +/- 14.405\n",
      "CPU times: user 2h 53min 41s, sys: 2h 26min 38s, total: 5h 20min 20s\n",
      "Wall time: 53min 38s\n"
     ]
    }
   ],
   "source": [
    "%%time\n",
    "metrics_03 = copy.deepcopy(metrics_template)\n",
    "for i in range(5):\n",
    "    X_train, X_test, y_train, y_test = train_test_split(X,y,train_size=1000, test_size=10000, random_state=i)\n",
    "    m = GPy.models.GPClassification(X_train,y_train.reshape(-1,1))\n",
    "    for j in range(5):\n",
    "        m.optimize('bfgs', max_iters=100)\n",
    "    acc = np.equal(m.predict(X_train)[0].reshape(-1) > 0.5, y_train).mean()\n",
    "    acc_val = np.equal(m.predict(X_test)[0].reshape(-1) > 0.5, y_test).mean()\n",
    "    addToMetrics(metrics_03, acc, acc_val, m.kern.variance.values[0], m.kern.lengthscale.values[0], m.log_likelihood())\n",
    "    print(i)\n",
    "print_metrics(metrics_03)\n",
    "save_metrics(metrics_03, '03')"
   ]
  },
  {
   "cell_type": "markdown",
   "metadata": {},
   "source": [
    "## Sparse Gaussian Process"
   ]
  },
  {
   "cell_type": "code",
   "execution_count": 8,
   "metadata": {},
   "outputs": [
    {
     "name": "stdout",
     "output_type": "stream",
     "text": [
      "0\n",
      "1\n",
      "2\n",
      "3\n",
      "4\n",
      "acc: 0.974 +/- 0.006\n",
      "acc_val: 0.956 +/- 0.002\n",
      "variance: 999.951 +/- 277.412\n",
      "length-scale: 22.979 +/- 3.109\n",
      "log-marginal-likelihood: -169.877 +/- 14.773\n",
      "CPU times: user 43min 24s, sys: 42min 54s, total: 1h 26min 18s\n",
      "Wall time: 14min 28s\n"
     ]
    }
   ],
   "source": [
    "%%time\n",
    "metrics_04 = copy.deepcopy(metrics_template)\n",
    "for i in range(5):\n",
    "    X_train, X_test, y_train, y_test = train_test_split(X,y,train_size=1000, test_size=10000, random_state=i)\n",
    "    m = GPy.models.SparseGPClassification(X_train,y_train.reshape(-1,1), num_inducing=150)\n",
    "    for j in range(6):\n",
    "        m.optimize('bfgs', max_iters=100)\n",
    "    acc = np.equal(m.predict(X_train)[0].reshape(-1) > 0.5, y_train).mean()\n",
    "    acc_val = np.equal(m.predict(X_test)[0].reshape(-1) > 0.5, y_test).mean()\n",
    "    addToMetrics(metrics_04, acc, acc_val, m.kern.variance.values[0], m.kern.lengthscale.values[0], m.log_likelihood())\n",
    "    print(i)\n",
    "print_metrics(metrics_04)\n",
    "save_metrics(metrics_04, '04')"
   ]
  },
  {
   "cell_type": "markdown",
   "metadata": {},
   "source": [
    "The log-marginal-likelihood of the full and the sparse model is equal (~169). This implies that a sparse model with 150 inducing variables explains the data as well as the full model with 1000 training points!"
   ]
  },
  {
   "cell_type": "markdown",
   "metadata": {},
   "source": [
    "## Sparse Gaussian Process (on 10'0000)"
   ]
  },
  {
   "cell_type": "code",
   "execution_count": 19,
   "metadata": {},
   "outputs": [
    {
     "name": "stdout",
     "output_type": "stream",
     "text": [
      "Train: 10000, Test: 10000\n"
     ]
    }
   ],
   "source": [
    "X_train, X_test, y_train, y_test = train_test_split(X,y,train_size=10000, test_size=10000, random_state=23)\n",
    "print('Train: %i, Test: %i' % (len(y_train), len(y_test)))"
   ]
  },
  {
   "cell_type": "code",
   "execution_count": 20,
   "metadata": {},
   "outputs": [
    {
     "name": "stdout",
     "output_type": "stream",
     "text": [
      "CPU times: user 22min 36s, sys: 4min 24s, total: 27min\n",
      "Wall time: 14min 9s\n"
     ]
    }
   ],
   "source": [
    "%%time\n",
    "m = GPy.models.SparseGPClassification(X_train,y_train.reshape(-1,1), num_inducing=150)"
   ]
  },
  {
   "cell_type": "code",
   "execution_count": 21,
   "metadata": {},
   "outputs": [
    {
     "name": "stdout",
     "output_type": "stream",
     "text": [
      "\n",
      "Name : SparseGPClassification\n",
      "Objective : 2843.657954695911\n",
      "Number of Parameters : 5552\n",
      "Number of Optimization Parameters : 5552\n",
      "Updates : True\n",
      "Parameters:\n",
      "  \u001b[1mSparseGPClassification.\u001b[0;0m  |              value  |  constraints  |  priors\n",
      "  \u001b[1minducing_inputs        \u001b[0;0m  |          (150, 37)  |               |        \n",
      "  \u001b[1mrbf.variance           \u001b[0;0m  |  401.8762119633459  |      +ve      |        \n",
      "  \u001b[1mrbf.lengthscale        \u001b[0;0m  |  56.47594833397397  |      +ve      |        \n",
      "\n",
      "Name : SparseGPClassification\n",
      "Objective : 1059.4795180017463\n",
      "Number of Parameters : 5552\n",
      "Number of Optimization Parameters : 5552\n",
      "Updates : True\n",
      "Parameters:\n",
      "  \u001b[1mSparseGPClassification.\u001b[0;0m  |               value  |  constraints  |  priors\n",
      "  \u001b[1minducing_inputs        \u001b[0;0m  |           (150, 37)  |               |        \n",
      "  \u001b[1mrbf.variance           \u001b[0;0m  |   403.9114604336496  |      +ve      |        \n",
      "  \u001b[1mrbf.lengthscale        \u001b[0;0m  |  21.317380886748158  |      +ve      |        \n",
      "\n",
      "Name : SparseGPClassification\n",
      "Objective : 1042.5086320014816\n",
      "Number of Parameters : 5552\n",
      "Number of Optimization Parameters : 5552\n",
      "Updates : True\n",
      "Parameters:\n",
      "  \u001b[1mSparseGPClassification.\u001b[0;0m  |               value  |  constraints  |  priors\n",
      "  \u001b[1minducing_inputs        \u001b[0;0m  |           (150, 37)  |               |        \n",
      "  \u001b[1mrbf.variance           \u001b[0;0m  |  404.00509607168084  |      +ve      |        \n",
      "  \u001b[1mrbf.lengthscale        \u001b[0;0m  |   18.80887454377604  |      +ve      |        \n",
      "\n",
      "Name : SparseGPClassification\n",
      "Objective : 1041.5070706042752\n",
      "Number of Parameters : 5552\n",
      "Number of Optimization Parameters : 5552\n",
      "Updates : True\n",
      "Parameters:\n",
      "  \u001b[1mSparseGPClassification.\u001b[0;0m  |               value  |  constraints  |  priors\n",
      "  \u001b[1minducing_inputs        \u001b[0;0m  |           (150, 37)  |               |        \n",
      "  \u001b[1mrbf.variance           \u001b[0;0m  |   404.0759939863135  |      +ve      |        \n",
      "  \u001b[1mrbf.lengthscale        \u001b[0;0m  |  18.422102060880945  |      +ve      |        \n",
      "CPU times: user 1h 28min 42s, sys: 18min 40s, total: 1h 47min 22s\n",
      "Wall time: 1h 3min 23s\n"
     ]
    }
   ],
   "source": [
    "%%time\n",
    "for i in range(4):\n",
    "    m.optimize('bfgs', max_iters=100)\n",
    "    print(m)"
   ]
  },
  {
   "cell_type": "code",
   "execution_count": 29,
   "metadata": {},
   "outputs": [
    {
     "name": "stdout",
     "output_type": "stream",
     "text": [
      "Accuracy: 0.964\n",
      "Kernel Hyperparams:\n",
      "  variance         404.1\n",
      "  length_scale      18.4\n",
      "Log Marginal Likelihood: -1041.5\n"
     ]
    }
   ],
   "source": [
    "pred_prob_means = m.predict(X_test)[0].reshape(-1)\n",
    "pred = pred_prob_means > 0.5\n",
    "score = np.equal(pred, y_test).mean()\n",
    "print('Accuracy: %.3f' % score)\n",
    "print('Kernel Hyperparams:\\n  variance    %10.1f\\n  length_scale%10.1f\\nLog Marginal Likelihood: %.1f' % (m.kern.variance, m.kern.lengthscale, m.log_likelihood()))"
   ]
  },
  {
   "cell_type": "markdown",
   "metadata": {},
   "source": [
    "## Load and plot results"
   ]
  },
  {
   "cell_type": "code",
   "execution_count": 114,
   "metadata": {},
   "outputs": [],
   "source": [
    "x_ticks = [0,1,2,3]\n",
    "filenames = ['0'+str(i+1) for i in range(4)]\n",
    "all_mets = [load_metrics(name) for name in filenames]\n",
    "test_acc_mean = [np.mean(h['acc_val'],axis=0) for h in all_mets]\n",
    "test_acc_std = [np.std(h['acc_val'],axis=0)*1.282 for h in all_mets]\n",
    "train_acc_mean = [np.mean(h['acc'],axis=0) for h in all_mets]\n",
    "train_acc_std = [np.std(h['acc'],axis=0)*1.282 for h in all_mets]"
   ]
  },
  {
   "cell_type": "code",
   "execution_count": 115,
   "metadata": {},
   "outputs": [
    {
     "data": {
      "image/png": "[encoded data removed]",
      "text/plain": [
       "<Figure size 432x288 with 1 Axes>"
      ]
     },
     "metadata": {
      "needs_background": "light"
     },
     "output_type": "display_data"
    }
   ],
   "source": [
    "import matplotlib.pyplot as plt\n",
    "plt.errorbar(x_ticks,test_acc_mean,yerr=test_acc_std, markersize=0, capsize=4, ecolor='b', fmt='b.', label='Val Accuracy')\n",
    "plt.errorbar(x_ticks,train_acc_mean,yerr=train_acc_std, markersize=0, capsize=4, ecolor='r', fmt='b.', label='Train Accuracy')\n",
    "plt.scatter(4, 0.964, c='b')\n",
    "plt.xticks(x_ticks+[4], labels=['Laplace_500', 'EP_500', 'EP_1k', 'Sparse150_1k', 'Sparse150_10k'], rotation=90);\n",
    "plt.ylim(0.93, 1)\n",
    "plt.legend();"
   ]
  },
  {
   "cell_type": "code",
   "execution_count": 125,
   "metadata": {},
   "outputs": [],
   "source": [
    "x_ticks = [0,1,2,3]\n",
    "filenames = ['0'+str(i+1) for i in range(4)]\n",
    "all_mets = [load_metrics(name) for name in filenames]\n",
    "var_mean = [np.mean(np.sqrt(h['variance']),axis=0) for h in all_mets]\n",
    "var_std = [np.std(np.sqrt(h['variance']),axis=0)*1.282 for h in all_mets]\n",
    "lengthscale_mean = [np.mean(h['length-scale'],axis=0) for h in all_mets]\n",
    "lengthscale_std = [np.std(h['length-scale'],axis=0)*1.282 for h in all_mets]\n",
    "mar_mean = [np.mean(np.exp(h['log-marginal-likelihood']),axis=0) for h in all_mets]\n",
    "mar_std = [np.std(np.exp(h['log-marginal-likelihood']),axis=0)*1.282 for h in all_mets]"
   ]
  },
  {
   "cell_type": "code",
   "execution_count": 128,
   "metadata": {},
   "outputs": [
    {
     "data": {
      "image/png": "[encoded data removed]",
      "text/plain": [
       "<Figure size 432x180 with 2 Axes>"
      ]
     },
     "metadata": {
      "needs_background": "light"
     },
     "output_type": "display_data"
    }
   ],
   "source": [
    "import matplotlib.pyplot as plt\n",
    "fig, ax = plt.subplots(1,1, figsize=(6,2.5))\n",
    "ax.errorbar(np.array(x_ticks)-0.1,var_mean,yerr=var_std, markersize=0, capsize=4, ecolor='b', fmt='b.', label='$\\sqrt{Variance}$')\n",
    "ax.scatter(3.9, np.sqrt(401), c='b')\n",
    "ax.set_xticks(x_ticks+[4])\n",
    "ax.set_xticklabels(['Laplace_500', 'EP_500', 'EP_1k', 'Sparse150_1k', 'Sparse150_10k'],rotation=60);\n",
    "ax.set_ylim(0,120)\n",
    "\n",
    "ax2 = ax.twinx()\n",
    "ax2.errorbar(np.array(x_ticks),lengthscale_mean,yerr=lengthscale_std, markersize=0, capsize=4, ecolor='r', fmt='b.', label='Length-scale')\n",
    "ax2.scatter(4, 18.4, c='r')\n",
    "ax2.set_xticks(x_ticks+[4])\n",
    "ax2.set_xticklabels(['Laplace_500', 'EP_500', 'EP_1k', 'Sparse150_1k', 'Sparse150_10k'],rotation=60);\n",
    "ax2.set_ylim(0,40)\n",
    "\n",
    "fig.legend(bbox_to_anchor=(.855,1.25));\n"
   ]
  }
 ],
 "metadata": {
  "kernelspec": {
   "display_name": "Python 3",
   "language": "python",
   "name": "python3"
  },
  "language_info": {
   "codemirror_mode": {
    "name": "ipython",
    "version": 3
   },
   "file_extension": ".py",
   "mimetype": "text/x-python",
   "name": "python",
   "nbconvert_exporter": "python",
   "pygments_lexer": "ipython3",
   "version": "3.6.8"
  }
 },
 "nbformat": 4,
 "nbformat_minor": 4
}
