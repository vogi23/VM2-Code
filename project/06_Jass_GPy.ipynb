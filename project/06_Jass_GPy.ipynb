{
 "cells": [
  {
   "cell_type": "code",
   "execution_count": 4,
   "metadata": {},
   "outputs": [],
   "source": [
    "import numpy as np\n",
    "import pandas as pd\n",
    "import GPy\n",
    "\n",
    "from sklearn.gaussian_process.kernels import RBF\n",
    "from sklearn.gaussian_process import GaussianProcessClassifier\n",
    "\n",
    "from sklearn.model_selection import train_test_split"
   ]
  },
  {
   "cell_type": "code",
   "execution_count": 5,
   "metadata": {},
   "outputs": [
    {
     "data": {
      "text/html": [
       "<div>\n",
       "<style scoped>\n",
       "    .dataframe tbody tr th:only-of-type {\n",
       "        vertical-align: middle;\n",
       "    }\n",
       "\n",
       "    .dataframe tbody tr th {\n",
       "        vertical-align: top;\n",
       "    }\n",
       "\n",
       "    .dataframe thead th {\n",
       "        text-align: right;\n",
       "    }\n",
       "</style>\n",
       "<table border=\"1\" class=\"dataframe\">\n",
       "  <thead>\n",
       "    <tr style=\"text-align: right;\">\n",
       "      <th></th>\n",
       "      <th>H0</th>\n",
       "      <th>H1</th>\n",
       "      <th>H2</th>\n",
       "      <th>H3</th>\n",
       "      <th>H4</th>\n",
       "      <th>H5</th>\n",
       "      <th>H6</th>\n",
       "      <th>H7</th>\n",
       "      <th>H8</th>\n",
       "      <th>K0</th>\n",
       "      <th>...</th>\n",
       "      <th>E2</th>\n",
       "      <th>E3</th>\n",
       "      <th>E4</th>\n",
       "      <th>E5</th>\n",
       "      <th>E6</th>\n",
       "      <th>E7</th>\n",
       "      <th>E8</th>\n",
       "      <th>Geschoben</th>\n",
       "      <th>Player</th>\n",
       "      <th>Aktion</th>\n",
       "    </tr>\n",
       "  </thead>\n",
       "  <tbody>\n",
       "    <tr>\n",
       "      <td>0</td>\n",
       "      <td>0</td>\n",
       "      <td>0</td>\n",
       "      <td>1</td>\n",
       "      <td>0</td>\n",
       "      <td>0</td>\n",
       "      <td>0</td>\n",
       "      <td>1</td>\n",
       "      <td>0</td>\n",
       "      <td>0</td>\n",
       "      <td>1</td>\n",
       "      <td>...</td>\n",
       "      <td>0</td>\n",
       "      <td>0</td>\n",
       "      <td>0</td>\n",
       "      <td>0</td>\n",
       "      <td>1</td>\n",
       "      <td>0</td>\n",
       "      <td>0</td>\n",
       "      <td>1</td>\n",
       "      <td>1631</td>\n",
       "      <td>2</td>\n",
       "    </tr>\n",
       "    <tr>\n",
       "      <td>1</td>\n",
       "      <td>0</td>\n",
       "      <td>0</td>\n",
       "      <td>1</td>\n",
       "      <td>0</td>\n",
       "      <td>1</td>\n",
       "      <td>1</td>\n",
       "      <td>0</td>\n",
       "      <td>0</td>\n",
       "      <td>0</td>\n",
       "      <td>0</td>\n",
       "      <td>...</td>\n",
       "      <td>0</td>\n",
       "      <td>0</td>\n",
       "      <td>0</td>\n",
       "      <td>0</td>\n",
       "      <td>0</td>\n",
       "      <td>1</td>\n",
       "      <td>0</td>\n",
       "      <td>0</td>\n",
       "      <td>64310</td>\n",
       "      <td>6</td>\n",
       "    </tr>\n",
       "    <tr>\n",
       "      <td>2</td>\n",
       "      <td>0</td>\n",
       "      <td>0</td>\n",
       "      <td>0</td>\n",
       "      <td>0</td>\n",
       "      <td>0</td>\n",
       "      <td>0</td>\n",
       "      <td>0</td>\n",
       "      <td>0</td>\n",
       "      <td>1</td>\n",
       "      <td>0</td>\n",
       "      <td>...</td>\n",
       "      <td>0</td>\n",
       "      <td>0</td>\n",
       "      <td>0</td>\n",
       "      <td>0</td>\n",
       "      <td>1</td>\n",
       "      <td>0</td>\n",
       "      <td>1</td>\n",
       "      <td>0</td>\n",
       "      <td>16721</td>\n",
       "      <td>1</td>\n",
       "    </tr>\n",
       "    <tr>\n",
       "      <td>3</td>\n",
       "      <td>1</td>\n",
       "      <td>0</td>\n",
       "      <td>0</td>\n",
       "      <td>0</td>\n",
       "      <td>1</td>\n",
       "      <td>0</td>\n",
       "      <td>0</td>\n",
       "      <td>0</td>\n",
       "      <td>1</td>\n",
       "      <td>1</td>\n",
       "      <td>...</td>\n",
       "      <td>0</td>\n",
       "      <td>0</td>\n",
       "      <td>1</td>\n",
       "      <td>0</td>\n",
       "      <td>1</td>\n",
       "      <td>0</td>\n",
       "      <td>0</td>\n",
       "      <td>1</td>\n",
       "      <td>0</td>\n",
       "      <td>4</td>\n",
       "    </tr>\n",
       "    <tr>\n",
       "      <td>4</td>\n",
       "      <td>1</td>\n",
       "      <td>1</td>\n",
       "      <td>0</td>\n",
       "      <td>0</td>\n",
       "      <td>0</td>\n",
       "      <td>0</td>\n",
       "      <td>0</td>\n",
       "      <td>0</td>\n",
       "      <td>0</td>\n",
       "      <td>0</td>\n",
       "      <td>...</td>\n",
       "      <td>1</td>\n",
       "      <td>0</td>\n",
       "      <td>0</td>\n",
       "      <td>0</td>\n",
       "      <td>0</td>\n",
       "      <td>0</td>\n",
       "      <td>0</td>\n",
       "      <td>1</td>\n",
       "      <td>72620</td>\n",
       "      <td>4</td>\n",
       "    </tr>\n",
       "    <tr>\n",
       "      <td>...</td>\n",
       "      <td>...</td>\n",
       "      <td>...</td>\n",
       "      <td>...</td>\n",
       "      <td>...</td>\n",
       "      <td>...</td>\n",
       "      <td>...</td>\n",
       "      <td>...</td>\n",
       "      <td>...</td>\n",
       "      <td>...</td>\n",
       "      <td>...</td>\n",
       "      <td>...</td>\n",
       "      <td>...</td>\n",
       "      <td>...</td>\n",
       "      <td>...</td>\n",
       "      <td>...</td>\n",
       "      <td>...</td>\n",
       "      <td>...</td>\n",
       "      <td>...</td>\n",
       "      <td>...</td>\n",
       "      <td>...</td>\n",
       "      <td>...</td>\n",
       "    </tr>\n",
       "    <tr>\n",
       "      <td>161689</td>\n",
       "      <td>0</td>\n",
       "      <td>1</td>\n",
       "      <td>0</td>\n",
       "      <td>0</td>\n",
       "      <td>0</td>\n",
       "      <td>1</td>\n",
       "      <td>0</td>\n",
       "      <td>0</td>\n",
       "      <td>0</td>\n",
       "      <td>0</td>\n",
       "      <td>...</td>\n",
       "      <td>0</td>\n",
       "      <td>1</td>\n",
       "      <td>0</td>\n",
       "      <td>1</td>\n",
       "      <td>1</td>\n",
       "      <td>0</td>\n",
       "      <td>0</td>\n",
       "      <td>1</td>\n",
       "      <td>55942</td>\n",
       "      <td>3</td>\n",
       "    </tr>\n",
       "    <tr>\n",
       "      <td>161690</td>\n",
       "      <td>0</td>\n",
       "      <td>0</td>\n",
       "      <td>1</td>\n",
       "      <td>0</td>\n",
       "      <td>0</td>\n",
       "      <td>0</td>\n",
       "      <td>0</td>\n",
       "      <td>1</td>\n",
       "      <td>0</td>\n",
       "      <td>1</td>\n",
       "      <td>...</td>\n",
       "      <td>0</td>\n",
       "      <td>1</td>\n",
       "      <td>0</td>\n",
       "      <td>0</td>\n",
       "      <td>1</td>\n",
       "      <td>0</td>\n",
       "      <td>0</td>\n",
       "      <td>0</td>\n",
       "      <td>0</td>\n",
       "      <td>6</td>\n",
       "    </tr>\n",
       "    <tr>\n",
       "      <td>161691</td>\n",
       "      <td>0</td>\n",
       "      <td>0</td>\n",
       "      <td>0</td>\n",
       "      <td>0</td>\n",
       "      <td>0</td>\n",
       "      <td>0</td>\n",
       "      <td>1</td>\n",
       "      <td>0</td>\n",
       "      <td>0</td>\n",
       "      <td>0</td>\n",
       "      <td>...</td>\n",
       "      <td>0</td>\n",
       "      <td>0</td>\n",
       "      <td>1</td>\n",
       "      <td>1</td>\n",
       "      <td>0</td>\n",
       "      <td>1</td>\n",
       "      <td>0</td>\n",
       "      <td>0</td>\n",
       "      <td>0</td>\n",
       "      <td>3</td>\n",
       "    </tr>\n",
       "    <tr>\n",
       "      <td>161692</td>\n",
       "      <td>0</td>\n",
       "      <td>1</td>\n",
       "      <td>0</td>\n",
       "      <td>1</td>\n",
       "      <td>0</td>\n",
       "      <td>0</td>\n",
       "      <td>0</td>\n",
       "      <td>0</td>\n",
       "      <td>1</td>\n",
       "      <td>1</td>\n",
       "      <td>...</td>\n",
       "      <td>1</td>\n",
       "      <td>0</td>\n",
       "      <td>0</td>\n",
       "      <td>0</td>\n",
       "      <td>0</td>\n",
       "      <td>0</td>\n",
       "      <td>1</td>\n",
       "      <td>0</td>\n",
       "      <td>60659</td>\n",
       "      <td>6</td>\n",
       "    </tr>\n",
       "    <tr>\n",
       "      <td>161693</td>\n",
       "      <td>0</td>\n",
       "      <td>0</td>\n",
       "      <td>0</td>\n",
       "      <td>0</td>\n",
       "      <td>1</td>\n",
       "      <td>0</td>\n",
       "      <td>0</td>\n",
       "      <td>0</td>\n",
       "      <td>0</td>\n",
       "      <td>0</td>\n",
       "      <td>...</td>\n",
       "      <td>0</td>\n",
       "      <td>1</td>\n",
       "      <td>1</td>\n",
       "      <td>0</td>\n",
       "      <td>0</td>\n",
       "      <td>0</td>\n",
       "      <td>0</td>\n",
       "      <td>0</td>\n",
       "      <td>19345</td>\n",
       "      <td>3</td>\n",
       "    </tr>\n",
       "  </tbody>\n",
       "</table>\n",
       "<p>161694 rows × 39 columns</p>\n",
       "</div>"
      ],
      "text/plain": [
       "        H0  H1  H2  H3  H4  H5  H6  H7  H8  K0  ...  E2  E3  E4  E5  E6  E7  \\\n",
       "0        0   0   1   0   0   0   1   0   0   1  ...   0   0   0   0   1   0   \n",
       "1        0   0   1   0   1   1   0   0   0   0  ...   0   0   0   0   0   1   \n",
       "2        0   0   0   0   0   0   0   0   1   0  ...   0   0   0   0   1   0   \n",
       "3        1   0   0   0   1   0   0   0   1   1  ...   0   0   1   0   1   0   \n",
       "4        1   1   0   0   0   0   0   0   0   0  ...   1   0   0   0   0   0   \n",
       "...     ..  ..  ..  ..  ..  ..  ..  ..  ..  ..  ...  ..  ..  ..  ..  ..  ..   \n",
       "161689   0   1   0   0   0   1   0   0   0   0  ...   0   1   0   1   1   0   \n",
       "161690   0   0   1   0   0   0   0   1   0   1  ...   0   1   0   0   1   0   \n",
       "161691   0   0   0   0   0   0   1   0   0   0  ...   0   0   1   1   0   1   \n",
       "161692   0   1   0   1   0   0   0   0   1   1  ...   1   0   0   0   0   0   \n",
       "161693   0   0   0   0   1   0   0   0   0   0  ...   0   1   1   0   0   0   \n",
       "\n",
       "        E8  Geschoben  Player  Aktion  \n",
       "0        0          1    1631       2  \n",
       "1        0          0   64310       6  \n",
       "2        1          0   16721       1  \n",
       "3        0          1       0       4  \n",
       "4        0          1   72620       4  \n",
       "...     ..        ...     ...     ...  \n",
       "161689   0          1   55942       3  \n",
       "161690   0          0       0       6  \n",
       "161691   0          0       0       3  \n",
       "161692   1          0   60659       6  \n",
       "161693   0          0   19345       3  \n",
       "\n",
       "[161694 rows x 39 columns]"
      ]
     },
     "execution_count": 5,
     "metadata": {},
     "output_type": "execute_result"
    }
   ],
   "source": [
    "import itertools\n",
    "datafile = 'data/jass/rnd_01.csv'\n",
    "col_names = [a+str(b) for (a,b) in itertools.product([farbe for farbe in 'HKSE'], [bild for bild in range(9)])]+[\"Geschoben\", \"Player\", \"Aktion\"]\n",
    "data = pd.read_csv(datafile, header=None, names=col_names)\n",
    "data"
   ]
  },
  {
   "cell_type": "markdown",
   "metadata": {},
   "source": [
    "## Binary Classification on targets 0 and 1"
   ]
  },
  {
   "cell_type": "code",
   "execution_count": 6,
   "metadata": {},
   "outputs": [],
   "source": [
    "# select subset of data\n",
    "target_classes = [0,1]\n",
    "zeroone = data[data['Aktion'].isin(target_classes)]\n",
    "zeroone = zeroone.drop(columns='Player')\n",
    "X = zeroone.loc[:,'H0':'Geschoben'].values\n",
    "y = zeroone.loc[:,'Aktion']\n",
    "\n",
    "# make sure targets are binary (required by GPC implementation of sklearn)\n",
    "y = y.isin(target_classes[0:1]) # first class = 1, second = 0\n",
    "y = y.values"
   ]
  },
  {
   "cell_type": "code",
   "execution_count": 7,
   "metadata": {},
   "outputs": [
    {
     "name": "stdout",
     "output_type": "stream",
     "text": [
      "Train: 500, Test: 10000\n"
     ]
    }
   ],
   "source": [
    "X_train, X_test, y_train, y_test = train_test_split(X,y,train_size=500, test_size=10000, random_state=23)\n",
    "print('Train: %i, Test: %i' % (len(y_train), len(y_test)))"
   ]
  },
  {
   "cell_type": "markdown",
   "metadata": {},
   "source": [
    "### With sklearn (uses Laplace approx)"
   ]
  },
  {
   "cell_type": "code",
   "execution_count": 5,
   "metadata": {},
   "outputs": [
    {
     "name": "stdout",
     "output_type": "stream",
     "text": [
      "CPU times: user 2.08 s, sys: 400 ms, total: 2.48 s\n",
      "Wall time: 1.26 s\n"
     ]
    }
   ],
   "source": [
    "%%time\n",
    "kernel = 1.0*RBF()\n",
    "clf = GaussianProcessClassifier(kernel, n_restarts_optimizer=0, random_state=23)\n",
    "_ = clf.fit(X_train, y_train)"
   ]
  },
  {
   "cell_type": "code",
   "execution_count": 11,
   "metadata": {},
   "outputs": [
    {
     "name": "stdout",
     "output_type": "stream",
     "text": [
      "Accuracy: 0.955\n",
      "Kernel Hyperparams:\n",
      "  variance        6141.4\n",
      "  length_scale      20.6\n",
      "Log-evidence    -107.0\n"
     ]
    }
   ],
   "source": [
    "score = clf.score(X_test, y_test)\n",
    "print('Accuracy: %.3f' % score)\n",
    "print('Kernel Hyperparams:\\n  variance    %10.1f\\n  length_scale%10.1f\\nLog Marginal Likelihood: %.1f' % (clf.kernel_.k1.get_params()['constant_value'], clf.kernel_.k2.get_params()['length_scale'], clf.log_marginal_likelihood()))"
   ]
  },
  {
   "cell_type": "markdown",
   "metadata": {},
   "source": [
    "### With GPy (uses EP approx)"
   ]
  },
  {
   "cell_type": "code",
   "execution_count": 12,
   "metadata": {},
   "outputs": [
    {
     "name": "stdout",
     "output_type": "stream",
     "text": [
      "CPU times: user 8.33 s, sys: 3.12 s, total: 11.4 s\n",
      "Wall time: 5.74 s\n"
     ]
    }
   ],
   "source": [
    "%%time\n",
    "m = GPy.models.GPClassification(X_train,y_train.reshape(-1,1))"
   ]
  },
  {
   "cell_type": "code",
   "execution_count": 13,
   "metadata": {},
   "outputs": [
    {
     "name": "stderr",
     "output_type": "stream",
     "text": [
      " /usr/local/lib/python3.6/dist-packages/paramz/transformations.py:111: RuntimeWarning:overflow encountered in expm1\n"
     ]
    },
    {
     "name": "stdout",
     "output_type": "stream",
     "text": [
      "CPU times: user 38.7 s, sys: 12.9 s, total: 51.5 s\n",
      "Wall time: 25.8 s\n"
     ]
    }
   ],
   "source": [
    "%%time\n",
    "for i in range(3):\n",
    "    m.optimize('bfgs', max_iters=100)"
   ]
  },
  {
   "cell_type": "code",
   "execution_count": 18,
   "metadata": {},
   "outputs": [
    {
     "name": "stdout",
     "output_type": "stream",
     "text": [
      "Accuracy: 0.955\n",
      "Kernel Hyperparams:\n",
      "  variance        1873.4\n",
      "  length_scale      31.8\n",
      "Log-evidence: 109.2\n"
     ]
    }
   ],
   "source": [
    "pred_prob_means = m.predict(X_test)[0].reshape(-1)\n",
    "pred = pred_prob_means > 0.5\n",
    "score = np.equal(pred, y_test).mean()\n",
    "print('Accuracy: %.3f' % score)\n",
    "print('Kernel Hyperparams:\\n  variance    %10.1f\\n  length_scale%10.1f\\nLog Marginal Likelihood: %.1f: %.1f' % (m.kern.variance, m.kern.lengthscale, m.log_likelihood()))"
   ]
  },
  {
   "cell_type": "markdown",
   "metadata": {},
   "source": [
    "### Increasing training set size"
   ]
  },
  {
   "cell_type": "code",
   "execution_count": 19,
   "metadata": {},
   "outputs": [
    {
     "name": "stdout",
     "output_type": "stream",
     "text": [
      "Train: 1000, Test: 10000\n"
     ]
    }
   ],
   "source": [
    "X_train, X_test, y_train, y_test = train_test_split(X,y,train_size=1000, test_size=10000, random_state=23)\n",
    "print('Train: %i, Test: %i' % (len(y_train), len(y_test)))"
   ]
  },
  {
   "cell_type": "code",
   "execution_count": 20,
   "metadata": {},
   "outputs": [
    {
     "name": "stdout",
     "output_type": "stream",
     "text": [
      "CPU times: user 1min 18s, sys: 27.1 s, total: 1min 45s\n",
      "Wall time: 52.9 s\n"
     ]
    }
   ],
   "source": [
    "%%time\n",
    "m = GPy.models.GPClassification(X_train,y_train.reshape(-1,1))"
   ]
  },
  {
   "cell_type": "code",
   "execution_count": 21,
   "metadata": {},
   "outputs": [
    {
     "name": "stderr",
     "output_type": "stream",
     "text": [
      " /usr/local/lib/python3.6/dist-packages/paramz/transformations.py:111: RuntimeWarning:overflow encountered in expm1\n"
     ]
    },
    {
     "name": "stdout",
     "output_type": "stream",
     "text": [
      "CPU times: user 6min 48s, sys: 2min 21s, total: 9min 9s\n",
      "Wall time: 4min 45s\n"
     ]
    }
   ],
   "source": [
    "%%time\n",
    "for i in range(3):\n",
    "    m.optimize('bfgs', max_iters=100)"
   ]
  },
  {
   "cell_type": "code",
   "execution_count": 22,
   "metadata": {},
   "outputs": [
    {
     "name": "stdout",
     "output_type": "stream",
     "text": [
      "Accuracy: 0.961\n",
      "Kernel Hyperparams:\n",
      "  variance        2514.7\n",
      "  length_scale      33.7\n",
      "Log-evidence: 169.2\n"
     ]
    }
   ],
   "source": [
    "pred_prob_means = m.predict(X_test)[0].reshape(-1)\n",
    "pred = pred_prob_means > 0.5\n",
    "score = np.equal(pred, y_test).mean()\n",
    "print('Accuracy: %.3f' % score)\n",
    "print('Kernel Hyperparams:\\n  variance    %10.1f\\n  length_scale%10.1f\\nLog Marginal Likelihood: %.1f' % (m.kern.variance, m.kern.lengthscale, m.log_likelihood()))"
   ]
  },
  {
   "cell_type": "markdown",
   "metadata": {},
   "source": [
    "## Sparse Gaussian Process"
   ]
  },
  {
   "cell_type": "code",
   "execution_count": 35,
   "metadata": {},
   "outputs": [
    {
     "name": "stdout",
     "output_type": "stream",
     "text": [
      "Train: 1000, Test: 10000\n"
     ]
    }
   ],
   "source": [
    "X_train, X_test, y_train, y_test = train_test_split(X,y,train_size=1000, test_size=10000, random_state=23)\n",
    "print('Train: %i, Test: %i' % (len(y_train), len(y_test)))"
   ]
  },
  {
   "cell_type": "code",
   "execution_count": 36,
   "metadata": {},
   "outputs": [
    {
     "name": "stdout",
     "output_type": "stream",
     "text": [
      "CPU times: user 9.08 s, sys: 1.97 s, total: 11 s\n",
      "Wall time: 5.55 s\n"
     ]
    }
   ],
   "source": [
    "%%time\n",
    "m = GPy.models.SparseGPClassification(X_train,y_train.reshape(-1,1), num_inducing=150)"
   ]
  },
  {
   "cell_type": "code",
   "execution_count": 37,
   "metadata": {},
   "outputs": [
    {
     "name": "stdout",
     "output_type": "stream",
     "text": [
      "\n",
      "Name : SparseGPClassification\n",
      "Objective : 374.5421538248663\n",
      "Number of Parameters : 5552\n",
      "Number of Optimization Parameters : 5552\n",
      "Updates : True\n",
      "Parameters:\n",
      "  \u001b[1mSparseGPClassification.\u001b[0;0m  |              value  |  constraints  |  priors\n",
      "  \u001b[1minducing_inputs        \u001b[0;0m  |          (150, 37)  |               |        \n",
      "  \u001b[1mrbf.variance           \u001b[0;0m  |  95.31267044176253  |      +ve      |        \n",
      "  \u001b[1mrbf.lengthscale        \u001b[0;0m  |   29.5454140981156  |      +ve      |        \n",
      "\n",
      "Name : SparseGPClassification\n",
      "Objective : 195.21958590615122\n",
      "Number of Parameters : 5552\n",
      "Number of Optimization Parameters : 5552\n",
      "Updates : True\n",
      "Parameters:\n",
      "  \u001b[1mSparseGPClassification.\u001b[0;0m  |               value  |  constraints  |  priors\n",
      "  \u001b[1minducing_inputs        \u001b[0;0m  |           (150, 37)  |               |        \n",
      "  \u001b[1mrbf.variance           \u001b[0;0m  |   968.1786266458541  |      +ve      |        \n",
      "  \u001b[1mrbf.lengthscale        \u001b[0;0m  |  36.714500459230536  |      +ve      |        \n",
      "\n",
      "Name : SparseGPClassification\n",
      "Objective : 172.42955345097926\n",
      "Number of Parameters : 5552\n",
      "Number of Optimization Parameters : 5552\n",
      "Updates : True\n",
      "Parameters:\n",
      "  \u001b[1mSparseGPClassification.\u001b[0;0m  |               value  |  constraints  |  priors\n",
      "  \u001b[1minducing_inputs        \u001b[0;0m  |           (150, 37)  |               |        \n",
      "  \u001b[1mrbf.variance           \u001b[0;0m  |   968.7774075162163  |      +ve      |        \n",
      "  \u001b[1mrbf.lengthscale        \u001b[0;0m  |  25.123084011771827  |      +ve      |        \n",
      "\n",
      "Name : SparseGPClassification\n",
      "Objective : 170.1935898908905\n",
      "Number of Parameters : 5552\n",
      "Number of Optimization Parameters : 5552\n",
      "Updates : True\n",
      "Parameters:\n",
      "  \u001b[1mSparseGPClassification.\u001b[0;0m  |               value  |  constraints  |  priors\n",
      "  \u001b[1minducing_inputs        \u001b[0;0m  |           (150, 37)  |               |        \n",
      "  \u001b[1mrbf.variance           \u001b[0;0m  |   968.8511140333876  |      +ve      |        \n",
      "  \u001b[1mrbf.lengthscale        \u001b[0;0m  |  22.365661226423278  |      +ve      |        \n",
      "\n",
      "Name : SparseGPClassification\n",
      "Objective : 169.76526841904706\n",
      "Number of Parameters : 5552\n",
      "Number of Optimization Parameters : 5552\n",
      "Updates : True\n",
      "Parameters:\n",
      "  \u001b[1mSparseGPClassification.\u001b[0;0m  |               value  |  constraints  |  priors\n",
      "  \u001b[1minducing_inputs        \u001b[0;0m  |           (150, 37)  |               |        \n",
      "  \u001b[1mrbf.variance           \u001b[0;0m  |    968.895579798276  |      +ve      |        \n",
      "  \u001b[1mrbf.lengthscale        \u001b[0;0m  |  21.964214383389216  |      +ve      |        \n",
      "\n",
      "Name : SparseGPClassification\n",
      "Objective : 169.67888907651377\n",
      "Number of Parameters : 5552\n",
      "Number of Optimization Parameters : 5552\n",
      "Updates : True\n",
      "Parameters:\n",
      "  \u001b[1mSparseGPClassification.\u001b[0;0m  |               value  |  constraints  |  priors\n",
      "  \u001b[1minducing_inputs        \u001b[0;0m  |           (150, 37)  |               |        \n",
      "  \u001b[1mrbf.variance           \u001b[0;0m  |   968.9012827958347  |      +ve      |        \n",
      "  \u001b[1mrbf.lengthscale        \u001b[0;0m  |  21.982502170427104  |      +ve      |        \n",
      "CPU times: user 2min 2s, sys: 35.7 s, total: 2min 38s\n",
      "Wall time: 1min 28s\n"
     ]
    }
   ],
   "source": [
    "%%time\n",
    "for i in range(6):\n",
    "    m.optimize('bfgs', max_iters=100)\n",
    "    print(m)"
   ]
  },
  {
   "cell_type": "code",
   "execution_count": 45,
   "metadata": {},
   "outputs": [
    {
     "name": "stdout",
     "output_type": "stream",
     "text": [
      "Accuracy: 0.961\n",
      "Kernel Hyperparams:\n",
      "  variance         968.9\n",
      "  length_scale      22.0\n",
      "Log Marginal Likelihood: -169.7\n"
     ]
    }
   ],
   "source": [
    "pred_prob_means = m.predict(X_test)[0].reshape(-1)\n",
    "pred = pred_prob_means > 0.5\n",
    "score = np.equal(pred, y_test).mean()\n",
    "print('Accuracy: %.3f' % score)\n",
    "print('Kernel Hyperparams:\\n  variance    %10.1f\\n  length_scale%10.1f\\nLog Marginal Likelihood: %.1f' % (m.kern.variance, m.kern.lengthscale, m.log_likelihood()))"
   ]
  },
  {
   "cell_type": "markdown",
   "metadata": {},
   "source": [
    "The log-marginal-likelihood of the full and the sparse model is equal (~169). This implies that a sparse model with 150 inducing variables explains the data as well as the full model with 1000 training points!"
   ]
  },
  {
   "cell_type": "code",
   "execution_count": null,
   "metadata": {},
   "outputs": [],
   "source": []
  },
  {
   "cell_type": "markdown",
   "metadata": {},
   "source": [
    "## Sparse Gaussian Process (on 10'0000)"
   ]
  },
  {
   "cell_type": "code",
   "execution_count": 8,
   "metadata": {},
   "outputs": [
    {
     "name": "stdout",
     "output_type": "stream",
     "text": [
      "Train: 10000, Test: 10000\n"
     ]
    }
   ],
   "source": [
    "X_train, X_test, y_train, y_test = train_test_split(X,y,train_size=10000, test_size=10000, random_state=23)\n",
    "print('Train: %i, Test: %i' % (len(y_train), len(y_test)))"
   ]
  },
  {
   "cell_type": "code",
   "execution_count": 9,
   "metadata": {},
   "outputs": [
    {
     "name": "stdout",
     "output_type": "stream",
     "text": [
      "CPU times: user 21min 11s, sys: 3min 54s, total: 25min 5s\n",
      "Wall time: 12min 37s\n"
     ]
    }
   ],
   "source": [
    "%%time\n",
    "m = GPy.models.SparseGPClassification(X_train,y_train.reshape(-1,1), num_inducing=150)"
   ]
  },
  {
   "cell_type": "code",
   "execution_count": null,
   "metadata": {},
   "outputs": [
    {
     "name": "stdout",
     "output_type": "stream",
     "text": [
      "\n",
      "Name : SparseGPClassification\n",
      "Objective : 2908.428568920057\n",
      "Number of Parameters : 5552\n",
      "Number of Optimization Parameters : 5552\n",
      "Updates : True\n",
      "Parameters:\n",
      "  \u001b[1mSparseGPClassification.\u001b[0;0m  |              value  |  constraints  |  priors\n",
      "  \u001b[1minducing_inputs        \u001b[0;0m  |          (150, 37)  |               |        \n",
      "  \u001b[1mrbf.variance           \u001b[0;0m  |  405.5641109277961  |      +ve      |        \n",
      "  \u001b[1mrbf.lengthscale        \u001b[0;0m  |  57.99457502433479  |      +ve      |        \n",
      "\n",
      "Name : SparseGPClassification\n",
      "Objective : 1060.853373041733\n",
      "Number of Parameters : 5552\n",
      "Number of Optimization Parameters : 5552\n",
      "Updates : True\n",
      "Parameters:\n",
      "  \u001b[1mSparseGPClassification.\u001b[0;0m  |               value  |  constraints  |  priors\n",
      "  \u001b[1minducing_inputs        \u001b[0;0m  |           (150, 37)  |               |        \n",
      "  \u001b[1mrbf.variance           \u001b[0;0m  |  407.47683576165747  |      +ve      |        \n",
      "  \u001b[1mrbf.lengthscale        \u001b[0;0m  |  21.795378616346625  |      +ve      |        \n",
      "\n",
      "Name : SparseGPClassification\n",
      "Objective : 1043.96645648712\n",
      "Number of Parameters : 5552\n",
      "Number of Optimization Parameters : 5552\n",
      "Updates : True\n",
      "Parameters:\n",
      "  \u001b[1mSparseGPClassification.\u001b[0;0m  |               value  |  constraints  |  priors\n",
      "  \u001b[1minducing_inputs        \u001b[0;0m  |           (150, 37)  |               |        \n",
      "  \u001b[1mrbf.variance           \u001b[0;0m  |  407.61184465606027  |      +ve      |        \n",
      "  \u001b[1mrbf.lengthscale        \u001b[0;0m  |  19.164347071783755  |      +ve      |        \n",
      "\n",
      "Name : SparseGPClassification\n",
      "Objective : 1042.7096093145228\n",
      "Number of Parameters : 5552\n",
      "Number of Optimization Parameters : 5552\n",
      "Updates : True\n",
      "Parameters:\n",
      "  \u001b[1mSparseGPClassification.\u001b[0;0m  |               value  |  constraints  |  priors\n",
      "  \u001b[1minducing_inputs        \u001b[0;0m  |           (150, 37)  |               |        \n",
      "  \u001b[1mrbf.variance           \u001b[0;0m  |   407.7320817653942  |      +ve      |        \n",
      "  \u001b[1mrbf.lengthscale        \u001b[0;0m  |  18.917658973838446  |      +ve      |        \n"
     ]
    }
   ],
   "source": [
    "%%time\n",
    "for i in range(6):\n",
    "    m.optimize('bfgs', max_iters=100)\n",
    "    print(m)"
   ]
  },
  {
   "cell_type": "code",
   "execution_count": null,
   "metadata": {},
   "outputs": [],
   "source": [
    "pred_prob_means = m.predict(X_test)[0].reshape(-1)\n",
    "pred = pred_prob_means > 0.5\n",
    "score = np.equal(pred, y_test).mean()\n",
    "print('Accuracy: %.3f' % score)\n",
    "print('Kernel Hyperparams:\\n  variance    %10.1f\\n  length_scale%10.1f\\nLog Marginal Likelihood: %.1f' % (m.kern.variance, m.kern.lengthscale, m.log_likelihood()))"
   ]
  },
  {
   "cell_type": "code",
   "execution_count": null,
   "metadata": {},
   "outputs": [],
   "source": []
  }
 ],
 "metadata": {
  "kernelspec": {
   "display_name": "Python 3",
   "language": "python",
   "name": "python3"
  },
  "language_info": {
   "codemirror_mode": {
    "name": "ipython",
    "version": 3
   },
   "file_extension": ".py",
   "mimetype": "text/x-python",
   "name": "python",
   "nbconvert_exporter": "python",
   "pygments_lexer": "ipython3",
   "version": "3.6.8"
  }
 },
 "nbformat": 4,
 "nbformat_minor": 4
}
