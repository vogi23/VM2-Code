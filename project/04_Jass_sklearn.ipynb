{
 "cells": [
  {
   "cell_type": "code",
   "execution_count": 1,
   "metadata": {},
   "outputs": [],
   "source": [
    "import numpy as np\n",
    "import pandas as pd\n",
    "\n",
    "from sklearn.model_selection import train_test_split\n",
    "\n",
    "from sklearn.gaussian_process import GaussianProcessClassifier\n",
    "from sklearn.gaussian_process.kernels import RBF"
   ]
  },
  {
   "cell_type": "code",
   "execution_count": 2,
   "metadata": {},
   "outputs": [],
   "source": [
    "import itertools\n",
    "datafile = 'data/jass/rnd_01.csv'\n",
    "col_names = [a+str(b) for (a,b) in itertools.product([farbe for farbe in 'HKSE'], [bild for bild in range(9)])]+[\"Geschoben\", \"Player\", \"Aktion\"]\n",
    "data = pd.read_csv(datafile, header=None, names=col_names)"
   ]
  },
  {
   "cell_type": "code",
   "execution_count": 6,
   "metadata": {},
   "outputs": [
    {
     "data": {
      "text/plain": [
       "<matplotlib.axes._subplots.AxesSubplot at 0x7f94e4d00fd0>"
      ]
     },
     "execution_count": 6,
     "metadata": {},
     "output_type": "execute_result"
    },
    {
     "data": {
      "image/png": "[encoded data removed]",
      "text/plain": [
       "<Figure size 432x288 with 1 Axes>"
      ]
     },
     "metadata": {
      "needs_background": "light"
     },
     "output_type": "display_data"
    }
   ],
   "source": [
    "# Plot overall distribution of targets (Aktion)\n",
    "data.groupby('Aktion').size().plot(kind='bar')"
   ]
  },
  {
   "cell_type": "markdown",
   "metadata": {},
   "source": [
    "Aktion = 6 might be \"Schieben\". This might be a problem in one-vs-rest/one-vs-one classificatoin"
   ]
  },
  {
   "cell_type": "markdown",
   "metadata": {},
   "source": [
    "## One vs. One classification on targets 0 and 1"
   ]
  },
  {
   "cell_type": "code",
   "execution_count": 7,
   "metadata": {},
   "outputs": [],
   "source": [
    "# select subset of data\n",
    "target_classes = [0,1]\n",
    "zeroone = data[data['Aktion'].isin(target_classes)]\n",
    "zeroone = zeroone.drop(columns='Player')\n",
    "X = zeroone.loc[:,'H0':'Geschoben']\n",
    "y = zeroone.loc[:,'Aktion']\n",
    "\n",
    "# make sure targets are binary (required by GPC implementation of sklearn)\n",
    "y = y.isin(target_classes[0:1]) # first class = 1, second = 0"
   ]
  },
  {
   "cell_type": "code",
   "execution_count": 8,
   "metadata": {},
   "outputs": [
    {
     "name": "stdout",
     "output_type": "stream",
     "text": [
      "Same input but different output: 0 (0.00%)\n"
     ]
    }
   ],
   "source": [
    "# Analyize set. Are there any equal x with other y?\n",
    "n = (zeroone.groupby(by=list(X.columns)).Aktion.nunique() > 1).sum() / 2\n",
    "print('Same input but different output: %d (%.2f%%)' % (n, n/X.shape[0]))"
   ]
  },
  {
   "cell_type": "code",
   "execution_count": 28,
   "metadata": {},
   "outputs": [
    {
     "name": "stdout",
     "output_type": "stream",
     "text": [
      "Train: 1000, Test: 27509\n"
     ]
    }
   ],
   "source": [
    "X_train, X_test, y_train, y_test = train_test_split(X,y,train_size=1000, random_state=23)\n",
    "print('Train: %i, Test: %i' % (len(y_train), len(y_test)))"
   ]
  },
  {
   "cell_type": "code",
   "execution_count": 29,
   "metadata": {},
   "outputs": [
    {
     "name": "stdout",
     "output_type": "stream",
     "text": [
      "CPU times: user 16.2 s, sys: 4.49 s, total: 20.7 s\n",
      "Wall time: 10.4 s\n"
     ]
    }
   ],
   "source": [
    "kernel = RBF()\n",
    "clf = GaussianProcessClassifier(kernel, n_restarts_optimizer=5, random_state=23)\n",
    "%time \\\n",
    "_ = clf.fit(X_train, y_train)"
   ]
  },
  {
   "cell_type": "code",
   "execution_count": 30,
   "metadata": {},
   "outputs": [
    {
     "name": "stdout",
     "output_type": "stream",
     "text": [
      "CPU times: user 1.03 s, sys: 180 ms, total: 1.21 s\n",
      "Wall time: 1.18 s\n",
      "Accuracy: 0.953\n"
     ]
    }
   ],
   "source": [
    "%time \\\n",
    "score = clf.score(X_test, y_test)\n",
    "print('Accuracy: %.3f' % score)"
   ]
  },
  {
   "cell_type": "markdown",
   "metadata": {},
   "source": [
    "## Multiclass classification: One vs. Rest"
   ]
  },
  {
   "cell_type": "code",
   "execution_count": 31,
   "metadata": {},
   "outputs": [],
   "source": [
    "# select subset of data\n",
    "allclasses = data.drop(columns='Player')\n",
    "X = allclasses.loc[:,'H0':'Geschoben']\n",
    "y = allclasses.loc[:,'Aktion']"
   ]
  },
  {
   "cell_type": "code",
   "execution_count": 32,
   "metadata": {},
   "outputs": [
    {
     "name": "stdout",
     "output_type": "stream",
     "text": [
      "Same input but different output: 24 (0.00015%)\n"
     ]
    }
   ],
   "source": [
    "# Analyize set. Are there any equal x with other y?\n",
    "n = (allclasses.groupby(by=list(X.columns)).Aktion.nunique() > 1).sum() / 2\n",
    "print('Same input but different output: %d (%.5f%%)' % (n, n/X.shape[0]))"
   ]
  },
  {
   "cell_type": "code",
   "execution_count": 33,
   "metadata": {},
   "outputs": [
    {
     "name": "stdout",
     "output_type": "stream",
     "text": [
      "Train: 1000, Test: 5000\n"
     ]
    }
   ],
   "source": [
    "X_train, X_test, y_train, y_test = train_test_split(X,y,train_size=1000, test_size=5000, random_state=23)\n",
    "print('Train: %i, Test: %i' % (len(y_train), len(y_test)))"
   ]
  },
  {
   "cell_type": "code",
   "execution_count": 34,
   "metadata": {},
   "outputs": [
    {
     "name": "stdout",
     "output_type": "stream",
     "text": [
      "Accuracy: 0.595\n",
      "CPU times: user 53.6 s, sys: 11.3 s, total: 1min 4s\n",
      "Wall time: 32.8 s\n"
     ]
    }
   ],
   "source": [
    "%%time\n",
    "kernel = RBF()\n",
    "clf = GaussianProcessClassifier(kernel, n_restarts_optimizer=5, random_state=23, multi_class='one_vs_rest')\n",
    "clf.fit(X_train, y_train)\n",
    "print('Accuracy: %.3f' % clf.score(X_test, y_test))"
   ]
  },
  {
   "cell_type": "markdown",
   "metadata": {},
   "source": [
    "## Multiclass classification (without \"Schieben\"): One vs. Rest"
   ]
  },
  {
   "cell_type": "code",
   "execution_count": 35,
   "metadata": {},
   "outputs": [],
   "source": [
    "# select subset of data\n",
    "allbutschieben = data[data.Aktion != 6]\n",
    "allbutschieben = allbutschieben.drop(columns='Player')\n",
    "X = allbutschieben.loc[:,'H0':'Geschoben']\n",
    "y = allbutschieben.loc[:,'Aktion']"
   ]
  },
  {
   "cell_type": "code",
   "execution_count": 36,
   "metadata": {},
   "outputs": [
    {
     "name": "stdout",
     "output_type": "stream",
     "text": [
      "Same input but different output: 4 (0.00005%)\n"
     ]
    }
   ],
   "source": [
    "# Analyize set. Are there any equal x with other y?\n",
    "n = (allbutschieben.groupby(by=list(X.columns)).Aktion.nunique() > 1).sum() / 2\n",
    "print('Same input but different output: %d (%.5f%%)' % (n, n/X.shape[0]))"
   ]
  },
  {
   "cell_type": "code",
   "execution_count": 37,
   "metadata": {},
   "outputs": [
    {
     "name": "stdout",
     "output_type": "stream",
     "text": [
      "Train: 1000, Test: 5000\n"
     ]
    }
   ],
   "source": [
    "X_train, X_test, y_train, y_test = train_test_split(X,y,train_size=1000, test_size=5000, random_state=23)\n",
    "print('Train: %i, Test: %i' % (len(y_train), len(y_test)))"
   ]
  },
  {
   "cell_type": "code",
   "execution_count": 38,
   "metadata": {},
   "outputs": [
    {
     "name": "stdout",
     "output_type": "stream",
     "text": [
      "Accuracy: 0.735\n",
      "CPU times: user 50.7 s, sys: 8.91 s, total: 59.7 s\n",
      "Wall time: 30 s\n"
     ]
    }
   ],
   "source": [
    "%%time\n",
    "kernel = RBF()\n",
    "clf = GaussianProcessClassifier(kernel, n_restarts_optimizer=5, random_state=23, multi_class='one_vs_rest')\n",
    "clf.fit(X_train, y_train)\n",
    "print('Accuracy: %.3f' % clf.score(X_test, y_test))"
   ]
  },
  {
   "cell_type": "markdown",
   "metadata": {},
   "source": [
    "## Multiclass classification (without \"Schieben\"): One vs. One"
   ]
  },
  {
   "cell_type": "code",
   "execution_count": 39,
   "metadata": {},
   "outputs": [
    {
     "name": "stdout",
     "output_type": "stream",
     "text": [
      "Accuracy: 0.734\n",
      "CPU times: user 22.9 s, sys: 5.64 s, total: 28.6 s\n",
      "Wall time: 14.3 s\n"
     ]
    }
   ],
   "source": [
    "%%time\n",
    "kernel = RBF()\n",
    "clf = GaussianProcessClassifier(kernel, n_restarts_optimizer=5, random_state=23, multi_class='one_vs_one')\n",
    "clf.fit(X_train, y_train)\n",
    "print('Accuracy: %.3f' % clf.score(X_test, y_test))"
   ]
  }
 ],
 "metadata": {
  "kernelspec": {
   "display_name": "Python 3",
   "language": "python",
   "name": "python3"
  },
  "language_info": {
   "codemirror_mode": {
    "name": "ipython",
    "version": 3
   },
   "file_extension": ".py",
   "mimetype": "text/x-python",
   "name": "python",
   "nbconvert_exporter": "python",
   "pygments_lexer": "ipython3",
   "version": "3.6.8"
  }
 },
 "nbformat": 4,
 "nbformat_minor": 4
}
