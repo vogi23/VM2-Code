{
 "cells": [
  {
   "cell_type": "code",
   "execution_count": 1,
   "metadata": {},
   "outputs": [],
   "source": [
    "import numpy as np\n",
    "import pandas as pd\n",
    "import pickle\n",
    "import pathlib\n",
    "\n",
    "from sklearn.model_selection import train_test_split\n",
    "\n",
    "from sklearn.gaussian_process import GaussianProcessClassifier\n",
    "from sklearn.gaussian_process.kernels import RBF"
   ]
  },
  {
   "cell_type": "code",
   "execution_count": 2,
   "metadata": {},
   "outputs": [],
   "source": [
    "def save_model(clf, name, path='./models/04_Jass_sklearn/', overwrite=False):\n",
    "    _file = pathlib.Path(path+name)\n",
    "    if _file.exists():\n",
    "        if overwrite:\n",
    "                _file.unlink()\n",
    "        else:\n",
    "            print('%s file already exists' % (str(path+name)))\n",
    "            return\n",
    "    with open(path+name, 'xb') as f:\n",
    "        pickle.dump(clf, f)\n",
    "    \n",
    "def load_model(name, path='./models/04_Jass_sklearn/'):\n",
    "    return pickle.load(open(path+name, 'rb'))"
   ]
  },
  {
   "cell_type": "code",
   "execution_count": 3,
   "metadata": {},
   "outputs": [],
   "source": [
    "import itertools\n",
    "datafile = 'data/jass/rnd_01.csv'\n",
    "col_names = [a+str(b) for (a,b) in itertools.product([farbe for farbe in 'HKSE'], [bild for bild in range(9)])]+[\"Geschoben\", \"Player\", \"Aktion\"]\n",
    "data = pd.read_csv(datafile, header=None, names=col_names)"
   ]
  },
  {
   "cell_type": "code",
   "execution_count": 5,
   "metadata": {},
   "outputs": [
    {
     "data": {
      "text/plain": [
       "<matplotlib.axes._subplots.AxesSubplot at 0x7f9f72483128>"
      ]
     },
     "execution_count": 5,
     "metadata": {},
     "output_type": "execute_result"
    },
    {
     "data": {
      "image/png": "[encoded data removed]",
      "text/plain": [
       "<Figure size 432x288 with 1 Axes>"
      ]
     },
     "metadata": {
      "needs_background": "light"
     },
     "output_type": "display_data"
    }
   ],
   "source": [
    "# Plot overall distribution of targets (Aktion)\n",
    "data.groupby('Aktion').size().plot(kind='bar')"
   ]
  },
  {
   "cell_type": "markdown",
   "metadata": {},
   "source": [
    "Aktion = 6 might be \"Schieben\". This might be a problem in one-vs-rest/one-vs-one classificatoin"
   ]
  },
  {
   "cell_type": "markdown",
   "metadata": {},
   "source": [
    "## One vs. One classification on targets 0 and 1"
   ]
  },
  {
   "cell_type": "code",
   "execution_count": 6,
   "metadata": {},
   "outputs": [],
   "source": [
    "# select subset of data\n",
    "target_classes = [0,1]\n",
    "zeroone = data[data['Aktion'].isin(target_classes)]\n",
    "zeroone = zeroone.drop(columns='Player')\n",
    "X = zeroone.loc[:,'H0':'Geschoben']\n",
    "y = zeroone.loc[:,'Aktion']\n",
    "\n",
    "# make sure targets are binary (required by GPC implementation of sklearn)\n",
    "y = y.isin(target_classes[0:1]) # first class = 1, second = 0"
   ]
  },
  {
   "cell_type": "code",
   "execution_count": 7,
   "metadata": {},
   "outputs": [
    {
     "name": "stdout",
     "output_type": "stream",
     "text": [
      "Same input but different output: 0 (0.00%)\n"
     ]
    }
   ],
   "source": [
    "# Analyize set. Are there any equal x with other y?\n",
    "n = (zeroone.groupby(by=list(X.columns)).Aktion.nunique() > 1).sum() / 2\n",
    "print('Same input but different output: %d (%.2f%%)' % (n, n/X.shape[0]))"
   ]
  },
  {
   "cell_type": "code",
   "execution_count": 9,
   "metadata": {},
   "outputs": [
    {
     "name": "stdout",
     "output_type": "stream",
     "text": [
      "Train: 1000, Test: 10000\n",
      "CPU times: user 1min 13s, sys: 1min 1s, total: 2min 14s\n",
      "Wall time: 22.7 s\n",
      "CPU times: user 570 ms, sys: 490 ms, total: 1.06 s\n",
      "Wall time: 450 ms\n",
      "Accuracy: 0.961\n"
     ]
    }
   ],
   "source": [
    "train_size = 1000\n",
    "X_train, X_test, y_train, y_test = train_test_split(X,y,train_size=train_size,test_size=10000, random_state=23)\n",
    "print('Train: %i, Test: %i' % (len(y_train), len(y_test)))\n",
    "kernel = 1.0*RBF()\n",
    "clf1 = GaussianProcessClassifier(kernel, n_restarts_optimizer=3, random_state=23)\n",
    "%time _ = clf1.fit(X_train, y_train)\n",
    "#save_model(clf1, 'model1')\n",
    "%time score = clf1.score(X_test, y_test)\n",
    "print('Accuracy: %.3f' % score)"
   ]
  },
  {
   "cell_type": "code",
   "execution_count": 10,
   "metadata": {},
   "outputs": [
    {
     "name": "stdout",
     "output_type": "stream",
     "text": [
      "Train: 2000, Test: 10000\n",
      "CPU times: user 9min 1s, sys: 5min 25s, total: 14min 26s\n",
      "Wall time: 2min 42s\n",
      "CPU times: user 1.25 s, sys: 460 ms, total: 1.71 s\n",
      "Wall time: 1.02 s\n",
      "Accuracy: 0.962\n"
     ]
    }
   ],
   "source": [
    "train_size = 2000\n",
    "X_train, X_test, y_train, y_test = train_test_split(X,y,train_size=train_size,test_size=10000, random_state=23)\n",
    "print('Train: %i, Test: %i' % (len(y_train), len(y_test)))\n",
    "kernel = 1.0*RBF()\n",
    "clf2 = GaussianProcessClassifier(kernel, n_restarts_optimizer=3, random_state=23)\n",
    "%time _ = clf2.fit(X_train, y_train)\n",
    "#save_model(clf2, 'model2')\n",
    "%time score = clf2.score(X_test, y_test)\n",
    "print('Accuracy: %.3f' % score)"
   ]
  },
  {
   "cell_type": "code",
   "execution_count": 11,
   "metadata": {},
   "outputs": [
    {
     "name": "stdout",
     "output_type": "stream",
     "text": [
      "Train: 4000, Test: 10000\n",
      "CPU times: user 46min 47s, sys: 11min 13s, total: 58min\n",
      "Wall time: 12min 30s\n",
      "./models/04_Jass_sklearn/model2 file already exists\n",
      "CPU times: user 1.87 s, sys: 420 ms, total: 2.29 s\n",
      "Wall time: 1.72 s\n",
      "Accuracy: 0.964\n"
     ]
    }
   ],
   "source": [
    "train_size = 4000\n",
    "X_train, X_test, y_train, y_test = train_test_split(X,y,train_size=train_size,test_size=10000, random_state=23)\n",
    "print('Train: %i, Test: %i' % (len(y_train), len(y_test)))\n",
    "kernel = 1.0*RBF()\n",
    "clf2_4 = GaussianProcessClassifier(kernel, n_restarts_optimizer=3, random_state=23)\n",
    "%time _ = clf2_4.fit(X_train, y_train)\n",
    "save_model(clf2_4, 'model2')\n",
    "%time score = clf2_4.score(X_test, y_test)\n",
    "print('Accuracy: %.3f' % score)"
   ]
  },
  {
   "cell_type": "markdown",
   "metadata": {},
   "source": [
    "## Multiclass classification: One vs. Rest"
   ]
  },
  {
   "cell_type": "code",
   "execution_count": 9,
   "metadata": {},
   "outputs": [],
   "source": [
    "# select subset of data\n",
    "allclasses = data.drop(columns='Player')\n",
    "X = allclasses.loc[:,'H0':'Geschoben']\n",
    "y = allclasses.loc[:,'Aktion']"
   ]
  },
  {
   "cell_type": "code",
   "execution_count": 10,
   "metadata": {},
   "outputs": [
    {
     "name": "stdout",
     "output_type": "stream",
     "text": [
      "Same input but different output: 24 (0.00015%)\n"
     ]
    }
   ],
   "source": [
    "# Analyize set. Are there any equal x with other y?\n",
    "n = (allclasses.groupby(by=list(X.columns)).Aktion.nunique() > 1).sum() / 2\n",
    "print('Same input but different output: %d (%.5f%%)' % (n, n/X.shape[0]))"
   ]
  },
  {
   "cell_type": "code",
   "execution_count": 11,
   "metadata": {},
   "outputs": [
    {
     "name": "stdout",
     "output_type": "stream",
     "text": [
      "Train: 1000, Test: 10000\n",
      "CPU times: user 13min 34s, sys: 11min 28s, total: 25min 2s\n",
      "Wall time: 4min 12s\n",
      "CPU times: user 18 s, sys: 6.29 s, total: 24.3 s\n",
      "Wall time: 6.52 s\n",
      "Accuracy: 0.578\n"
     ]
    }
   ],
   "source": [
    "train_size = 1000\n",
    "X_train, X_test, y_train, y_test = train_test_split(X,y,train_size=train_size, test_size=10000, random_state=23)\n",
    "print('Train: %i, Test: %i' % (len(y_train), len(y_test)))\n",
    "kernel = 1.0*RBF()\n",
    "clf3 = GaussianProcessClassifier(kernel, n_restarts_optimizer=3, random_state=23)\n",
    "%time _ = clf3.fit(X_train, y_train)\n",
    "save_model(clf3, 'model3')\n",
    "%time score = clf3.score(X_test, y_test)\n",
    "print('Accuracy: %.3f' % score)"
   ]
  },
  {
   "cell_type": "code",
   "execution_count": 12,
   "metadata": {},
   "outputs": [
    {
     "name": "stdout",
     "output_type": "stream",
     "text": [
      "Train: 2000, Test: 10000\n",
      "CPU times: user 53min 55s, sys: 33min 37s, total: 1h 27min 33s\n",
      "Wall time: 16min 19s\n",
      "CPU times: user 51.9 s, sys: 7.5 s, total: 59.4 s\n",
      "Wall time: 14.9 s\n",
      "Accuracy: 0.600\n"
     ]
    }
   ],
   "source": [
    "train_size = 2000\n",
    "X_train, X_test, y_train, y_test = train_test_split(X,y,train_size=train_size, test_size=10000, random_state=23)\n",
    "print('Train: %i, Test: %i' % (len(y_train), len(y_test)))\n",
    "kernel = 1.0*RBF()\n",
    "clf4 = GaussianProcessClassifier(kernel, n_restarts_optimizer=3, random_state=23)\n",
    "%time _ = clf4.fit(X_train, y_train)\n",
    "save_model(clf4, 'model4')\n",
    "%time score = clf4.score(X_test, y_test)\n",
    "print('Accuracy: %.3f' % score)"
   ]
  },
  {
   "cell_type": "markdown",
   "metadata": {},
   "source": [
    "## Multiclass classification (without \"Schieben\"): One vs. Rest"
   ]
  },
  {
   "cell_type": "code",
   "execution_count": 13,
   "metadata": {},
   "outputs": [],
   "source": [
    "# select subset of data\n",
    "allbutschieben = data[data.Aktion != 6]\n",
    "allbutschieben = allbutschieben.drop(columns='Player')\n",
    "X = allbutschieben.loc[:,'H0':'Geschoben']\n",
    "y = allbutschieben.loc[:,'Aktion']"
   ]
  },
  {
   "cell_type": "code",
   "execution_count": 14,
   "metadata": {},
   "outputs": [
    {
     "name": "stdout",
     "output_type": "stream",
     "text": [
      "Same input but different output: 4 (0.00005%)\n"
     ]
    }
   ],
   "source": [
    "# Analyize set. Are there any equal x with other y?\n",
    "n = (allbutschieben.groupby(by=list(X.columns)).Aktion.nunique() > 1).sum() / 2\n",
    "print('Same input but different output: %d (%.5f%%)' % (n, n/X.shape[0]))"
   ]
  },
  {
   "cell_type": "code",
   "execution_count": 15,
   "metadata": {},
   "outputs": [
    {
     "name": "stdout",
     "output_type": "stream",
     "text": [
      "Train: 1000, Test: 10000\n",
      "CPU times: user 11min 31s, sys: 9min 56s, total: 21min 28s\n",
      "Wall time: 3min 36s\n",
      "CPU times: user 15.4 s, sys: 5.24 s, total: 20.6 s\n",
      "Wall time: 5.58 s\n",
      "Accuracy: 0.736\n"
     ]
    }
   ],
   "source": [
    "train_size = 1000\n",
    "X_train, X_test, y_train, y_test = train_test_split(X,y,train_size=train_size, test_size=10000, random_state=23)\n",
    "print('Train: %i, Test: %i' % (len(y_train), len(y_test)))\n",
    "kernel = 1.0*RBF()\n",
    "clf5 = GaussianProcessClassifier(kernel, n_restarts_optimizer=3, random_state=23, multi_class='one_vs_rest')\n",
    "%time clf5.fit(X_train, y_train)\n",
    "save_model(clf5, 'model5')\n",
    "%time score = clf5.score(X_test, y_test)\n",
    "print('Accuracy: %.3f' % score)"
   ]
  },
  {
   "cell_type": "code",
   "execution_count": 16,
   "metadata": {},
   "outputs": [
    {
     "name": "stdout",
     "output_type": "stream",
     "text": [
      "Train: 2000, Test: 10000\n",
      "CPU times: user 49min 21s, sys: 27min 44s, total: 1h 17min 6s\n",
      "Wall time: 13min 56s\n",
      "CPU times: user 51.8 s, sys: 7.42 s, total: 59.2 s\n",
      "Wall time: 14.7 s\n",
      "Accuracy: 0.751\n"
     ]
    }
   ],
   "source": [
    "train_size = 2000\n",
    "X_train, X_test, y_train, y_test = train_test_split(X,y,train_size=train_size, test_size=10000, random_state=23)\n",
    "print('Train: %i, Test: %i' % (len(y_train), len(y_test)))\n",
    "kernel = 1.0*RBF()\n",
    "clf6 = GaussianProcessClassifier(kernel, n_restarts_optimizer=3, random_state=23, multi_class='one_vs_rest')\n",
    "%time clf6.fit(X_train, y_train)\n",
    "save_model(clf6, 'model6')\n",
    "%time score = clf6.score(X_test, y_test)\n",
    "print('Accuracy: %.3f' % score)"
   ]
  },
  {
   "cell_type": "markdown",
   "metadata": {},
   "source": [
    "## Multiclass classification (without \"Schieben\"): One vs. One"
   ]
  },
  {
   "cell_type": "code",
   "execution_count": 19,
   "metadata": {},
   "outputs": [
    {
     "name": "stdout",
     "output_type": "stream",
     "text": [
      "Train: 1000, Test: 10000\n",
      "CPU times: user 2min 58s, sys: 3min 14s, total: 6min 12s\n",
      "Wall time: 1min 2s\n",
      "CPU times: user 19.4 s, sys: 14.3 s, total: 33.7 s\n",
      "Wall time: 7.38 s\n",
      "Accuracy: 0.591\n"
     ]
    }
   ],
   "source": [
    "train_size = 1000\n",
    "X_train, X_test, y_train, y_test = train_test_split(X,y,train_size=train_size, test_size=10000, random_state=23)\n",
    "print('Train: %i, Test: %i' % (len(y_train), len(y_test)))\n",
    "kernel = 1.0*RBF()\n",
    "clf7 = GaussianProcessClassifier(kernel, n_restarts_optimizer=3, random_state=23, multi_class='one_vs_one')\n",
    "%time clf7.fit(X_train, y_train)\n",
    "save_model(clf7, 'model7')\n",
    "%time score = clf7.score(X_test, y_test)\n",
    "print('Accuracy: %.3f' % score)"
   ]
  },
  {
   "cell_type": "code",
   "execution_count": 18,
   "metadata": {},
   "outputs": [
    {
     "name": "stdout",
     "output_type": "stream",
     "text": [
      "Train: 2000, Test: 10000\n",
      "CPU times: user 11min, sys: 10min 38s, total: 21min 38s\n",
      "Wall time: 3min 38s\n",
      "CPU times: user 38 s, sys: 19.7 s, total: 57.7 s\n",
      "Wall time: 16.9 s\n",
      "Accuracy: 0.752\n"
     ]
    }
   ],
   "source": [
    "train_size = 2000\n",
    "X_train, X_test, y_train, y_test = train_test_split(X,y,train_size=train_size, test_size=10000, random_state=23)\n",
    "print('Train: %i, Test: %i' % (len(y_train), len(y_test)))\n",
    "kernel = 1.0*RBF()\n",
    "clf8 = GaussianProcessClassifier(kernel, n_restarts_optimizer=3, random_state=23, multi_class='one_vs_one')\n",
    "%time clf8.fit(X_train, y_train)\n",
    "save_model(clf8, 'model8')\n",
    "%time score = clf8.score(X_test, y_test)\n",
    "print('Accuracy: %.3f' % score)"
   ]
  }
 ],
 "metadata": {
  "kernelspec": {
   "display_name": "Python 3",
   "language": "python",
   "name": "python3"
  },
  "language_info": {
   "codemirror_mode": {
    "name": "ipython",
    "version": 3
   },
   "file_extension": ".py",
   "mimetype": "text/x-python",
   "name": "python",
   "nbconvert_exporter": "python",
   "pygments_lexer": "ipython3",
   "version": "3.6.8"
  }
 },
 "nbformat": 4,
 "nbformat_minor": 4
}
