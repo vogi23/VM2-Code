{
 "cells": [
  {
   "cell_type": "code",
   "execution_count": 14,
   "metadata": {},
   "outputs": [],
   "source": [
    "import numpy as np\n",
    "import scipy.linalg"
   ]
  },
  {
   "cell_type": "code",
   "execution_count": 18,
   "metadata": {},
   "outputs": [],
   "source": [
    "K = np.random.rand(10,10)\n",
    "Ks = np.random.rand(3,3)"
   ]
  },
  {
   "cell_type": "code",
   "execution_count": 19,
   "metadata": {},
   "outputs": [
    {
     "data": {
      "text/plain": [
       "array([[ 0.52051063, -0.42441478,  0.65563017, -0.227916  ],\n",
       "       [ 0.16593978,  0.21987995,  0.32934467, -0.38940932],\n",
       "       [-0.1625288 ,  0.02949121,  0.51636926,  0.08119824],\n",
       "       [ 0.30617154, -0.2116021 , -0.20815932,  0.37629497]])"
      ]
     },
     "execution_count": 19,
     "metadata": {},
     "output_type": "execute_result"
    }
   ],
   "source": [
    "np.matmul(scipy.linalg.inv(A1 + B1), A1)"
   ]
  },
  {
   "cell_type": "code",
   "execution_count": 23,
   "metadata": {},
   "outputs": [
    {
     "data": {
      "text/plain": [
       "array([[ 0.60890051,  0.41597145,  0.72646863, -1.45201144],\n",
       "       [ 0.77466324, -0.26436764, -0.61095527,  0.04852571],\n",
       "       [-0.3277075 ,  0.73459742,  1.60393782, -1.4556605 ],\n",
       "       [ 0.41070827, -0.27551819,  0.2677937 , -0.3154159 ]])"
      ]
     },
     "execution_count": 23,
     "metadata": {},
     "output_type": "execute_result"
    }
   ],
   "source": [
    "np.matmul(np.matmul(AB, scipy.linalg.inv(A + B)), A1)"
   ]
  },
  {
   "cell_type": "code",
   "execution_count": null,
   "metadata": {},
   "outputs": [],
   "source": []
  }
 ],
 "metadata": {
  "kernelspec": {
   "display_name": "Python 3",
   "language": "python",
   "name": "python3"
  },
  "language_info": {
   "codemirror_mode": {
    "name": "ipython",
    "version": 3
   },
   "file_extension": ".py",
   "mimetype": "text/x-python",
   "name": "python",
   "nbconvert_exporter": "python",
   "pygments_lexer": "ipython3",
   "version": "3.6.8"
  }
 },
 "nbformat": 4,
 "nbformat_minor": 4
}
