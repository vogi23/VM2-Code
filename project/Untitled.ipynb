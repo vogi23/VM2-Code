{
 "cells": [
  {
   "cell_type": "code",
   "execution_count": 1,
   "metadata": {
    "collapsed": true,
    "jupyter": {
     "outputs_hidden": true
    }
   },
   "outputs": [
    {
     "name": "stderr",
     "output_type": "stream",
     "text": [
      "/usr/local/lib/python3.7/site-packages/tensorflow/python/framework/dtypes.py:516: FutureWarning: Passing (type, 1) or '1type' as a synonym of type is deprecated; in a future version of numpy, it will be understood as (type, (1,)) / '(1,)type'.\n",
      "  _np_qint8 = np.dtype([(\"qint8\", np.int8, 1)])\n",
      "/usr/local/lib/python3.7/site-packages/tensorflow/python/framework/dtypes.py:517: FutureWarning: Passing (type, 1) or '1type' as a synonym of type is deprecated; in a future version of numpy, it will be understood as (type, (1,)) / '(1,)type'.\n",
      "  _np_quint8 = np.dtype([(\"quint8\", np.uint8, 1)])\n",
      "/usr/local/lib/python3.7/site-packages/tensorflow/python/framework/dtypes.py:518: FutureWarning: Passing (type, 1) or '1type' as a synonym of type is deprecated; in a future version of numpy, it will be understood as (type, (1,)) / '(1,)type'.\n",
      "  _np_qint16 = np.dtype([(\"qint16\", np.int16, 1)])\n",
      "/usr/local/lib/python3.7/site-packages/tensorflow/python/framework/dtypes.py:519: FutureWarning: Passing (type, 1) or '1type' as a synonym of type is deprecated; in a future version of numpy, it will be understood as (type, (1,)) / '(1,)type'.\n",
      "  _np_quint16 = np.dtype([(\"quint16\", np.uint16, 1)])\n",
      "/usr/local/lib/python3.7/site-packages/tensorflow/python/framework/dtypes.py:520: FutureWarning: Passing (type, 1) or '1type' as a synonym of type is deprecated; in a future version of numpy, it will be understood as (type, (1,)) / '(1,)type'.\n",
      "  _np_qint32 = np.dtype([(\"qint32\", np.int32, 1)])\n",
      "/usr/local/lib/python3.7/site-packages/tensorflow/python/framework/dtypes.py:525: FutureWarning: Passing (type, 1) or '1type' as a synonym of type is deprecated; in a future version of numpy, it will be understood as (type, (1,)) / '(1,)type'.\n",
      "  np_resource = np.dtype([(\"resource\", np.ubyte, 1)])\n",
      "/usr/local/lib/python3.7/site-packages/tensorboard/compat/tensorflow_stub/dtypes.py:541: FutureWarning: Passing (type, 1) or '1type' as a synonym of type is deprecated; in a future version of numpy, it will be understood as (type, (1,)) / '(1,)type'.\n",
      "  _np_qint8 = np.dtype([(\"qint8\", np.int8, 1)])\n",
      "/usr/local/lib/python3.7/site-packages/tensorboard/compat/tensorflow_stub/dtypes.py:542: FutureWarning: Passing (type, 1) or '1type' as a synonym of type is deprecated; in a future version of numpy, it will be understood as (type, (1,)) / '(1,)type'.\n",
      "  _np_quint8 = np.dtype([(\"quint8\", np.uint8, 1)])\n",
      "/usr/local/lib/python3.7/site-packages/tensorboard/compat/tensorflow_stub/dtypes.py:543: FutureWarning: Passing (type, 1) or '1type' as a synonym of type is deprecated; in a future version of numpy, it will be understood as (type, (1,)) / '(1,)type'.\n",
      "  _np_qint16 = np.dtype([(\"qint16\", np.int16, 1)])\n",
      "/usr/local/lib/python3.7/site-packages/tensorboard/compat/tensorflow_stub/dtypes.py:544: FutureWarning: Passing (type, 1) or '1type' as a synonym of type is deprecated; in a future version of numpy, it will be understood as (type, (1,)) / '(1,)type'.\n",
      "  _np_quint16 = np.dtype([(\"quint16\", np.uint16, 1)])\n",
      "/usr/local/lib/python3.7/site-packages/tensorboard/compat/tensorflow_stub/dtypes.py:545: FutureWarning: Passing (type, 1) or '1type' as a synonym of type is deprecated; in a future version of numpy, it will be understood as (type, (1,)) / '(1,)type'.\n",
      "  _np_qint32 = np.dtype([(\"qint32\", np.int32, 1)])\n",
      "/usr/local/lib/python3.7/site-packages/tensorboard/compat/tensorflow_stub/dtypes.py:550: FutureWarning: Passing (type, 1) or '1type' as a synonym of type is deprecated; in a future version of numpy, it will be understood as (type, (1,)) / '(1,)type'.\n",
      "  np_resource = np.dtype([(\"resource\", np.ubyte, 1)])\n"
     ]
    }
   ],
   "source": [
    "# TensorFlow and tf.keras\n",
    "import tensorflow as tf\n",
    "from tensorflow import keras\n",
    "\n",
    "# Helper libraries\n",
    "import numpy as np\n",
    "import matplotlib.pyplot as plt"
   ]
  },
  {
   "cell_type": "code",
   "execution_count": 66,
   "metadata": {},
   "outputs": [],
   "source": [
    "mnist = keras.datasets.mnist\n",
    "(X_train, y_train), (X_test, y_test) = mnist.load_data()\n",
    "X_train = X_train / 255.0\n",
    "X_test = X_test / 255.0\n",
    "\n",
    "X_train = X_train[0:500]\n",
    "y_train = y_train[0:500]"
   ]
  },
  {
   "cell_type": "code",
   "execution_count": 67,
   "metadata": {},
   "outputs": [],
   "source": [
    "model = keras.Sequential([\n",
    "    keras.layers.Flatten(input_shape=(28, 28)),\n",
    "    keras.layers.Dense(256, activation=tf.nn.relu),\n",
    "    keras.layers.Dense(10, activation=tf.nn.softmax)\n",
    "])"
   ]
  },
  {
   "cell_type": "code",
   "execution_count": 68,
   "metadata": {},
   "outputs": [],
   "source": [
    "model.compile(optimizer='adam',\n",
    "              loss='sparse_categorical_crossentropy',\n",
    "              metrics=['accuracy'])"
   ]
  },
  {
   "cell_type": "code",
   "execution_count": 69,
   "metadata": {},
   "outputs": [
    {
     "name": "stdout",
     "output_type": "stream",
     "text": [
      "Epoch 1/10\n",
      "500/500 [==============================] - 0s 165us/sample - loss: 1.7158 - acc: 0.5100\n",
      "Epoch 2/10\n",
      "500/500 [==============================] - 0s 133us/sample - loss: 0.7162 - acc: 0.8380\n",
      "Epoch 3/10\n",
      "500/500 [==============================] - 0s 146us/sample - loss: 0.4169 - acc: 0.8920\n",
      "Epoch 4/10\n",
      "500/500 [==============================] - 0s 115us/sample - loss: 0.2888 - acc: 0.9240\n",
      "Epoch 5/10\n",
      "500/500 [==============================] - 0s 129us/sample - loss: 0.2148 - acc: 0.9560\n",
      "Epoch 6/10\n",
      "500/500 [==============================] - 0s 134us/sample - loss: 0.1578 - acc: 0.9720\n",
      "Epoch 7/10\n",
      "500/500 [==============================] - 0s 139us/sample - loss: 0.1250 - acc: 0.9800\n",
      "Epoch 8/10\n",
      "500/500 [==============================] - 0s 131us/sample - loss: 0.0940 - acc: 0.9940\n",
      "Epoch 9/10\n",
      "500/500 [==============================] - 0s 118us/sample - loss: 0.0742 - acc: 0.9960\n",
      "Epoch 10/10\n",
      "500/500 [==============================] - 0s 135us/sample - loss: 0.0563 - acc: 1.0000\n"
     ]
    },
    {
     "data": {
      "text/plain": [
       "<tensorflow.python.keras.callbacks.History at 0x7f515e844160>"
      ]
     },
     "execution_count": 69,
     "metadata": {},
     "output_type": "execute_result"
    }
   ],
   "source": [
    "model.fit(X_train, y_train, epochs=10)"
   ]
  },
  {
   "cell_type": "code",
   "execution_count": 70,
   "metadata": {},
   "outputs": [
    {
     "name": "stdout",
     "output_type": "stream",
     "text": [
      "10000/10000 [==============================] - 1s 51us/sample - loss: 0.4957 - acc: 0.8483\n"
     ]
    },
    {
     "data": {
      "text/plain": [
       "[0.49566403232812883, 0.8483]"
      ]
     },
     "execution_count": 70,
     "metadata": {},
     "output_type": "execute_result"
    }
   ],
   "source": [
    "model.evaluate(X_test, y_test)"
   ]
  },
  {
   "cell_type": "code",
   "execution_count": 71,
   "metadata": {},
   "outputs": [],
   "source": [
    "from sklearn.neural_network import MLPClassifier\n",
    "X_train_flat = X_train.reshape((X_train.shape[0], -1))\n",
    "X_test_flat = X_test.reshape((X_test.shape[0], -1))"
   ]
  },
  {
   "cell_type": "code",
   "execution_count": 72,
   "metadata": {},
   "outputs": [
    {
     "name": "stdout",
     "output_type": "stream",
     "text": [
      "Train acc: 1.0000, Test acc: 0.8367\n",
      "CPU times: user 1.41 s, sys: 340 ms, total: 1.75 s\n",
      "Wall time: 880 ms\n"
     ]
    }
   ],
   "source": [
    "%%time\n",
    "clf = MLPClassifier(hidden_layer_sizes=(32,),learning_rate='adaptive', max_iter=1000)\n",
    "clf.fit(X_train_flat, y_train)\n",
    "print('Train acc: %.4f, Test acc: %.4f' % (clf.score(X_train_flat, y_train), clf.score(X_test_flat, y_test)))"
   ]
  },
  {
   "cell_type": "code",
   "execution_count": null,
   "metadata": {},
   "outputs": [],
   "source": []
  },
  {
   "cell_type": "code",
   "execution_count": 73,
   "metadata": {},
   "outputs": [],
   "source": [
    "from sklearn.gaussian_process import GaussianProcessClassifier\n",
    "from sklearn.gaussian_process.kernels import RBF"
   ]
  },
  {
   "cell_type": "code",
   "execution_count": 64,
   "metadata": {},
   "outputs": [
    {
     "name": "stdout",
     "output_type": "stream",
     "text": [
      "kernel hyperparameters:CompoundKernel(2.08, 2, 2.03, 2.06, 2.08, 2.11, 2.08, 2.08, 2.14, 2.08), logevidence: -120.46 \n",
      "CPU times: user 1min 10s, sys: 19.9 s, total: 1min 30s\n",
      "Wall time: 45.2 s\n"
     ]
    }
   ],
   "source": [
    "%%time\n",
    "kernel = RBF()\n",
    "train_size = 500\n",
    "gpc = GaussianProcessClassifier(kernel, random_state=23, n_restarts_optimizer=5)\n",
    "gpc.fit(X_train_flat[0:train_size], y_train[0:train_size])\n",
    "print('kernel hyperparameters:%s, logevidence: %.2f ' % (gpc.kernel_, gpc.log_marginal_likelihood_value_))"
   ]
  },
  {
   "cell_type": "code",
   "execution_count": 74,
   "metadata": {},
   "outputs": [
    {
     "name": "stdout",
     "output_type": "stream",
     "text": [
      "0.72\n",
      "0.688\n",
      "0.702\n",
      "0.706\n",
      "0.704\n"
     ]
    }
   ],
   "source": [
    "folds = 5\n",
    "batch= 1000\n",
    "for i in range(folds):\n",
    "    print(gpc.score(X_test_flat[i*batch:i*batch+batch], y_test[i*batch:i*batch+batch]))"
   ]
  },
  {
   "cell_type": "code",
   "execution_count": 79,
   "metadata": {},
   "outputs": [],
   "source": [
    "correct = np.equal(gpc.predict(X_test_flat[0:1000]), y_test[0:1000])"
   ]
  },
  {
   "cell_type": "code",
   "execution_count": 84,
   "metadata": {},
   "outputs": [
    {
     "data": {
      "text/plain": [
       "array([5, 9, 6, 5, 6, 2, 2, 5, 5, 5, 6, 5, 8, 3, 4, 6, 9, 2, 7, 8, 9, 7,\n",
       "       6, 9, 7, 4, 4, 2, 5, 4, 7, 5, 5, 2, 5, 6, 5, 4, 4, 2, 7, 8, 8, 5,\n",
       "       3, 4, 6, 5, 3, 6, 5, 3, 8, 7, 5, 9, 7, 2, 3, 4, 2, 4, 5, 2, 8, 6,\n",
       "       5, 8, 8, 7, 8, 4, 4, 4, 7, 9, 6, 5, 2, 5, 9, 2, 4, 2, 5, 8, 5, 6,\n",
       "       8, 5, 3, 5, 5, 5, 7, 2, 2, 5, 5, 7, 8, 8, 4, 3, 5, 3, 8, 2, 5, 7,\n",
       "       5, 8, 5, 0, 2, 6, 2, 2, 6, 8, 5, 6, 3, 7, 5, 5, 9, 5, 8, 5, 8, 4,\n",
       "       6, 9, 3, 5, 4, 2, 6, 3, 4, 8, 8, 3, 4, 2, 8, 5, 8, 8, 2, 7, 7, 0,\n",
       "       8, 6, 4, 6, 8, 3, 8, 5, 4, 8, 8, 6, 8, 5, 7, 8, 2, 2, 3, 5, 8, 2,\n",
       "       9, 3, 2, 5, 8, 5, 2, 2, 5, 7, 2, 0, 6, 7, 9, 9, 5, 7, 7, 8, 5, 4,\n",
       "       5, 4, 8, 0, 5, 2, 3, 6, 2, 4, 2, 4, 5, 4, 5, 7, 4, 5, 8, 5, 8, 5,\n",
       "       8, 3, 5, 8, 8, 5, 2, 4, 2, 2, 7, 6, 2, 8, 8, 5, 5, 5, 2, 8, 8, 8,\n",
       "       8, 4, 9, 2, 5, 7, 8, 4, 9, 8, 2, 2, 2, 2, 7, 4, 5, 5, 8, 6, 2, 6,\n",
       "       3, 7, 8, 7, 5, 6, 5, 4, 7, 6, 4, 5, 6, 2, 5, 8], dtype=uint8)"
      ]
     },
     "execution_count": 84,
     "metadata": {},
     "output_type": "execute_result"
    }
   ],
   "source": [
    "y_test[0:1000][correct == False]"
   ]
  },
  {
   "cell_type": "code",
   "execution_count": 86,
   "metadata": {},
   "outputs": [],
   "source": [
    "probas = gpc.predict_proba(X_test_flat[0:1000])"
   ]
  },
  {
   "cell_type": "code",
   "execution_count": 87,
   "metadata": {},
   "outputs": [
    {
     "data": {
      "text/plain": [
       "(1000, 10)"
      ]
     },
     "execution_count": 87,
     "metadata": {},
     "output_type": "execute_result"
    }
   ],
   "source": [
    "probas.shape"
   ]
  },
  {
   "cell_type": "code",
   "execution_count": null,
   "metadata": {},
   "outputs": [],
   "source": []
  }
 ],
 "metadata": {
  "kernelspec": {
   "display_name": "Python 3",
   "language": "python",
   "name": "python3"
  },
  "language_info": {
   "codemirror_mode": {
    "name": "ipython",
    "version": 3
   },
   "file_extension": ".py",
   "mimetype": "text/x-python",
   "name": "python",
   "nbconvert_exporter": "python",
   "pygments_lexer": "ipython3",
   "version": "3.7.0"
  }
 },
 "nbformat": 4,
 "nbformat_minor": 4
}
