{
 "cells": [
  {
   "cell_type": "code",
   "execution_count": 1,
   "metadata": {},
   "outputs": [
    {
     "name": "stderr",
     "output_type": "stream",
     "text": [
      "/usr/local/lib/python3.6/dist-packages/tensorflow/python/framework/dtypes.py:516: FutureWarning: Passing (type, 1) or '1type' as a synonym of type is deprecated; in a future version of numpy, it will be understood as (type, (1,)) / '(1,)type'.\n",
      "  _np_qint8 = np.dtype([(\"qint8\", np.int8, 1)])\n",
      "/usr/local/lib/python3.6/dist-packages/tensorflow/python/framework/dtypes.py:517: FutureWarning: Passing (type, 1) or '1type' as a synonym of type is deprecated; in a future version of numpy, it will be understood as (type, (1,)) / '(1,)type'.\n",
      "  _np_quint8 = np.dtype([(\"quint8\", np.uint8, 1)])\n",
      "/usr/local/lib/python3.6/dist-packages/tensorflow/python/framework/dtypes.py:518: FutureWarning: Passing (type, 1) or '1type' as a synonym of type is deprecated; in a future version of numpy, it will be understood as (type, (1,)) / '(1,)type'.\n",
      "  _np_qint16 = np.dtype([(\"qint16\", np.int16, 1)])\n",
      "/usr/local/lib/python3.6/dist-packages/tensorflow/python/framework/dtypes.py:519: FutureWarning: Passing (type, 1) or '1type' as a synonym of type is deprecated; in a future version of numpy, it will be understood as (type, (1,)) / '(1,)type'.\n",
      "  _np_quint16 = np.dtype([(\"quint16\", np.uint16, 1)])\n",
      "/usr/local/lib/python3.6/dist-packages/tensorflow/python/framework/dtypes.py:520: FutureWarning: Passing (type, 1) or '1type' as a synonym of type is deprecated; in a future version of numpy, it will be understood as (type, (1,)) / '(1,)type'.\n",
      "  _np_qint32 = np.dtype([(\"qint32\", np.int32, 1)])\n",
      "/usr/local/lib/python3.6/dist-packages/tensorflow/python/framework/dtypes.py:525: FutureWarning: Passing (type, 1) or '1type' as a synonym of type is deprecated; in a future version of numpy, it will be understood as (type, (1,)) / '(1,)type'.\n",
      "  np_resource = np.dtype([(\"resource\", np.ubyte, 1)])\n"
     ]
    },
    {
     "name": "stdout",
     "output_type": "stream",
     "text": [
      "WARNING:tensorflow:From /usr/local/lib/python3.6/dist-packages/gpflow/session_manager.py:31: The name tf.Session is deprecated. Please use tf.compat.v1.Session instead.\n",
      "\n"
     ]
    },
    {
     "name": "stderr",
     "output_type": "stream",
     "text": [
      "/usr/local/lib/python3.6/dist-packages/tensorboard/compat/tensorflow_stub/dtypes.py:541: FutureWarning: Passing (type, 1) or '1type' as a synonym of type is deprecated; in a future version of numpy, it will be understood as (type, (1,)) / '(1,)type'.\n",
      "  _np_qint8 = np.dtype([(\"qint8\", np.int8, 1)])\n",
      "/usr/local/lib/python3.6/dist-packages/tensorboard/compat/tensorflow_stub/dtypes.py:542: FutureWarning: Passing (type, 1) or '1type' as a synonym of type is deprecated; in a future version of numpy, it will be understood as (type, (1,)) / '(1,)type'.\n",
      "  _np_quint8 = np.dtype([(\"quint8\", np.uint8, 1)])\n",
      "/usr/local/lib/python3.6/dist-packages/tensorboard/compat/tensorflow_stub/dtypes.py:543: FutureWarning: Passing (type, 1) or '1type' as a synonym of type is deprecated; in a future version of numpy, it will be understood as (type, (1,)) / '(1,)type'.\n",
      "  _np_qint16 = np.dtype([(\"qint16\", np.int16, 1)])\n",
      "/usr/local/lib/python3.6/dist-packages/tensorboard/compat/tensorflow_stub/dtypes.py:544: FutureWarning: Passing (type, 1) or '1type' as a synonym of type is deprecated; in a future version of numpy, it will be understood as (type, (1,)) / '(1,)type'.\n",
      "  _np_quint16 = np.dtype([(\"quint16\", np.uint16, 1)])\n",
      "/usr/local/lib/python3.6/dist-packages/tensorboard/compat/tensorflow_stub/dtypes.py:545: FutureWarning: Passing (type, 1) or '1type' as a synonym of type is deprecated; in a future version of numpy, it will be understood as (type, (1,)) / '(1,)type'.\n",
      "  _np_qint32 = np.dtype([(\"qint32\", np.int32, 1)])\n",
      "/usr/local/lib/python3.6/dist-packages/tensorboard/compat/tensorflow_stub/dtypes.py:550: FutureWarning: Passing (type, 1) or '1type' as a synonym of type is deprecated; in a future version of numpy, it will be understood as (type, (1,)) / '(1,)type'.\n",
      "  np_resource = np.dtype([(\"resource\", np.ubyte, 1)])\n",
      "WARNING:tensorflow:From /usr/local/lib/python3.6/dist-packages/gpflow/session_manager.py:31: The name tf.Session is deprecated. Please use tf.compat.v1.Session instead.\n",
      "\n"
     ]
    },
    {
     "name": "stdout",
     "output_type": "stream",
     "text": [
      "WARNING:tensorflow:From /usr/local/lib/python3.6/dist-packages/gpflow/misc.py:27: The name tf.GraphKeys is deprecated. Please use tf.compat.v1.GraphKeys instead.\n",
      "\n"
     ]
    },
    {
     "name": "stderr",
     "output_type": "stream",
     "text": [
      "WARNING:tensorflow:From /usr/local/lib/python3.6/dist-packages/gpflow/misc.py:27: The name tf.GraphKeys is deprecated. Please use tf.compat.v1.GraphKeys instead.\n",
      "\n"
     ]
    },
    {
     "name": "stdout",
     "output_type": "stream",
     "text": [
      "WARNING:tensorflow:From /usr/local/lib/python3.6/dist-packages/gpflow/training/tensorflow_optimizer.py:169: The name tf.train.AdadeltaOptimizer is deprecated. Please use tf.compat.v1.train.AdadeltaOptimizer instead.\n",
      "\n"
     ]
    },
    {
     "name": "stderr",
     "output_type": "stream",
     "text": [
      "WARNING:tensorflow:From /usr/local/lib/python3.6/dist-packages/gpflow/training/tensorflow_optimizer.py:169: The name tf.train.AdadeltaOptimizer is deprecated. Please use tf.compat.v1.train.AdadeltaOptimizer instead.\n",
      "\n"
     ]
    },
    {
     "name": "stdout",
     "output_type": "stream",
     "text": [
      "WARNING:tensorflow:From /usr/local/lib/python3.6/dist-packages/gpflow/training/tensorflow_optimizer.py:156: The name tf.train.Optimizer is deprecated. Please use tf.compat.v1.train.Optimizer instead.\n",
      "\n"
     ]
    },
    {
     "name": "stderr",
     "output_type": "stream",
     "text": [
      "WARNING:tensorflow:From /usr/local/lib/python3.6/dist-packages/gpflow/training/tensorflow_optimizer.py:156: The name tf.train.Optimizer is deprecated. Please use tf.compat.v1.train.Optimizer instead.\n",
      "\n"
     ]
    },
    {
     "name": "stdout",
     "output_type": "stream",
     "text": [
      "WARNING:tensorflow:From /usr/local/lib/python3.6/dist-packages/gpflow/training/tensorflow_optimizer.py:169: The name tf.train.AdagradDAOptimizer is deprecated. Please use tf.compat.v1.train.AdagradDAOptimizer instead.\n",
      "\n"
     ]
    },
    {
     "name": "stderr",
     "output_type": "stream",
     "text": [
      "WARNING:tensorflow:From /usr/local/lib/python3.6/dist-packages/gpflow/training/tensorflow_optimizer.py:169: The name tf.train.AdagradDAOptimizer is deprecated. Please use tf.compat.v1.train.AdagradDAOptimizer instead.\n",
      "\n"
     ]
    },
    {
     "name": "stdout",
     "output_type": "stream",
     "text": [
      "WARNING:tensorflow:From /usr/local/lib/python3.6/dist-packages/gpflow/training/tensorflow_optimizer.py:169: The name tf.train.AdagradOptimizer is deprecated. Please use tf.compat.v1.train.AdagradOptimizer instead.\n",
      "\n"
     ]
    },
    {
     "name": "stderr",
     "output_type": "stream",
     "text": [
      "WARNING:tensorflow:From /usr/local/lib/python3.6/dist-packages/gpflow/training/tensorflow_optimizer.py:169: The name tf.train.AdagradOptimizer is deprecated. Please use tf.compat.v1.train.AdagradOptimizer instead.\n",
      "\n"
     ]
    },
    {
     "name": "stdout",
     "output_type": "stream",
     "text": [
      "WARNING:tensorflow:From /usr/local/lib/python3.6/dist-packages/gpflow/training/tensorflow_optimizer.py:169: The name tf.train.AdamOptimizer is deprecated. Please use tf.compat.v1.train.AdamOptimizer instead.\n",
      "\n"
     ]
    },
    {
     "name": "stderr",
     "output_type": "stream",
     "text": [
      "WARNING:tensorflow:From /usr/local/lib/python3.6/dist-packages/gpflow/training/tensorflow_optimizer.py:169: The name tf.train.AdamOptimizer is deprecated. Please use tf.compat.v1.train.AdamOptimizer instead.\n",
      "\n"
     ]
    },
    {
     "name": "stdout",
     "output_type": "stream",
     "text": [
      "WARNING:tensorflow:From /usr/local/lib/python3.6/dist-packages/gpflow/saver/coders.py:80: The name tf.data.Iterator is deprecated. Please use tf.compat.v1.data.Iterator instead.\n",
      "\n"
     ]
    },
    {
     "name": "stderr",
     "output_type": "stream",
     "text": [
      "WARNING:tensorflow:From /usr/local/lib/python3.6/dist-packages/gpflow/saver/coders.py:80: The name tf.data.Iterator is deprecated. Please use tf.compat.v1.data.Iterator instead.\n",
      "\n"
     ]
    }
   ],
   "source": [
    "import numpy as np\n",
    "import pandas as pd\n",
    "import gpflow\n",
    "import matplotlib.pyplot as plt\n",
    "\n",
    "from sklearn.model_selection import train_test_split\n",
    "\n",
    "from gpflow.test_util import notebook_niter"
   ]
  },
  {
   "cell_type": "code",
   "execution_count": 2,
   "metadata": {},
   "outputs": [
    {
     "data": {
      "text/html": [
       "<div>\n",
       "<style scoped>\n",
       "    .dataframe tbody tr th:only-of-type {\n",
       "        vertical-align: middle;\n",
       "    }\n",
       "\n",
       "    .dataframe tbody tr th {\n",
       "        vertical-align: top;\n",
       "    }\n",
       "\n",
       "    .dataframe thead th {\n",
       "        text-align: right;\n",
       "    }\n",
       "</style>\n",
       "<table border=\"1\" class=\"dataframe\">\n",
       "  <thead>\n",
       "    <tr style=\"text-align: right;\">\n",
       "      <th></th>\n",
       "      <th>H0</th>\n",
       "      <th>H1</th>\n",
       "      <th>H2</th>\n",
       "      <th>H3</th>\n",
       "      <th>H4</th>\n",
       "      <th>H5</th>\n",
       "      <th>H6</th>\n",
       "      <th>H7</th>\n",
       "      <th>H8</th>\n",
       "      <th>K0</th>\n",
       "      <th>...</th>\n",
       "      <th>E2</th>\n",
       "      <th>E3</th>\n",
       "      <th>E4</th>\n",
       "      <th>E5</th>\n",
       "      <th>E6</th>\n",
       "      <th>E7</th>\n",
       "      <th>E8</th>\n",
       "      <th>Geschoben</th>\n",
       "      <th>Player</th>\n",
       "      <th>Aktion</th>\n",
       "    </tr>\n",
       "  </thead>\n",
       "  <tbody>\n",
       "    <tr>\n",
       "      <th>0</th>\n",
       "      <td>0</td>\n",
       "      <td>0</td>\n",
       "      <td>1</td>\n",
       "      <td>0</td>\n",
       "      <td>0</td>\n",
       "      <td>0</td>\n",
       "      <td>1</td>\n",
       "      <td>0</td>\n",
       "      <td>0</td>\n",
       "      <td>1</td>\n",
       "      <td>...</td>\n",
       "      <td>0</td>\n",
       "      <td>0</td>\n",
       "      <td>0</td>\n",
       "      <td>0</td>\n",
       "      <td>1</td>\n",
       "      <td>0</td>\n",
       "      <td>0</td>\n",
       "      <td>1</td>\n",
       "      <td>1631</td>\n",
       "      <td>2</td>\n",
       "    </tr>\n",
       "    <tr>\n",
       "      <th>1</th>\n",
       "      <td>0</td>\n",
       "      <td>0</td>\n",
       "      <td>1</td>\n",
       "      <td>0</td>\n",
       "      <td>1</td>\n",
       "      <td>1</td>\n",
       "      <td>0</td>\n",
       "      <td>0</td>\n",
       "      <td>0</td>\n",
       "      <td>0</td>\n",
       "      <td>...</td>\n",
       "      <td>0</td>\n",
       "      <td>0</td>\n",
       "      <td>0</td>\n",
       "      <td>0</td>\n",
       "      <td>0</td>\n",
       "      <td>1</td>\n",
       "      <td>0</td>\n",
       "      <td>0</td>\n",
       "      <td>64310</td>\n",
       "      <td>6</td>\n",
       "    </tr>\n",
       "    <tr>\n",
       "      <th>2</th>\n",
       "      <td>0</td>\n",
       "      <td>0</td>\n",
       "      <td>0</td>\n",
       "      <td>0</td>\n",
       "      <td>0</td>\n",
       "      <td>0</td>\n",
       "      <td>0</td>\n",
       "      <td>0</td>\n",
       "      <td>1</td>\n",
       "      <td>0</td>\n",
       "      <td>...</td>\n",
       "      <td>0</td>\n",
       "      <td>0</td>\n",
       "      <td>0</td>\n",
       "      <td>0</td>\n",
       "      <td>1</td>\n",
       "      <td>0</td>\n",
       "      <td>1</td>\n",
       "      <td>0</td>\n",
       "      <td>16721</td>\n",
       "      <td>1</td>\n",
       "    </tr>\n",
       "    <tr>\n",
       "      <th>3</th>\n",
       "      <td>1</td>\n",
       "      <td>0</td>\n",
       "      <td>0</td>\n",
       "      <td>0</td>\n",
       "      <td>1</td>\n",
       "      <td>0</td>\n",
       "      <td>0</td>\n",
       "      <td>0</td>\n",
       "      <td>1</td>\n",
       "      <td>1</td>\n",
       "      <td>...</td>\n",
       "      <td>0</td>\n",
       "      <td>0</td>\n",
       "      <td>1</td>\n",
       "      <td>0</td>\n",
       "      <td>1</td>\n",
       "      <td>0</td>\n",
       "      <td>0</td>\n",
       "      <td>1</td>\n",
       "      <td>0</td>\n",
       "      <td>4</td>\n",
       "    </tr>\n",
       "    <tr>\n",
       "      <th>4</th>\n",
       "      <td>1</td>\n",
       "      <td>1</td>\n",
       "      <td>0</td>\n",
       "      <td>0</td>\n",
       "      <td>0</td>\n",
       "      <td>0</td>\n",
       "      <td>0</td>\n",
       "      <td>0</td>\n",
       "      <td>0</td>\n",
       "      <td>0</td>\n",
       "      <td>...</td>\n",
       "      <td>1</td>\n",
       "      <td>0</td>\n",
       "      <td>0</td>\n",
       "      <td>0</td>\n",
       "      <td>0</td>\n",
       "      <td>0</td>\n",
       "      <td>0</td>\n",
       "      <td>1</td>\n",
       "      <td>72620</td>\n",
       "      <td>4</td>\n",
       "    </tr>\n",
       "    <tr>\n",
       "      <th>...</th>\n",
       "      <td>...</td>\n",
       "      <td>...</td>\n",
       "      <td>...</td>\n",
       "      <td>...</td>\n",
       "      <td>...</td>\n",
       "      <td>...</td>\n",
       "      <td>...</td>\n",
       "      <td>...</td>\n",
       "      <td>...</td>\n",
       "      <td>...</td>\n",
       "      <td>...</td>\n",
       "      <td>...</td>\n",
       "      <td>...</td>\n",
       "      <td>...</td>\n",
       "      <td>...</td>\n",
       "      <td>...</td>\n",
       "      <td>...</td>\n",
       "      <td>...</td>\n",
       "      <td>...</td>\n",
       "      <td>...</td>\n",
       "      <td>...</td>\n",
       "    </tr>\n",
       "    <tr>\n",
       "      <th>161689</th>\n",
       "      <td>0</td>\n",
       "      <td>1</td>\n",
       "      <td>0</td>\n",
       "      <td>0</td>\n",
       "      <td>0</td>\n",
       "      <td>1</td>\n",
       "      <td>0</td>\n",
       "      <td>0</td>\n",
       "      <td>0</td>\n",
       "      <td>0</td>\n",
       "      <td>...</td>\n",
       "      <td>0</td>\n",
       "      <td>1</td>\n",
       "      <td>0</td>\n",
       "      <td>1</td>\n",
       "      <td>1</td>\n",
       "      <td>0</td>\n",
       "      <td>0</td>\n",
       "      <td>1</td>\n",
       "      <td>55942</td>\n",
       "      <td>3</td>\n",
       "    </tr>\n",
       "    <tr>\n",
       "      <th>161690</th>\n",
       "      <td>0</td>\n",
       "      <td>0</td>\n",
       "      <td>1</td>\n",
       "      <td>0</td>\n",
       "      <td>0</td>\n",
       "      <td>0</td>\n",
       "      <td>0</td>\n",
       "      <td>1</td>\n",
       "      <td>0</td>\n",
       "      <td>1</td>\n",
       "      <td>...</td>\n",
       "      <td>0</td>\n",
       "      <td>1</td>\n",
       "      <td>0</td>\n",
       "      <td>0</td>\n",
       "      <td>1</td>\n",
       "      <td>0</td>\n",
       "      <td>0</td>\n",
       "      <td>0</td>\n",
       "      <td>0</td>\n",
       "      <td>6</td>\n",
       "    </tr>\n",
       "    <tr>\n",
       "      <th>161691</th>\n",
       "      <td>0</td>\n",
       "      <td>0</td>\n",
       "      <td>0</td>\n",
       "      <td>0</td>\n",
       "      <td>0</td>\n",
       "      <td>0</td>\n",
       "      <td>1</td>\n",
       "      <td>0</td>\n",
       "      <td>0</td>\n",
       "      <td>0</td>\n",
       "      <td>...</td>\n",
       "      <td>0</td>\n",
       "      <td>0</td>\n",
       "      <td>1</td>\n",
       "      <td>1</td>\n",
       "      <td>0</td>\n",
       "      <td>1</td>\n",
       "      <td>0</td>\n",
       "      <td>0</td>\n",
       "      <td>0</td>\n",
       "      <td>3</td>\n",
       "    </tr>\n",
       "    <tr>\n",
       "      <th>161692</th>\n",
       "      <td>0</td>\n",
       "      <td>1</td>\n",
       "      <td>0</td>\n",
       "      <td>1</td>\n",
       "      <td>0</td>\n",
       "      <td>0</td>\n",
       "      <td>0</td>\n",
       "      <td>0</td>\n",
       "      <td>1</td>\n",
       "      <td>1</td>\n",
       "      <td>...</td>\n",
       "      <td>1</td>\n",
       "      <td>0</td>\n",
       "      <td>0</td>\n",
       "      <td>0</td>\n",
       "      <td>0</td>\n",
       "      <td>0</td>\n",
       "      <td>1</td>\n",
       "      <td>0</td>\n",
       "      <td>60659</td>\n",
       "      <td>6</td>\n",
       "    </tr>\n",
       "    <tr>\n",
       "      <th>161693</th>\n",
       "      <td>0</td>\n",
       "      <td>0</td>\n",
       "      <td>0</td>\n",
       "      <td>0</td>\n",
       "      <td>1</td>\n",
       "      <td>0</td>\n",
       "      <td>0</td>\n",
       "      <td>0</td>\n",
       "      <td>0</td>\n",
       "      <td>0</td>\n",
       "      <td>...</td>\n",
       "      <td>0</td>\n",
       "      <td>1</td>\n",
       "      <td>1</td>\n",
       "      <td>0</td>\n",
       "      <td>0</td>\n",
       "      <td>0</td>\n",
       "      <td>0</td>\n",
       "      <td>0</td>\n",
       "      <td>19345</td>\n",
       "      <td>3</td>\n",
       "    </tr>\n",
       "  </tbody>\n",
       "</table>\n",
       "<p>161694 rows × 39 columns</p>\n",
       "</div>"
      ],
      "text/plain": [
       "        H0  H1  H2  H3  H4  H5  H6  H7  H8  K0  ...  E2  E3  E4  E5  E6  E7  \\\n",
       "0        0   0   1   0   0   0   1   0   0   1  ...   0   0   0   0   1   0   \n",
       "1        0   0   1   0   1   1   0   0   0   0  ...   0   0   0   0   0   1   \n",
       "2        0   0   0   0   0   0   0   0   1   0  ...   0   0   0   0   1   0   \n",
       "3        1   0   0   0   1   0   0   0   1   1  ...   0   0   1   0   1   0   \n",
       "4        1   1   0   0   0   0   0   0   0   0  ...   1   0   0   0   0   0   \n",
       "...     ..  ..  ..  ..  ..  ..  ..  ..  ..  ..  ...  ..  ..  ..  ..  ..  ..   \n",
       "161689   0   1   0   0   0   1   0   0   0   0  ...   0   1   0   1   1   0   \n",
       "161690   0   0   1   0   0   0   0   1   0   1  ...   0   1   0   0   1   0   \n",
       "161691   0   0   0   0   0   0   1   0   0   0  ...   0   0   1   1   0   1   \n",
       "161692   0   1   0   1   0   0   0   0   1   1  ...   1   0   0   0   0   0   \n",
       "161693   0   0   0   0   1   0   0   0   0   0  ...   0   1   1   0   0   0   \n",
       "\n",
       "        E8  Geschoben  Player  Aktion  \n",
       "0        0          1    1631       2  \n",
       "1        0          0   64310       6  \n",
       "2        1          0   16721       1  \n",
       "3        0          1       0       4  \n",
       "4        0          1   72620       4  \n",
       "...     ..        ...     ...     ...  \n",
       "161689   0          1   55942       3  \n",
       "161690   0          0       0       6  \n",
       "161691   0          0       0       3  \n",
       "161692   1          0   60659       6  \n",
       "161693   0          0   19345       3  \n",
       "\n",
       "[161694 rows x 39 columns]"
      ]
     },
     "execution_count": 2,
     "metadata": {},
     "output_type": "execute_result"
    }
   ],
   "source": [
    "import itertools\n",
    "datafile = 'data/jass/rnd_01.csv'\n",
    "col_names = [a+str(b) for (a,b) in itertools.product([farbe for farbe in 'HKSE'], [bild for bild in range(9)])]+[\"Geschoben\", \"Player\", \"Aktion\"]\n",
    "data = pd.read_csv(datafile, header=None, names=col_names)\n",
    "data"
   ]
  },
  {
   "cell_type": "markdown",
   "metadata": {},
   "source": [
    "## Multiclass Classification (without _schieben_)"
   ]
  },
  {
   "cell_type": "code",
   "execution_count": 3,
   "metadata": {},
   "outputs": [
    {
     "data": {
      "image/png": "[encoded data removed]",
      "text/plain": [
       "<Figure size 432x288 with 1 Axes>"
      ]
     },
     "metadata": {
      "needs_background": "light"
     },
     "output_type": "display_data"
    }
   ],
   "source": [
    "# select subset of data\n",
    "target_classes = [0,1,2,3,4,5]\n",
    "num_classes = len(target_classes)\n",
    "zeroone = data[data['Aktion'].isin(target_classes)]\n",
    "zeroone = zeroone.drop(columns='Player')\n",
    "X = zeroone.loc[:,'H0':'Geschoben'].values.astype(float)\n",
    "y = zeroone.loc[:,'Aktion']\n",
    "D = X.shape[1]\n",
    "# print distribution over classes\n",
    "y.value_counts().sort_index().plot(kind='bar');\n",
    "y = y.values.astype(float).reshape(-1,1)"
   ]
  },
  {
   "cell_type": "markdown",
   "metadata": {},
   "source": [
    "## Function to evaluate and save a model"
   ]
  },
  {
   "cell_type": "code",
   "execution_count": 4,
   "metadata": {},
   "outputs": [],
   "source": [
    "import pathlib\n",
    "def evaluate(X_train, y_train, kernel, kernel_args, n_classes, inducing_every, ftol=1e-10, name=None, path='./models/07_Jass_GPFlow_multi/', overwrite=False):\n",
    "    \n",
    "    if not name is None:\n",
    "        _path = pathlib.Path(path)\n",
    "        if not _path.is_dir():\n",
    "            raise Exception('path to store model does not exist: %s' % path)\n",
    "        _file = pathlib.Path(path+name)\n",
    "        if _file.exists():\n",
    "            if overwrite:\n",
    "                _file.unlink()\n",
    "            else:\n",
    "                print('%s already trained... continue' % (str(path+name)))\n",
    "                return\n",
    "    # clear default tensorflow graph/session from previous trainings/predictions\n",
    "    gpflow.reset_default_graph_and_session()\n",
    "    \n",
    "    kern = kernel(**kernel_args)\n",
    "    \n",
    "    print('Evaluating kernel: '+kern.name + ' (' + name+ ')')\n",
    "    print('Datasets: Train: %i (%i inducing variables)' % (len(y_train), len(y_train)//inducing_every))\n",
    "    \n",
    "    \n",
    "    #model\n",
    "    invlink = gpflow.likelihoods.RobustMax(n_classes) # Robustmax inverse link function\n",
    "    likelihood = gpflow.likelihoods.MultiClass(n_classes, invlink=invlink)  # Multiclass likelihood\n",
    "\n",
    "    Z = X_train[::inducing_every].copy()\n",
    "    m = gpflow.models.SVGP(\n",
    "        X_train, y_train, kern=kern, likelihood=likelihood,\n",
    "        Z=Z, num_latent=num_classes, whiten=True, q_diag=True)\n",
    "    \n",
    "    # train\n",
    "    opt = gpflow.train.ScipyOptimizer(options={'maxls': 30,'ftol':ftol, 'disp':False})\n",
    "    opt.minimize(m, maxiter=notebook_niter(8000))\n",
    "    \n",
    "    # save model\n",
    "    if not name is None:\n",
    "        saver = gpflow.saver.Saver()\n",
    "        saver.save(path+name, m)"
   ]
  },
  {
   "cell_type": "code",
   "execution_count": 5,
   "metadata": {},
   "outputs": [],
   "source": [
    "def load_model(name, path='./models/07_Jass_GPFlow_multi/'):\n",
    "    gpflow.reset_default_graph_and_session()\n",
    "    return gpflow.saver.Saver().load(path+name)\n",
    "\n",
    "def accuracy(m, X, y):\n",
    "    return np.equal(y.reshape(-1), np.argmax(m.predict_y(X)[0], axis=1)).mean()\n",
    "\n",
    "def create_name(name, train_size, inducing_every):\n",
    "    return name+'_'+str(train_size)+'_'+str(train_size//inducing_every)"
   ]
  },
  {
   "cell_type": "markdown",
   "metadata": {},
   "source": [
    "# Baseline using Squared Exponential on 500/250 training samples"
   ]
  },
  {
   "cell_type": "code",
   "execution_count": 7,
   "metadata": {},
   "outputs": [],
   "source": [
    "# prepare data\n",
    "_train_size = 500\n",
    "_test_size = 10000\n",
    "_inducing_every = 2\n",
    "X_train, X_test, y_train, y_test = train_test_split(X,y,train_size=_train_size, test_size=_test_size, random_state=23)    "
   ]
  },
  {
   "cell_type": "code",
   "execution_count": 8,
   "metadata": {},
   "outputs": [
    {
     "name": "stdout",
     "output_type": "stream",
     "text": [
      "CPU times: user 0 ns, sys: 0 ns, total: 0 ns\n",
      "Wall time: 5.72 µs\n",
      "./models/07_Jass_GPFlow_multi/rbf_500_250 already trained... continue\n"
     ]
    }
   ],
   "source": [
    "# traind and save\n",
    "%time\n",
    "_name = create_name('rbf', _train_size, _inducing_every)\n",
    "r = evaluate(\n",
    "     X_train=X_train,\n",
    "     y_train=y_train,\n",
    "     kernel= gpflow.kernels.RBF,\n",
    "     kernel_args = {'input_dim': D},\n",
    "     n_classes=num_classes,\n",
    "     inducing_every=_inducing_every,\n",
    "     name=_name, overwrite=False)"
   ]
  },
  {
   "cell_type": "code",
   "execution_count": 10,
   "metadata": {},
   "outputs": [
    {
     "name": "stdout",
     "output_type": "stream",
     "text": [
      "./models/07_Jass_GPFlow_multi/rbf_500_250\n",
      "Log Marginal Likelihood: -947.93\n",
      "Test Accuracy: 0.69\n"
     ]
    }
   ],
   "source": [
    "# load and predict metrics\n",
    "m = load_model(_name)\n",
    "print('Log Marginal Likelihood: %.2f\\nTest Accuracy: %.2f' % (m.compute_log_likelihood(), accuracy(m, X_test, y_test)))"
   ]
  },
  {
   "cell_type": "markdown",
   "metadata": {},
   "source": [
    "# Testing Multiple Kernels "
   ]
  },
  {
   "cell_type": "code",
   "execution_count": 22,
   "metadata": {},
   "outputs": [],
   "source": [
    "kernels = {\n",
    "    'rbf' : (gpflow.kernels.RBF, {'input_dim' : D}),\n",
    "    'rbf_ard' : (gpflow.kernels.RBF, {'input_dim' : D, 'ARD':True}),\n",
    "    'mat52' : (gpflow.kernels.Matern52, {'input_dim' : D}),\n",
    "    'mat32' : (gpflow.kernels.Matern32, {'input_dim' : D}),\n",
    "    'linear' : (gpflow.kernels.Linear, {'input_dim' : D}),\n",
    "    'linear_ard' : (gpflow.kernels.Linear, {'input_dim' : D, 'ARD':True}),\n",
    "    'arccosine' : (gpflow.kernels.ArcCosine, {'input_dim' : D}),\n",
    "    'rq' : (gpflow.kernels.RationalQuadratic, {'input_dim' : D})\n",
    "}"
   ]
  },
  {
   "cell_type": "code",
   "execution_count": 23,
   "metadata": {},
   "outputs": [],
   "source": [
    "# prepare data\n",
    "_train_size = 500\n",
    "_test_size = 10000\n",
    "_inducing_every = 2\n",
    "X_train, X_test, y_train, y_test = train_test_split(X,y,train_size=_train_size, test_size=_test_size, random_state=23)    "
   ]
  },
  {
   "cell_type": "code",
   "execution_count": 24,
   "metadata": {},
   "outputs": [
    {
     "name": "stdout",
     "output_type": "stream",
     "text": [
      "./models/07_Jass_GPFlow_multi/rbf_500_250 already trained... continue\n",
      "./models/07_Jass_GPFlow_multi/rbf_ard_500_250 already trained... continue\n",
      "./models/07_Jass_GPFlow_multi/mat52_500_250 already trained... continue\n",
      "./models/07_Jass_GPFlow_multi/mat32_500_250 already trained... continue\n",
      "./models/07_Jass_GPFlow_multi/linear_500_250 already trained... continue\n",
      "./models/07_Jass_GPFlow_multi/linear_ard_500_250 already trained... continue\n",
      "./models/07_Jass_GPFlow_multi/arccosine_500_250 already trained... continue\n",
      "./models/07_Jass_GPFlow_multi/rq_500_250 already trained... continue\n"
     ]
    }
   ],
   "source": [
    "# traind and save\n",
    "for name, kernel in kernels.items():\n",
    "    _name = create_name(name, _train_size, _inducing_every)\n",
    "    r = evaluate(\n",
    "         X_train=X_train,\n",
    "         y_train=y_train,\n",
    "         kernel= kernel[0],\n",
    "         kernel_args= kernel[1],\n",
    "         n_classes=num_classes,\n",
    "         inducing_every=_inducing_every,\n",
    "         name=_name)"
   ]
  },
  {
   "cell_type": "code",
   "execution_count": 25,
   "metadata": {},
   "outputs": [
    {
     "name": "stdout",
     "output_type": "stream",
     "text": [
      "rbf_500_250\n",
      "Log Marginal Likelihood: -947.93\n",
      "Train Accuracy: 0.96\n",
      "Test Accuracy: 0.69\n",
      "\n",
      "rbf_ard_500_250\n",
      "Log Marginal Likelihood: -917.86\n",
      "Train Accuracy: 0.97\n",
      "Test Accuracy: 0.69\n",
      "\n",
      "mat52_500_250\n",
      "Log Marginal Likelihood: -949.60\n",
      "Train Accuracy: 0.94\n",
      "Test Accuracy: 0.68\n",
      "\n",
      "mat32_500_250\n",
      "Log Marginal Likelihood: -1007.74\n",
      "Train Accuracy: 0.94\n",
      "Test Accuracy: 0.69\n",
      "\n",
      "linear_500_250\n",
      "Log Marginal Likelihood: -914.09\n",
      "Train Accuracy: 0.91\n",
      "Test Accuracy: 0.66\n",
      "\n",
      "linear_ard_500_250\n",
      "Log Marginal Likelihood: -887.05\n",
      "Train Accuracy: 0.90\n",
      "Test Accuracy: 0.65\n",
      "\n",
      "arccosine_500_250\n",
      "Log Marginal Likelihood: -2363.56\n",
      "Train Accuracy: 0.64\n",
      "Test Accuracy: 0.54\n",
      "\n",
      "rq_500_250\n",
      "Log Marginal Likelihood: -954.65\n",
      "Train Accuracy: 0.95\n",
      "Test Accuracy: 0.69\n",
      "\n"
     ]
    }
   ],
   "source": [
    "for name, kernel in kernels.items():\n",
    "    _name = name+'_'+str(_train_size)+'_'+str(_train_size//_inducing_every)\n",
    "    m = load_model(_name)\n",
    "    print('%s\\nLog Marginal Likelihood: %.2f\\nTrain Accuracy: %.2f\\nTest Accuracy: %.2f\\n' % (_name, m.compute_log_likelihood(), accuracy(m, X_train,y_train), accuracy(m, X_test,y_test)))"
   ]
  },
  {
   "cell_type": "markdown",
   "metadata": {},
   "source": [
    "## Linear (ARD) and RBF (ARD) on 1000/333 training samples"
   ]
  },
  {
   "cell_type": "code",
   "execution_count": 26,
   "metadata": {},
   "outputs": [],
   "source": [
    "# prepare data\n",
    "_train_size = 1000\n",
    "_test_size = 10000\n",
    "_inducing_every = 3\n",
    "X_train, X_test, y_train, y_test = train_test_split(X,y,train_size=_train_size, test_size=_test_size, random_state=23)  "
   ]
  },
  {
   "cell_type": "code",
   "execution_count": 27,
   "metadata": {},
   "outputs": [],
   "source": [
    "kernels = {\n",
    "    'rbf_ard' : (gpflow.kernels.RBF, {'input_dim' : D, 'ARD':True}),\n",
    "    'linear_ard' : (gpflow.kernels.Linear, {'input_dim' : D, 'ARD':True})\n",
    "}"
   ]
  },
  {
   "cell_type": "code",
   "execution_count": 28,
   "metadata": {},
   "outputs": [
    {
     "name": "stdout",
     "output_type": "stream",
     "text": [
      "./models/07_Jass_GPFlow_multi/rbf_ard_1000_333 already trained... continue\n",
      "./models/07_Jass_GPFlow_multi/linear_ard_1000_333 already trained... continue\n"
     ]
    }
   ],
   "source": [
    "# traind and save\n",
    "for name, kernel in kernels.items():\n",
    "    _name = create_name(name, _train_size, _inducing_every)\n",
    "    r = evaluate(\n",
    "         X_train=X_train,\n",
    "         y_train=y_train,\n",
    "         kernel= kernel[0],\n",
    "         kernel_args= kernel[1],\n",
    "         n_classes=num_classes,\n",
    "         inducing_every=_inducing_every,\n",
    "         name=_name)"
   ]
  },
  {
   "cell_type": "code",
   "execution_count": 29,
   "metadata": {},
   "outputs": [
    {
     "name": "stdout",
     "output_type": "stream",
     "text": [
      "rbf_ard_1000_333\n",
      "Log Marginal Likelihood: -1660.61\n",
      "Train Accuracy: 0.95\n",
      "Test Accuracy: 0.72\n",
      "\n",
      "linear_ard_1000_333\n",
      "Log Marginal Likelihood: -1766.03\n",
      "Train Accuracy: 0.87\n",
      "Test Accuracy: 0.68\n",
      "\n"
     ]
    }
   ],
   "source": [
    "for name, kernel in kernels.items():\n",
    "    _name = name+'_'+str(_train_size)+'_'+str(_train_size//_inducing_every)\n",
    "    m = load_model(_name)\n",
    "    print('%s\\nLog Marginal Likelihood: %.2f\\nTrain Accuracy: %.2f\\nTest Accuracy: %.2f\\n' % (_name, m.compute_log_likelihood(), accuracy(m, X_train,y_train), accuracy(m, X_test,y_test)))"
   ]
  },
  {
   "cell_type": "markdown",
   "metadata": {},
   "source": [
    "## RBF (ARD) on 2000/500 training samples"
   ]
  },
  {
   "cell_type": "code",
   "execution_count": 40,
   "metadata": {},
   "outputs": [],
   "source": [
    "# prepare data\n",
    "_train_size = 2000\n",
    "_test_size = 10000\n",
    "_inducing_every = 4\n",
    "X_train, X_test, y_train, y_test = train_test_split(X,y,train_size=_train_size, test_size=_test_size, random_state=23)  "
   ]
  },
  {
   "cell_type": "code",
   "execution_count": 41,
   "metadata": {},
   "outputs": [],
   "source": [
    "kernels = {\n",
    "    'rbf_ard' : (gpflow.kernels.RBF, {'input_dim' : D, 'ARD':True})\n",
    "}"
   ]
  },
  {
   "cell_type": "code",
   "execution_count": 42,
   "metadata": {},
   "outputs": [
    {
     "name": "stdout",
     "output_type": "stream",
     "text": [
      "./models/07_Jass_GPFlow_multi/rbf_ard_2000_500 already trained... continue\n"
     ]
    }
   ],
   "source": [
    "# traind and save\n",
    "for name, kernel in kernels.items():\n",
    "    _name = create_name(name, _train_size, _inducing_every)\n",
    "    r = evaluate(\n",
    "         X_train=X_train,\n",
    "         y_train=y_train,\n",
    "         kernel= kernel[0],\n",
    "         kernel_args= kernel[1],\n",
    "         n_classes=num_classes,\n",
    "         inducing_every=_inducing_every,\n",
    "         name=_name)"
   ]
  },
  {
   "cell_type": "code",
   "execution_count": 43,
   "metadata": {},
   "outputs": [
    {
     "name": "stdout",
     "output_type": "stream",
     "text": [
      "rbf_ard_2000_500\n",
      "Log Marginal Likelihood: -3006.32\n",
      "Train Accuracy: 0.94\n",
      "Test Accuracy: 0.74\n",
      "\n"
     ]
    }
   ],
   "source": [
    "for name, kernel in kernels.items():\n",
    "    _name = name+'_'+str(_train_size)+'_'+str(_train_size//_inducing_every)\n",
    "    m = load_model(_name)\n",
    "    print('%s\\nLog Marginal Likelihood: %.2f\\nTrain Accuracy: %.2f\\nTest Accuracy: %.2f\\n' % (_name, m.compute_log_likelihood(), accuracy(m, X_train,y_train), accuracy(m, X_test,y_test)))"
   ]
  },
  {
   "cell_type": "markdown",
   "metadata": {},
   "source": [
    "## RBF (ARD) on 4000/500 training samples"
   ]
  },
  {
   "cell_type": "code",
   "execution_count": 34,
   "metadata": {},
   "outputs": [],
   "source": [
    "# prepare data\n",
    "_train_size = 4000\n",
    "_test_size = 10000\n",
    "_inducing_every = 8\n",
    "X_train, X_test, y_train, y_test = train_test_split(X,y,train_size=_train_size, test_size=_test_size, random_state=23)  "
   ]
  },
  {
   "cell_type": "code",
   "execution_count": 35,
   "metadata": {},
   "outputs": [],
   "source": [
    "kernels = {\n",
    "    'rbf_ard' : (gpflow.kernels.RBF, {'input_dim' : D, 'ARD':True})\n",
    "}"
   ]
  },
  {
   "cell_type": "code",
   "execution_count": 37,
   "metadata": {},
   "outputs": [
    {
     "name": "stdout",
     "output_type": "stream",
     "text": [
      "Evaluating kernel: SquaredExponential (rbf_ard_4000_500)\n",
      "Datasets: Train: 4000 (500 inducing variables)\n",
      "INFO:tensorflow:Optimization terminated with:\n",
      "  Message: b'STOP: TOTAL NO. of ITERATIONS REACHED LIMIT'\n",
      "  Objective function value: 5990.350781\n",
      "  Number of iterations: 8000\n",
      "  Number of functions evaluations: 8518\n"
     ]
    },
    {
     "name": "stderr",
     "output_type": "stream",
     "text": [
      "INFO:tensorflow:Optimization terminated with:\n",
      "  Message: b'STOP: TOTAL NO. of ITERATIONS REACHED LIMIT'\n",
      "  Objective function value: 5990.350781\n",
      "  Number of iterations: 8000\n",
      "  Number of functions evaluations: 8518\n"
     ]
    },
    {
     "name": "stdout",
     "output_type": "stream",
     "text": [
      "CPU times: user 3h 50min 17s, sys: 1h 34min 8s, total: 5h 24min 25s\n",
      "Wall time: 1h 16min 35s\n"
     ]
    },
    {
     "name": "stderr",
     "output_type": "stream",
     "text": [
      "/usr/local/lib/python3.6/dist-packages/gpflow/saver/serializers.py:37: H5pyDeprecationWarning: The default file mode will change to 'r' (read-only) in h5py 3.0. To suppress this warning, pass the mode you need to h5py.File(), or set the global default h5.get_config().default_file_mode, or set the environment variable H5PY_DEFAULT_READONLY=1. Available modes are: 'r', 'r+', 'w', 'w-'/'x', 'a'. See the docs for details.\n",
      "  with h5py.File(pathname_or_file_like) as h5file:\n"
     ]
    }
   ],
   "source": [
    "%%time\n",
    "# traind and save\n",
    "for name, kernel in kernels.items():\n",
    "    _name = create_name(name, _train_size, _inducing_every)\n",
    "    r = evaluate(\n",
    "         X_train=X_train,\n",
    "         y_train=y_train,\n",
    "         kernel= kernel[0],\n",
    "         kernel_args= kernel[1],\n",
    "         n_classes=num_classes,\n",
    "         inducing_every=_inducing_every,\n",
    "         name=_name)"
   ]
  },
  {
   "cell_type": "code",
   "execution_count": 39,
   "metadata": {},
   "outputs": [
    {
     "name": "stdout",
     "output_type": "stream",
     "text": [
      "rbf_ard_4000_500\n",
      "Log Marginal Likelihood: -5987.75\n",
      "Train Accuracy: 0.92\n",
      "Test Accuracy: 0.76\n",
      "\n"
     ]
    }
   ],
   "source": [
    "for name, kernel in kernels.items():\n",
    "    _name = name+'_'+str(_train_size)+'_'+str(_train_size//_inducing_every)\n",
    "    m = load_model(_name)\n",
    "    print('%s\\nLog Marginal Likelihood: %.2f\\nTrain Accuracy: %.2f\\nTest Accuracy: %.2f\\n' % (_name, m.compute_log_likelihood(), accuracy(m, X_train,y_train), accuracy(m, X_test,y_test)))"
   ]
  },
  {
   "cell_type": "markdown",
   "metadata": {},
   "source": [
    "## RBF (ARD) on plain 4000 training samples (no inducing points)\n",
    "\n",
    "Trained on google colab GPU engine with 16G Memory (took 5h25 / 3h30 wall time)"
   ]
  },
  {
   "cell_type": "code",
   "execution_count": 6,
   "metadata": {},
   "outputs": [],
   "source": [
    "# prepare data\n",
    "_train_size = 4000\n",
    "_test_size = 10000\n",
    "_inducing_every = None\n",
    "X_train, X_test, y_train, y_test = train_test_split(X,y,train_size=_train_size, test_size=_test_size, random_state=23)  "
   ]
  },
  {
   "cell_type": "code",
   "execution_count": 8,
   "metadata": {},
   "outputs": [
    {
     "name": "stdout",
     "output_type": "stream",
     "text": [
      "WARNING:tensorflow:From /usr/local/lib/python3.6/dist-packages/tensorflow/python/ops/math_ops.py:3743: add_dispatch_support.<locals>.wrapper (from tensorflow.python.ops.array_ops) is deprecated and will be removed in a future version.\n",
      "Instructions for updating:\n",
      "Use tf.where in 2.0, which has the same broadcast rule as np.where\n"
     ]
    },
    {
     "name": "stderr",
     "output_type": "stream",
     "text": [
      "WARNING:tensorflow:From /usr/local/lib/python3.6/dist-packages/tensorflow/python/ops/math_ops.py:3743: add_dispatch_support.<locals>.wrapper (from tensorflow.python.ops.array_ops) is deprecated and will be removed in a future version.\n",
      "Instructions for updating:\n",
      "Use tf.where in 2.0, which has the same broadcast rule as np.where\n"
     ]
    },
    {
     "name": "stdout",
     "output_type": "stream",
     "text": [
      "WARNING:tensorflow:From /usr/local/lib/python3.6/dist-packages/tensorflow/python/ops/math_ops.py:3744: setdiff1d (from tensorflow.python.ops.array_ops) is deprecated and will be removed after 2018-11-30.\n",
      "Instructions for updating:\n",
      "This op will be removed after the deprecation date. Please switch to tf.sets.difference().\n"
     ]
    },
    {
     "name": "stderr",
     "output_type": "stream",
     "text": [
      "WARNING:tensorflow:From /usr/local/lib/python3.6/dist-packages/tensorflow/python/ops/math_ops.py:3744: setdiff1d (from tensorflow.python.ops.array_ops) is deprecated and will be removed after 2018-11-30.\n",
      "Instructions for updating:\n",
      "This op will be removed after the deprecation date. Please switch to tf.sets.difference().\n"
     ]
    },
    {
     "name": "stdout",
     "output_type": "stream",
     "text": [
      "rbf_ard_4000\n",
      "Log Marginal Likelihood: -4571.78\n",
      "Train Accuracy: 0.98\n",
      "Test Accuracy: 0.75\n",
      "\n"
     ]
    }
   ],
   "source": [
    "m = load_model(_name)\n",
    "_name = 'rbf_ard_4000'\n",
    "print('%s\\nLog Marginal Likelihood: %.2f\\nTrain Accuracy: %.2f\\nTest Accuracy: %.2f\\n' % (_name, m.compute_log_likelihood(), accuracy(m, X_train,y_train), accuracy(m, X_test,y_test)))"
   ]
  },
  {
   "cell_type": "markdown",
   "metadata": {},
   "source": [
    "## RBF (ARD) on 10000/3333 training samples"
   ]
  },
  {
   "cell_type": "code",
   "execution_count": 6,
   "metadata": {},
   "outputs": [],
   "source": [
    "# prepare data\n",
    "_train_size = 10000\n",
    "_test_size = 10000\n",
    "_inducing_every = 3\n",
    "X_train, X_test, y_train, y_test = train_test_split(X,y,train_size=_train_size, test_size=_test_size, random_state=23)  "
   ]
  },
  {
   "cell_type": "code",
   "execution_count": 7,
   "metadata": {},
   "outputs": [],
   "source": [
    "kernels = {\n",
    "    'rbf_ard' : (gpflow.kernels.RBF, {'input_dim' : D, 'ARD':True})\n",
    "}"
   ]
  },
  {
   "cell_type": "code",
   "execution_count": 8,
   "metadata": {},
   "outputs": [
    {
     "name": "stdout",
     "output_type": "stream",
     "text": [
      "WARNING:tensorflow:From /usr/local/lib/python3.6/dist-packages/gpflow/session_manager.py:95: The name tf.reset_default_graph is deprecated. Please use tf.compat.v1.reset_default_graph instead.\n",
      "\n"
     ]
    },
    {
     "name": "stderr",
     "output_type": "stream",
     "text": [
      "WARNING:tensorflow:From /usr/local/lib/python3.6/dist-packages/gpflow/session_manager.py:95: The name tf.reset_default_graph is deprecated. Please use tf.compat.v1.reset_default_graph instead.\n",
      "\n"
     ]
    },
    {
     "name": "stdout",
     "output_type": "stream",
     "text": [
      "WARNING:tensorflow:From /usr/local/lib/python3.6/dist-packages/gpflow/session_manager.py:111: The name tf.ConfigProto is deprecated. Please use tf.compat.v1.ConfigProto instead.\n",
      "\n"
     ]
    },
    {
     "name": "stderr",
     "output_type": "stream",
     "text": [
      "WARNING:tensorflow:From /usr/local/lib/python3.6/dist-packages/gpflow/session_manager.py:111: The name tf.ConfigProto is deprecated. Please use tf.compat.v1.ConfigProto instead.\n",
      "\n"
     ]
    },
    {
     "name": "stdout",
     "output_type": "stream",
     "text": [
      "WARNING:tensorflow:From /usr/local/lib/python3.6/dist-packages/gpflow/core/node.py:109: The name tf.get_default_graph is deprecated. Please use tf.compat.v1.get_default_graph instead.\n",
      "\n"
     ]
    },
    {
     "name": "stderr",
     "output_type": "stream",
     "text": [
      "WARNING:tensorflow:From /usr/local/lib/python3.6/dist-packages/gpflow/core/node.py:109: The name tf.get_default_graph is deprecated. Please use tf.compat.v1.get_default_graph instead.\n",
      "\n"
     ]
    },
    {
     "name": "stdout",
     "output_type": "stream",
     "text": [
      "Evaluating kernel: SquaredExponential (rbf_ard_10000_3333)\n",
      "Datasets: Train: 10000 (3333 inducing variables)\n",
      "WARNING:tensorflow:From /usr/local/lib/python3.6/dist-packages/tensorflow/python/ops/math_ops.py:3743: add_dispatch_support.<locals>.wrapper (from tensorflow.python.ops.array_ops) is deprecated and will be removed in a future version.\n",
      "Instructions for updating:\n",
      "Use tf.where in 2.0, which has the same broadcast rule as np.where\n"
     ]
    },
    {
     "name": "stderr",
     "output_type": "stream",
     "text": [
      "WARNING:tensorflow:From /usr/local/lib/python3.6/dist-packages/tensorflow/python/ops/math_ops.py:3743: add_dispatch_support.<locals>.wrapper (from tensorflow.python.ops.array_ops) is deprecated and will be removed in a future version.\n",
      "Instructions for updating:\n",
      "Use tf.where in 2.0, which has the same broadcast rule as np.where\n"
     ]
    },
    {
     "name": "stdout",
     "output_type": "stream",
     "text": [
      "WARNING:tensorflow:From /usr/local/lib/python3.6/dist-packages/tensorflow/python/ops/math_ops.py:3744: setdiff1d (from tensorflow.python.ops.array_ops) is deprecated and will be removed after 2018-11-30.\n",
      "Instructions for updating:\n",
      "This op will be removed after the deprecation date. Please switch to tf.sets.difference().\n"
     ]
    },
    {
     "name": "stderr",
     "output_type": "stream",
     "text": [
      "WARNING:tensorflow:From /usr/local/lib/python3.6/dist-packages/tensorflow/python/ops/math_ops.py:3744: setdiff1d (from tensorflow.python.ops.array_ops) is deprecated and will be removed after 2018-11-30.\n",
      "Instructions for updating:\n",
      "This op will be removed after the deprecation date. Please switch to tf.sets.difference().\n"
     ]
    },
    {
     "name": "stdout",
     "output_type": "stream",
     "text": [
      "INFO:tensorflow:Optimization terminated with:\n",
      "  Message: b'CONVERGENCE: REL_REDUCTION_OF_F_<=_FACTR*EPSMCH'\n",
      "  Objective function value: 21775.320796\n",
      "  Number of iterations: 19\n",
      "  Number of functions evaluations: 24\n"
     ]
    },
    {
     "name": "stderr",
     "output_type": "stream",
     "text": [
      "INFO:tensorflow:Optimization terminated with:\n",
      "  Message: b'CONVERGENCE: REL_REDUCTION_OF_F_<=_FACTR*EPSMCH'\n",
      "  Objective function value: 21775.320796\n",
      "  Number of iterations: 19\n",
      "  Number of functions evaluations: 24\n",
      "/usr/local/lib/python3.6/dist-packages/gpflow/saver/serializers.py:37: H5pyDeprecationWarning: The default file mode will change to 'r' (read-only) in h5py 3.0. To suppress this warning, pass the mode you need to h5py.File(), or set the global default h5.get_config().default_file_mode, or set the environment variable H5PY_DEFAULT_READONLY=1. Available modes are: 'r', 'r+', 'w', 'w-'/'x', 'a'. See the docs for details.\n",
      "  with h5py.File(pathname_or_file_like) as h5file:\n"
     ]
    },
    {
     "name": "stdout",
     "output_type": "stream",
     "text": [
      "CPU times: user 29min 49s, sys: 2min 43s, total: 32min 32s\n",
      "Wall time: 9min 42s\n"
     ]
    }
   ],
   "source": [
    "%%time\n",
    "# traind and save\n",
    "for name, kernel in kernels.items():\n",
    "    _name = create_name(name, _train_size, _inducing_every)\n",
    "    r = evaluate(\n",
    "         X_train=X_train,\n",
    "         y_train=y_train,\n",
    "         kernel= kernel[0],\n",
    "         kernel_args= kernel[1],\n",
    "         n_classes=num_classes,\n",
    "         inducing_every=_inducing_every,\n",
    "         ftol=1e-2,\n",
    "         name=_name, overwrite=False)"
   ]
  },
  {
   "cell_type": "code",
   "execution_count": 9,
   "metadata": {},
   "outputs": [
    {
     "name": "stderr",
     "output_type": "stream",
     "text": [
      "/usr/local/lib/python3.6/dist-packages/gpflow/saver/serializers.py:46: H5pyDeprecationWarning: The default file mode will change to 'r' (read-only) in h5py 3.0. To suppress this warning, pass the mode you need to h5py.File(), or set the global default h5.get_config().default_file_mode, or set the environment variable H5PY_DEFAULT_READONLY=1. Available modes are: 'r', 'r+', 'w', 'w-'/'x', 'a'. See the docs for details.\n",
      "  with h5py.File(pathname_or_file_like) as h5file:\n",
      "/usr/local/lib/python3.6/dist-packages/gpflow/saver/serializers.py:47: H5pyDeprecationWarning: dataset.value has been deprecated. Use dataset[()] instead.\n",
      "  return h5file['data'].value\n"
     ]
    },
    {
     "name": "stdout",
     "output_type": "stream",
     "text": [
      "rbf_ard_10000_3333\n",
      "Log Marginal Likelihood: -21772.72\n",
      "Train Accuracy: 0.86\n",
      "Test Accuracy: 0.78\n",
      "\n"
     ]
    }
   ],
   "source": [
    "for name, kernel in kernels.items():\n",
    "    _name = name+'_'+str(_train_size)+'_'+str(_train_size//_inducing_every)\n",
    "    m = load_model(_name)\n",
    "    print('%s\\nLog Marginal Likelihood: %.2f\\nTrain Accuracy: %.2f\\nTest Accuracy: %.2f\\n' % (_name, m.compute_log_likelihood(), accuracy(m, X_train,y_train), accuracy(m, X_test,y_test)))"
   ]
  },
  {
   "cell_type": "code",
   "execution_count": 10,
   "metadata": {},
   "outputs": [
    {
     "data": {
      "text/html": [
       "<div>\n",
       "<style scoped>\n",
       "    .dataframe tbody tr th:only-of-type {\n",
       "        vertical-align: middle;\n",
       "    }\n",
       "\n",
       "    .dataframe tbody tr th {\n",
       "        vertical-align: top;\n",
       "    }\n",
       "\n",
       "    .dataframe thead th {\n",
       "        text-align: right;\n",
       "    }\n",
       "</style>\n",
       "<table border=\"1\" class=\"dataframe\">\n",
       "  <thead>\n",
       "    <tr style=\"text-align: right;\">\n",
       "      <th></th>\n",
       "      <th>class</th>\n",
       "      <th>prior</th>\n",
       "      <th>transform</th>\n",
       "      <th>trainable</th>\n",
       "      <th>shape</th>\n",
       "      <th>fixed_shape</th>\n",
       "      <th>value</th>\n",
       "    </tr>\n",
       "  </thead>\n",
       "  <tbody>\n",
       "    <tr>\n",
       "      <th>SVGP/feature/Z</th>\n",
       "      <td>Parameter</td>\n",
       "      <td>None</td>\n",
       "      <td>(none)</td>\n",
       "      <td>True</td>\n",
       "      <td>(3334, 37)</td>\n",
       "      <td>True</td>\n",
       "      <td>[[-0.10186714396959033, -0.0916649495089933, -...</td>\n",
       "    </tr>\n",
       "    <tr>\n",
       "      <th>SVGP/kern/lengthscales</th>\n",
       "      <td>Parameter</td>\n",
       "      <td>None</td>\n",
       "      <td>+ve</td>\n",
       "      <td>True</td>\n",
       "      <td>(37,)</td>\n",
       "      <td>True</td>\n",
       "      <td>[1.7341127563389915, 2.013325683785977, 3.0182...</td>\n",
       "    </tr>\n",
       "    <tr>\n",
       "      <th>SVGP/kern/variance</th>\n",
       "      <td>Parameter</td>\n",
       "      <td>None</td>\n",
       "      <td>+ve</td>\n",
       "      <td>True</td>\n",
       "      <td>()</td>\n",
       "      <td>True</td>\n",
       "      <td>1.00002</td>\n",
       "    </tr>\n",
       "    <tr>\n",
       "      <th>SVGP/likelihood/invlink/epsilon</th>\n",
       "      <td>Parameter</td>\n",
       "      <td>Beta(0.2,5.0)</td>\n",
       "      <td>[0.0, 1.0]</td>\n",
       "      <td>False</td>\n",
       "      <td>()</td>\n",
       "      <td>True</td>\n",
       "      <td>0.001</td>\n",
       "    </tr>\n",
       "    <tr>\n",
       "      <th>SVGP/q_mu</th>\n",
       "      <td>Parameter</td>\n",
       "      <td>None</td>\n",
       "      <td>(none)</td>\n",
       "      <td>True</td>\n",
       "      <td>(3334, 6)</td>\n",
       "      <td>True</td>\n",
       "      <td>[[-0.363561478157793, -0.20394840817350926, 2....</td>\n",
       "    </tr>\n",
       "    <tr>\n",
       "      <th>SVGP/q_sqrt</th>\n",
       "      <td>Parameter</td>\n",
       "      <td>None</td>\n",
       "      <td>+ve</td>\n",
       "      <td>True</td>\n",
       "      <td>(3334, 6)</td>\n",
       "      <td>True</td>\n",
       "      <td>[[0.6480639597281871, 0.6755443780881283, 0.65...</td>\n",
       "    </tr>\n",
       "  </tbody>\n",
       "</table>\n",
       "</div>"
      ],
      "text/plain": [
       "<gpflow.models.svgp.SVGP at 0x7f0f445d52b0>"
      ]
     },
     "execution_count": 10,
     "metadata": {},
     "output_type": "execute_result"
    }
   ],
   "source": [
    "m"
   ]
  },
  {
   "cell_type": "code",
   "execution_count": 12,
   "metadata": {},
   "outputs": [
    {
     "data": {
      "text/plain": [
       "<BarContainer object of 37 artists>"
      ]
     },
     "execution_count": 12,
     "metadata": {},
     "output_type": "execute_result"
    },
    {
     "data": {
      "image/png": "[encoded data removed]",
      "text/plain": [
       "<Figure size 432x288 with 1 Axes>"
      ]
     },
     "metadata": {
      "needs_background": "light"
     },
     "output_type": "display_data"
    }
   ],
   "source": [
    "ls = m.kern.lengthscales.value\n",
    "plt.bar(np.arange(len(ls)), ls)"
   ]
  },
  {
   "cell_type": "code",
   "execution_count": null,
   "metadata": {},
   "outputs": [],
   "source": []
  }
 ],
 "metadata": {
  "kernelspec": {
   "display_name": "Python 3",
   "language": "python",
   "name": "python3"
  },
  "language_info": {
   "codemirror_mode": {
    "name": "ipython",
    "version": 3
   },
   "file_extension": ".py",
   "mimetype": "text/x-python",
   "name": "python",
   "nbconvert_exporter": "python",
   "pygments_lexer": "ipython3",
   "version": "3.6.8"
  }
 },
 "nbformat": 4,
 "nbformat_minor": 4
}
